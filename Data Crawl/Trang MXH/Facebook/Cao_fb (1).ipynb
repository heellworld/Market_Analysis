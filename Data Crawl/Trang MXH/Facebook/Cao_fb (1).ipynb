{
 "cells": [
  {
   "cell_type": "code",
   "execution_count": 1,
   "id": "c1fc55b9",
   "metadata": {},
   "outputs": [],
   "source": [
    "from requests import get #gửi yêu cầu HTTP và lấy dữ liệu\n",
    "\n",
    "import pandas as pd # xử lý dữ liệu, biểu đồ\n",
    "import numpy as np\n",
    "\n",
    "from time import sleep # thao tác với thời gian\n",
    "from random import randint\n",
    "\n",
    "from time import time\n",
    "from warnings import warn # xóa dòng đỏ cảnh báo\n",
    "\n",
    "from datetime import datetime\n",
    "from datetime import timedelta\n",
    "\n",
    "from selenium import webdriver # Lấy dữ liệu từ trang web bằng việc điều khiển trình duyệt ảo\n",
    "from selenium.webdriver.chrome.service import Service as ChromeService\n",
    "from webdriver_manager.chrome import ChromeDriverManager\n",
    "from selenium.webdriver.common.keys import Keys\n",
    "from selenium.webdriver.support.ui import WebDriverWait\n",
    "from selenium.webdriver.support import expected_conditions as EC\n",
    "from selenium.webdriver.common.by import By\n",
    "from selenium.common.exceptions import TimeoutException, NoSuchElementException, ElementNotInteractableException\n",
    "from selenium.webdriver.common.action_chains import ActionChains\n",
    "\n",
    "import re # thao tác với chuỗi\n",
    "import os #thao tác với hệ điều hành\n",
    "import sys\n",
    "\n",
    "import requests\n",
    "\n",
    "import glob\n",
    "import shutil\n",
    "from pathlib import Path"
   ]
  },
  {
   "cell_type": "markdown",
   "id": "001e1715",
   "metadata": {},
   "source": [
    "# Thiết lập trình duyệt Chrome"
   ]
  },
  {
   "cell_type": "code",
   "execution_count": 2,
   "id": "5836dea8",
   "metadata": {},
   "outputs": [],
   "source": [
    "#1. Thiết lập tùy chọn cho trình duyệt Chrome\n",
    "options = webdriver.ChromeOptions() #(Khi khởi tạo xong, đối tượng ChromeOptions sẽ trả về các tùy chọn mặc định của Chrome)\n",
    "#Thêm tùy chọn\n",
    "options.add_argument('--ignore-certificate-errors') #Bỏ qua lỗi chứng chỉ SSL/TLS, cho phép truy cập các trang sử dụng chứng chỉ không hợp lệ.\n",
    "options.add_argument('--incognito') #Mở trang ẩn danh, không lưu trữ dữ liệu\n",
    "options.add_argument('--window-size=860,1080') #Định kích thước cửa sổ theo chiều rộng, cao.\n",
    "options.add_argument('--disable-notifications') #Tắt thông báo pop-up.\n",
    "options.add_argument('--disable-infobars') #Tắt thanh thông tin."
   ]
  },
  {
   "cell_type": "markdown",
   "id": "2b2dc047",
   "metadata": {},
   "source": [
    "# Get driver đến trang web cần crawl"
   ]
  },
  {
   "cell_type": "code",
   "execution_count": 3,
   "id": "5d729f85",
   "metadata": {},
   "outputs": [],
   "source": [
    "\n",
    "#2. Khởi tạo WebDriver cho Chrome với các tùy chọn đã được thiết lập trong options\n",
    "driver = webdriver.Chrome(service=ChromeService(ChromeDriverManager().install()), options=options)\n",
    "                        #Tự động cập nhập trình điều khiển Chrome mới nhất\n",
    "#3. Đăng nhập và truy cập vào trang/ group\n",
    " #ĐỢI PHẦN TỬ XUẤT HIỆN\n",
    "#3.1. Vào trang/ group\n",
    "url = 'https://www.facebook.com/dueconfessionsofficial'\n",
    "driver.get(url)\n",
    "wait = WebDriverWait(driver, 5)\n"
   ]
  },
  {
   "cell_type": "markdown",
   "id": "f8262198",
   "metadata": {},
   "source": [
    "# Điền thông tin đăng nhập"
   ]
  },
  {
   "cell_type": "code",
   "execution_count": 4,
   "id": "e2c796d5",
   "metadata": {},
   "outputs": [],
   "source": [
    "#3.2. Điền thông tin vào ô user và pass\n",
    "txtuser = wait.until(EC.presence_of_element_located((By.CSS_SELECTOR, '#login_popup_cta_form > div > div > div > label > div > div > input'))) # chờ đến khi fb hiện element (hạn chế dùng XPATH vì hay thay đổi)\n",
    "txtuser.send_keys(\"minhthu.250302@gmail.com\") # điền user\n",
    "\n",
    "txtpass = driver.find_element(By.CSS_SELECTOR,'#login_popup_cta_form > div > div:nth-child(4) > div > label > div > div > input')\n",
    "txtpass.send_keys(\"quenmatkhau\") # điền pass\n",
    "\n",
    "login_in_selector = \"#login_popup_cta_form > div > div:nth-child(5) > div\"\n",
    "login_in_button = driver.find_element(By.CSS_SELECTOR,login_in_selector)\n",
    "login_in_button.click() # click vào nút đăng nhập\n",
    "# txtpass.send_keys(Keys.ENTER) #Log in\n",
    "#(nếu bị yêu cầu đăng nhập hay xác nhận thì đổi mk --> chạy lại)"
   ]
  },
  {
   "cell_type": "code",
   "execution_count": 5,
   "id": "b15d3e42",
   "metadata": {},
   "outputs": [],
   "source": [
    "driver.execute_script(\"window.scrollTo(0, 1000)\") #cuộn \n",
    "\n",
    "action = ActionChains(driver) #Khởi tạo ActionChains để thực hiện các hành động trên trình duyệt\n",
    "item_list=[]\n",
    "# Tìm và click vào [? bình luận] --> hiển thị bài viết\n",
    "show_comment_selector = \"div > div:nth-child(1) > div > div > div > div > div > div > div > div > div > div > div > div > div:nth-child(3) > div:nth-child({post_index}) > div > div > div > div > div > div > div > div > div > div > div:nth-child(8) > div > div > div:nth-child(4) > div > div > div:nth-child(1) > div > div > div > div > div:nth-child(2) > span > div > div > div:nth-child(1) > span\"\n",
    "show_comment_selector = show_comment_selector.format(post_index=1)\n",
    "comment_button =driver.find_element(By.CSS_SELECTOR,show_comment_selector)\n",
    "sleep(1)\n",
    "action.click(comment_button).perform()"
   ]
  },
  {
   "cell_type": "code",
   "execution_count": 6,
   "id": "b3b06761",
   "metadata": {},
   "outputs": [
    {
     "name": "stdout",
     "output_type": "stream",
     "text": [
      "['Đa tạ anh Mark chưa cho em bay page, em xin gửi tặng anh tất cả đống deadline này']\n"
     ]
    }
   ],
   "source": [
    "# Lấy người đăng, giờ, nội dung post\n",
    "see_more_button_selector = \"div > div:nth-child(1) > div > div:nth-child(5) > div > div > div > div > div > div > div > div > div > div > div > div > div > div > div > div:nth-child(1) > div > div > div > div > div > div > div > div > div > div > div:nth-child(8) > div > div > div:nth-child(3) > div > div > div > div > span > div > div > div\"\n",
    "els = driver.find_elements(By.CSS_SELECTOR,see_more_button_selector)\n",
    "if len(els) > 0:\n",
    "    el = els[-1]\n",
    "    el.click()\n",
    "\n",
    "# Nội dung\n",
    "post_selector = \"div > div:nth-child(1) > div > div:nth-child(5) > div > div > div > div > div > div > div > div > div > div > div > div > div > div > div > div:nth-child(1) > div > div > div > div > div > div > div > div > div > div > div:nth-child(8) > div > div > div:nth-child(3) > div > div > div > div > span\"\n",
    "post_selector2 = \"div > div > div:nth-child(1) > div > div:nth-child(5) > div > div > div > div > div > div > div > div > div > div > div > div > div > div > div > div:nth-child(1) > div > div > div > div > div > div > div > div > div > div > div:nth-child(8) > div > div > div:nth-child(3) > div > div > div > div > div\"\n",
    "All_post = driver.find_elements(By.CSS_SELECTOR, post_selector)\n",
    "All_post += driver.find_elements(By.CSS_SELECTOR, post_selector2)\n",
    "result = []\n",
    "for i in range(len(All_post)):\n",
    "    if All_post[i].text != \"\":\n",
    "        result.append(All_post[i].text)\n",
    "print(result)"
   ]
  },
  {
   "cell_type": "code",
   "execution_count": 7,
   "id": "9313be30",
   "metadata": {},
   "outputs": [
    {
     "name": "stdout",
     "output_type": "stream",
     "text": [
      "Thứ Ba, 5 Tháng 3, 2024 lúc 23:25\n"
     ]
    }
   ],
   "source": [
    "time_hover_selector = \"body > div > div > div:nth-child(1) > div > div:nth-child(5) > div > div > div > div > div > div > div > div > div > div > div > div > div > div > div > div:nth-child(1) > div > div > div > div > div > div > div > div > div > div > div:nth-child(8) > div > div > div:nth-child(2) > div > div > div > div:nth-child(2) > span > span > span:nth-child(2) > span > a\"\n",
    "time_selector = \"body > div > div > div:nth-child(1) > div > div:nth-child(5) > div > div > div > div > div:nth-child(3) > div > div > div > div > span\"\n",
    "action = ActionChains(driver)\n",
    "\n",
    "action.move_to_element(driver.find_element(By.CSS_SELECTOR, time_hover_selector)).perform()\n",
    "sleep(2)\n",
    "time = driver.find_element(By.CSS_SELECTOR, time_selector)\n",
    "print(time.text)"
   ]
  },
  {
   "cell_type": "code",
   "execution_count": 8,
   "id": "37916222",
   "metadata": {},
   "outputs": [
    {
     "name": "stdout",
     "output_type": "stream",
     "text": [
      "Tất cả, 125\n",
      "Haha, 82\n",
      "Thích, 39\n",
      "Buồn, 3\n",
      "Yêu thích, 1\n"
     ]
    }
   ],
   "source": [
    "emoji_button_selector = \"div > div:nth-child(1) > div > div:nth-child(5) > div > div > div > div > div > div > div > div > div > div > div > div > div > div > div > div > div > div:nth-child(1) > div > div > div > div > span > span > span > span > span > div > img\"\n",
    "emoji_button = driver.find_elements(By.CSS_SELECTOR, emoji_button_selector)\n",
    "# print(len(emoji_button))\n",
    "emoji_button[0].click()\n",
    "\n",
    "is_result = False\n",
    "for step in range(5):\n",
    "    emoji_selector = \"div > div:nth-child(1) > div > div:nth-child(5) > div > div:nth-child(2) > div > div > div > div > div > div > div > div > div > div > div > div > div > div > div > div > div\"\n",
    "    emojis = driver.find_elements(By.CSS_SELECTOR, emoji_selector)\n",
    "\n",
    "    for emoji in emojis[1:]:\n",
    "        info  = emoji.get_attribute(\"aria-label\")\n",
    "        if info: # Nó không phải là None\n",
    "            if \",\" in emoji.get_attribute(\"aria-label\"): # Nếu có dấu phẩy\n",
    "                print(emoji.get_attribute(\"aria-label\"))\n",
    "                is_result = True\n",
    "    if is_result:\n",
    "        break\n",
    "    else:\n",
    "        sleep(1)\n",
    "\n",
    "emoji_pop_up_closer_selector = \"div > div > div:nth-child(1) > div > div:nth-child(5) > div > div:nth-child(2) > div > div > div > div > div > div > div > div > div > div > div > div > div > svg\"\n",
    "emoji_pop_up_closer = driver.find_element(By.CSS_SELECTOR, emoji_pop_up_closer_selector)\n",
    "emoji_pop_up_closer.click()\n"
   ]
  },
  {
   "cell_type": "code",
   "execution_count": 9,
   "id": "17d9bbdc",
   "metadata": {},
   "outputs": [
    {
     "name": "stdout",
     "output_type": "stream",
     "text": [
      "4\n",
      "a1b1c3 xin chào\n",
      "vát bôn\n",
      "Miinh Hằnngg chê nha\n",
      "Anh chờ ê\n"
     ]
    }
   ],
   "source": [
    "# Click vào xem tất cả comment\n",
    "els = driver.find_elements(By.CSS_SELECTOR, \"div > div:nth-child(1) > div > div:nth-child(5) > div > div > div > div > div > div > div > div > div > div > div > div > div > div > div > div > div > div > div > div > div > span\")\n",
    "els[0].click()\n",
    "sleep(1)\n",
    "els = driver.find_elements(By.CSS_SELECTOR, \"div > div > div:nth-child(1) > div > div:nth-child(5) > div > div > div > div > div:nth-child(3) > div > div > div > div > div > div > div > div > div > div > div > div > div:nth-child(3) > div > div > div:nth-child(1) > span\")\n",
    "els[0].click()\n",
    "sleep(5)\n",
    "\n",
    "# Xem tất cả comment\n",
    "while True:\n",
    "    chaps = driver.find_elements(By.CSS_SELECTOR, \"div > div:nth-child(2) > div > div > div > div > span > span\")\n",
    "    chaps += driver.find_elements(By.CSS_SELECTOR, \"div > div:nth-child(2) > div > div > div > span > span\")\n",
    "    chapters = []\n",
    "\n",
    "    for chap in chaps:\n",
    "        # try except -> lỗi kệ nó :)) cứ chạy là được\n",
    "        try:\n",
    "            if \"phản hồi\" in chap.text:\n",
    "                chap.click()\n",
    "                chapters.append(chap)\n",
    "        except Exception as e:\n",
    "            pass\n",
    "    sleep(1)\n",
    "    if len(chapters) == 0:\n",
    "        break\n",
    "# Lấy comment\n",
    "comment_box_selector = \"body > div > div > div:nth-child(1) > div > div:nth-child(5) > div > div > div > div > div:nth-child(2) > div > div > div > div > div > div > div:nth-child(2) > div:nth-child(2) > div > div > div:nth-child(2) > div > div:nth-child(2) > div:nth-child(3)\"\n",
    "comment_box = driver.find_element(By.CSS_SELECTOR,comment_box_selector)\n",
    "comment_selector = \"div > div > div > div > div:nth-child(1) > div > div > div > div > div > div:nth-child(2) > span\"\n",
    "comments = comment_box.find_elements(By.CSS_SELECTOR,comment_selector)\n",
    "print(len(comments))\n",
    "for comment in comments:\n",
    "    print(comment.text)"
   ]
  },
  {
   "cell_type": "code",
   "execution_count": null,
   "id": "a19044fd",
   "metadata": {},
   "outputs": [],
   "source": [
    "xemthem_button = driver.find_element(By.,\"#\\:rip\\: > div > div > span > div.x11i5rnm.xat24cr.x1mh8g0r.x1vvkbs.xtlvy1s.x126k92a > div > div\")\n",
    "sleep(randint(2,5))\n",
    "action.click(xemthem_button).perform()"
   ]
  },
  {
   "cell_type": "code",
   "execution_count": null,
   "id": "7a546f07",
   "metadata": {},
   "outputs": [
    {
     "name": "stdout",
     "output_type": "stream",
     "text": [
      "['Xem thêm\\nTất cả\\n113\\n90\\n41\\n3\\n1\\nNguyễn Tiên\\nTheo dõi\\nHữu Toàn\\nThêm bạn bè\\nHoàng Bảo\\nThêm bạn bè\\nXuân Nữ\\nThêm bạn bè\\nLinh Hà\\nThêm bạn bè\\nKim Dung\\nHoàng Thị Thu Phương\\nThêm bạn bè\\nLâm Thanh\\nThêm bạn bè\\nĐặng Nguyễn Bình Nguyên\\nThêm bạn bè\\nLưu Tổng Trung\\nThêm bạn bè\\nLâm Xuân Khánh\\nThêm bạn bè\\nĐan Khánh\\nThêm bạn bè\\nTrần Thất Bách\\nThêm bạn bè\\nHồng Dương\\nTheo dõi\\nThanh Ngân\\nNhật Tuấn\\nThêm bạn bè\\nKim Chi\\nThêm bạn bè\\nCao Chi\\nThêm bạn bè\\nLê Thanh Trà\\nThêm bạn bè\\nPhạm Trung\\nThêm bạn bè\\nGiang Trần\\nThêm bạn bè\\nNguyen Nguyen\\nThêm bạn bè\\nQuỳnh Trúc Lê\\nThêm bạn bè\\nLê Dung\\nThêm bạn bè\\nNguyễn Quang Huyy\\nThêm bạn bè\\nNgô Thanh Nhớ\\nThêm bạn bè\\nTrương Minh Anh\\nThêm bạn bè\\nKhánh Linh\\nThêm bạn bè\\nTrần Thị Giang\\nThêm bạn bè\\nTường Vy\\nThêm bạn bè\\nHoàng Vy\\nThêm bạn bè\\nThanh Hien\\nThêm bạn bè\\nHân Trần\\nThêm bạn bè\\nTrần Quỳnh\\nThêm bạn bè\\nThư Lương\\nThêm bạn bè\\nNguyễn Thị Nguyệt\\nThêm bạn bè\\nDang Thanhtrung\\nThêm bạn bè\\nHà Yến Nhi\\nThêm bạn bè\\nThuý Hiền.\\nThêm bạn bè\\nLương Thiên Thân\\nThêm bạn bè\\nBảo Chi Dương\\nThêm bạn bè\\nThành Trung\\nThêm bạn bè\\nVõ Nguyễn Kiều Trinh\\nThêm bạn bè\\nYến Nhi\\nThêm bạn bè\\nThanh Thảo\\nThêm bạn bè\\nQuỳnh Như\\nTheo dõi\\nBảo Tâm\\nThêm bạn bè\\nPhan Ngọc Nhật Hồng\\nThêm bạn bè\\nNgọc Hanh\\nThêm bạn bè\\nTrần Lê Mỹ Duyên\\nThêm bạn bè\\nNhưÝ Nguyễn\\nThêm bạn bè\\nMinh Han\\nThêm bạn bè\\nCảnh Ngô Thị\\nThêm bạn bè\\nHồ An\\nThêm bạn bè\\nHà Quỳnh Nhi\\nThêm bạn bè\\nLinh Linh\\nThêm bạn bè\\nTú Nguyễn\\nThêm bạn bè\\nNhi Nhi\\nThêm bạn bè\\nNa Phạm\\nThêm bạn bè\\nQuân Lê\\nThêm bạn bè\\nHoàng Zuy\\nThêm bạn bè\\nNguyễn Khoa Diệu Chi\\nThêm bạn bè\\nTường Vi\\nThêm bạn bè\\nHong Quang\\nThêm bạn bè\\nKhánh Linh\\nThêm bạn bè\\nAnh Thu\\nThêm bạn bè\\nHoàng Trần Gia Bảo\\nThêm bạn bè\\nNguyễn Cát Tường\\nThêm bạn bè\\nNhư Quỳnh\\nThêm bạn bè\\nQuỳnh Phạm\\nThêm bạn bè\\nHoàng Thư\\nThêm bạn bè\\nNguyễn Thị Phương Linh\\nThêm bạn bè\\nPhan Dieu Linh\\nTheo dõi\\nHồng Minh\\nThêm bạn bè\\nPhương Thảo\\nThêm bạn bè\\nNgân Phan\\nThêm bạn bè\\nNgọc Dung\\nThêm bạn bè\\nHồ Huy\\nThêm bạn bè\\nNguyễn Duyên\\nThêm bạn bè\\nBảo Đoàn\\nThêm bạn bè\\nJo Casta\\nThêm bạn bè\\nNhư Lê\\nThêm bạn bè\\nTrung Hiếu\\nThêm bạn bè\\nKim Ngân\\nThêm bạn bè\\nQuyến Mạc\\nThêm bạn bè\\nDieu Thi\\nThêm bạn bè\\nTrần Thị Kim Như\\nThêm bạn bè\\nLê Âu Anh Thư\\nThêm bạn bè\\nThảo Nguyên\\nThêm bạn bè\\nHà Trang\\nThêm bạn bè']\n"
     ]
    }
   ],
   "source": [
    "elems= driver.find_elements(By.CSS_SELECTOR,\"#mount_0_0_WO > div > div:nth-child(1) > div > div:nth-child(5) > div > div > div.x9f619.x1n2onr6.x1ja2u2z > div > div.x1uvtmcs.x4k7w5x.x1h91t0o.x1beo9mf.xaigb6o.x12ejxvf.x3igimt.xarpa2k.xedcshv.x1lytzrv.x1t2pt76.x7ja8zs.x1n2onr6.x1qrby5j.x1jfb8zj > div > div > div > div\")\n",
    "Ten= [elem.text for elem in elems]\n",
    "print(Ten)"
   ]
  },
  {
   "cell_type": "code",
   "execution_count": null,
   "id": "ea1cb9e8",
   "metadata": {},
   "outputs": [
    {
     "name": "stdout",
     "output_type": "stream",
     "text": [
      "[None]\n",
      "['Xem thêm\\nTất cả\\n113\\n90\\n41\\n3\\n1']\n"
     ]
    }
   ],
   "source": [
    "elems= driver.find_elements(By.CSS_SELECTOR,\"#mount_0_0_WO > div > div:nth-child(1) > div > div:nth-child(5) > div > div > div.x9f619.x1n2onr6.x1ja2u2z > div > div.x1uvtmcs.x4k7w5x.x1h91t0o.x1beo9mf.xaigb6o.x12ejxvf.x3igimt.xarpa2k.xedcshv.x1lytzrv.x1t2pt76.x7ja8zs.x1n2onr6.x1qrby5j.x1jfb8zj > div > div > div > div > div > div > div.x1jx94hy.xh8yej3 > div > div.x1swvt13.x1pi30zi\")\n",
    "title=[elem.text for elem in elems]\n",
    "print(title)"
   ]
  },
  {
   "cell_type": "code",
   "execution_count": null,
   "id": "68e30979",
   "metadata": {},
   "outputs": [
    {
     "name": "stdout",
     "output_type": "stream",
     "text": [
      "0\n",
      "['Lan Ngô\\n5 January at 22:20\\n  ·\\n Bầu trời và hoa cỏ đều có vẻ đẹp của nó. Nhưng vẻ đẹp đó không giống nhau.\\n7 comments\\nLike\\nComment\\nTop comments\\nTrần Thị Hiếu Hạnh\\nCác bác vào đây tham khảo, tôi thấy nhiều mẫu nhà đẹp lắm Nhà Đẹp KITA - Thiết Kế và Xây Đựng dvd\\n1 d\\nThi Hường\\nBên này nhiều mẫu nhà đẹp mà giá cả hợp lý, các bác tham khảo ngay tại Nhà Đẹp RICO df\\n1 h']\n",
      "1\n",
      "['Anonymous participant\\n5 January at 22:21\\n  ·\\nE sinh năm 1987. Bố sinh năm 1963. Cả nhà cho e hỏi năm 2024 có làm được nhà tuổi này không ạ? Em cảm ơn\\nAll reactions:\\n4\\n11 comments\\nLike\\nComment\\nTop comments\\nTrần Thị Hiếu Hạnh\\nCác bác vào đây tham khảo, tôi thấy nhiều mẫu nhà đẹp lắm Nhà Đẹp KITA - Thiết Kế và Xây Dựng dvdvd\\n1 d\\nThi Hường\\nBên này nhiều mẫu nhà đẹp mà giá cả hợp lý, các bác tham khảo ngay tại Nhà Đẹp RICO d\\n1 h\\nHuy Tạ\\nLàm đc hay ko việc quyết định ko phải là tuổi bác ạ. làm nhà là làm trên đất. Nên việc đầu tiên là phải xem đất có phạm ji trong năm làm nhà ko. Nếu ko phạm thì tuồi nào làm cũng đc. Còn phạm nặng thì tuổi có đẹp cũng chịu bác ạ\\n1 w\\nAnonymous participant\\nAuthor\\nHuy Tạ em cảm ơn. Đất hướng nam bác ah. Xin kinh nghiệm hay chia sẻ của các bác\\n1 w\\nHuy Tạ\\nNgười tham gia ẩn danh hướng nam làm đc bác nhé. Lấy tuổi 1987 động thồ luôn.\\n1 w\\nAnonymous participant\\nAuthor\\nHuy Tạ em cảm ơn\\n1 w\\nCông ty TNHH Thiết kế và xây dựng Global\\nThiết kê ib e để dc tư vấn cả phong thuỷ nhe\\n1 w\\nMinhQuan Hoang\\nhỏi thầy em ạ. Thầy có sách vở sẽ chuẩn hơn\\n1 w\\nAnonymous participant\\nAuthor\\nMinhQuan Hoang e cảm ơn\\n1 w\\nNhà Lắp Ghép\\nĐược\\n1 w']\n",
      "2\n",
      "['Lê Tuân\\n5 January at 22:19\\n  ·\\nNhà vườn 1 tầng mái nhật cho bác nào k thích leo trèo đây.\\nS15x9,8 tài chính chỉ vọn vẹn 1T.\\nAll reactions:\\n1\\n11 comments\\nLike\\nComment\\nTop comments\\nTrần Thị Hiếu Hạnh\\nCác bác vào đây tham khảo, tôi thấy nhiều mẫu nhà đẹp lắm Nhà Đẹp KITA - Thiết Kế và Xây Dựng dvdvd\\n1 d\\nThi Hường\\nBên này nhiều mẫu nhà đẹp mà giá cả hợp lý, các bác tham khảo ngay tại Nhà Đẹp RICO đf\\n1 h']\n",
      "3\n",
      "['Lan Ngô\\n5 January at 22:22\\n  ·\\nNhư này quá là ưng luôn ạ\\nAll reactions:\\n2\\n10 comments\\nLike\\nComment\\nTop comments\\nTrần Thị Hiếu Hạnh\\nCác bác vào đây tham khảo, tôi thấy nhiều mẫu nhà đẹp lắm Nhà Đẹp KITA - Thiết Kế và Xây Dựng dvdv\\n1 d\\nThi Hường\\nBên này nhiều mẫu nhà đẹp mà giá cả hợp lý, các bác tham khảo ngay tại Nhà Đẹp RICO df\\n1 h\\nVũ Ánh ThÁnh Thủy\\nCác bác vào đây tham khảo, tôi thấy nhiều mẫu nhà đẹp lắm Nhà Đẹp KITA - Thiết Kế và Xây Dựng đvd\\n1 d\\nBạch Xuân Nhi\\nTôi thấy bên này thiết kế nhà đẹp mà miễn phí giám sát, miễn phí hồ sơ cấp phép xây dựng luôn nè, anh chị tham khảo thử Nhà Đẹp KITA - Thiết Kế và Xây Dựng vdvdv\\n1 d\\nBích Thành Liên\\nCác bác tham khảo nhiều mẫu nhà đẹp bên NHÀ ĐẸP AN BÌNH Thiết Kế Thi Công Trọn Góisdfh, thiết kế theo đúng nhu cầu sử dụng, tối ưu công năng và thiết kế chuẩn theo phong thủy của gia chủ\\n1 d\\nMinh Nhật Lan\\n3 d\\nEdited\\nKim Tuyền Thanh\\n3 d\\nEdited\\nPhạm Nga\\nTuyệt vời\\n3 d']\n",
      "4\n",
      "['Nguyễn Quốc Chính\\n13 December 2023\\n  ·\\nM1 Hoan Hỉ \\n Cố gắng 2 tháng nữa đến tết về nhà mới là đẹp các bác ạ \\n Ctrinh 2 tầng mái Nhật, chi phí hoàn thiện 1,5 tỷ cho các bác tham khảo.\\nAll reactions:\\n18\\n30 comments\\n5 shares\\nLike\\nComment\\nTop comments\\nNội Thất Đức Quân\\nMặt sàn bao nhiêu bác?gồm tất cả chi phí nội thất rồi ạ\\n4 w\\nNguyễn Quốc Chính\\nAuthor\\nNội Thất Đức Quân 105m2/ sàn bác ơi. chưa nội thất bàn ghế giường tủ bác nhé\\n4 w\\nTam Phan\\nChê, hiii\\n4 w\\nMŨ BẢO HIỂM\\nNhà này mà có 1.5tỷ thôi á??\\n6 d\\nNguyễn Quốc Chính\\nAuthor\\nMŨ BẢO HIỂM làm cái thôi a\\n15 h\\nDang Hong\\nTu van cho minh voi b\\n3 w\\nNguyễn Quốc Chính\\nAuthor\\nDang Hong dạ vâng bác check phần tin nhắn chờ em tư vấn cho bác cụ thể luôn ạ\\n3 w\\nTrí Minh\\nNhững mẫu đèn treo thả trần cho ngôi nhà của bạn siêu đẹp ạ\\n1 w\\nThi Hường\\nBên này nhiều mẫu nhà đẹp mà giá cả hợp lý, các bác tham khảo ngay tại Nhà Đẹp RICO df\\n1 h\\nXuân Phương Hứa\\nMình hay thấy bên anh hay tìm khách để thầu xây dựng phải không, anh vào trang này có nhiều khách hỏi tư vấn để xây dựng lắm nè anh ! HỘI NHÀ THẦU XÂY DỰNG SÀI GÒN\\n3 h\\nEdited\\nNguyễn Quốc Chính\\nAuthor\\n4 w\\nNguyễn Quốc Chính\\nAuthor\\n4 w\\nNguyễn Quốc Chính\\nAuthor\\n4 w\\nTopvis- Cửa Nhôm Châu Âu\\nlung linh là lên luôn\\n4 w\\nLananh Nguyen\\nTinh Vo Thanh Võ Thanh Tịnh\\n2 w\\nĐiểm Tựa\\n2 w\\nMáy Xông Hơi Bmt\\n1 d']\n",
      "5\n",
      "['Anonymous participant\\n5 January at 22:20\\n  ·\\nE định sang năm làm. Bác nào có sẵn bản thiết kế của nhà mái nhật công năng 4 p ngủ,1 p thờ,2 wc,1 p bếp k ạ. Tài chính 1,5 tỷ\\nAll reactions:\\n46\\n46 comments\\n1 share\\nLike\\nComment\\nTop comments\\nThi Hường\\nBên này nhiều mẫu nhà đẹp mà giá cả hợp lý, các bác tham khảo ngay tại Nhà Đẹp RICO df\\n1 h\\nVũ Ánh ThÁnh Thủy\\nCác bác vào đây tham khảo, tôi thấy nhiều mẫu nhà đẹp lắm Nhà Đẹp KITA - Thiết Kế và Xây Dựng đvdv\\n1 d\\nQuốc Bách\\nGiao lưu lại cho ai cần, mình có full hồ sơ bản thiết kế mẫu này, ai lấy thì ib mình.\\n2\\n1 w\\nAnonymous participant\\nAuthor\\nQuốc Bách dt sàn bn bậy bác\\n1 w\\nQuốc Bách\\nNgười tham gia ẩn danh 13 x 11 k tính chỗ phụ\\n1 w\\nAnonymous participant\\nAuthor\\nQuốc Bách chi phí hết bn ạ\\n1 w\\nQuốc Bách\\nNgười tham gia ẩn danh 1 tỏi thiết bị trung bình phổ thông b. Cần tham khảo chi tiết ib mk\\n1 w\\nHoang Anh\\nE có nhiều mẫu phù hợp tài chính và diện tích mình ib e gửi cho\\n1 w\\nBích Thành Liên\\nCác bác tham khảo nhiều mẫu nhà đẹp bên NHÀ ĐẸP AN BÌNH Thiết Kế Thi Công Trọn Góisdf, thiết kế theo đúng nhu cầu sử dụng, tối ưu công năng và thiết kế chuẩn theo phong thủy của gia chủ\\n1 d\\nKS Sam\\nMình nhận thiết kế giá cả hợp lý\\n1 w\\nLương Minh Thiện\\nBạn xây dựng ở đâu?\\n1 w\\nAnonymous participant\\nAuthor\\nLương Minh Thiện m ở vĩnh phúc\\n1 w\\nCơ Khí Đức Quý\\nnếu bạn có diện tích thì làm mẫu này tiết kiêm hơn nhà 2 tầng nhiều 4 p ngũ mình đang làm đây đẹp mê hồn luôn.\\n1 w\\nHoa Tân Mỹ\\nCần thiết kế theo nhu cầu ib e ạ\\n1 w\\nĐào Bang\\nBác ưng ib e nha\\n2\\n1 w\\nNguyễn Đông\\nCó anh chị nào thanh lí sim số đẹp không ib em thu ạ\\n1 w\\nHoàng Đức\\nChúng tôi kinh doanh\\n1 d\\nNam Sơn Lighting\\ncho em xin thông tin liên lạc ạ\\n1 w\\nVina Nguyễn\\nIb bạn ơi\\n1 w\\nViễn Dương Door\\nNhận thiết kế 079.86.203.86\\n6 d\\nNguyễn Văn Dũng\\nĐây bạn\\n1 w\\nKiến Trúc Sư Toàn\\n1 w\\nNguyễn Đức Trang\\nAlo Minh 0854946686\\n1 w\\nMáy Xông Hơi Bmt\\n1 d\\nTuyen Nguyen\\nTỷ rưỡi thì hơi bé. thêm một 2 trăm thì rộng các phòng và đẹp 200m2 sử dụng.\\n1 w\\nNhà Lắp Ghép\\n1 w\\nTrần An\\n1 w\\nKiến Trúc Sư Toàn\\n1 w\\nKiến Trúc Sư Toàn\\n1 w\\nKiến Trúc Sư Toàn\\nib hoặc kb zalo e 0946490333 e tv a\\n1 w\\nKiến Trúc Sư Toàn\\n1 w\\nKiến Trúc Sư Toàn\\n1 w\\nĐỗ Tuấn\\n1 w\\nKiến Trúc Sư Toàn\\n1 w\\nKiến Trúc Sư Toàn\\n1 w']\n",
      "6\n",
      "['Bui Anh Thắng\\n26 November 2023\\n  ·\\n8tháng của nhà em đấy các bác\\nAll reactions:\\n10\\n12 comments\\nLike\\nComment\\nTop comments\\nThi Hường\\nBên này nhiều mẫu nhà đẹp mà giá cả hợp lý, các bác tham khảo ngay tại Nhà Đẹp RICO d\\n1 h\\nBùi Quang Lợi\\nNhà quá đẹp ạ\\n4 w\\nThúy Lê\\nChi phí nhiều ko bác\\n4 w\\nBui Anh Thắng\\nAuthor\\nThúy Lê 1,8tỉ bạn nhé\\n4 w\\nĐỗ Thuật\\nBui Anh Thắng rộng bn vậy bác hoàn thiện tất là bn ạ\\n1 d\\nMáy Xông Hơi Bmt\\n1 d\\nNguyễn Phạm Bích Phương\\nNội thất gỗ trông hoàng gia quá ạ, bên em có các mẫu nội thất chung tone màu với anh chị, decor vào bao xinh ạ\\n6 w']\n",
      "7\n",
      "['Luyện mắt To\\n4 October 2023\\n  ·\\nMê mẫu này quá mà ko biết làm 11x12,5 hết khoảng bao nhiêu.nhờ các b tư vấn\\nAll reactions:\\n11\\n6 comments\\nLike\\nComment\\nTop comments\\nThi Hường\\nBên này nhiều mẫu nhà đẹp mà giá cả hợp lý, các bác tham khảo ngay tại Nhà Đẹp RICO ds\\n1 h\\nBùi Văn Sang Vibhome\\nMẫu này bên e làm nhé, bác nhắn tin e gửi thêm ảnh và tư vấn nhea\\n8 w\\nHieu Hoang\\nBùi Văn Sang Vibhome mẫu này diện tích bao nhiêu m2 vậy bạn\\n6 w\\nBùi Văn Sang Vibhome\\nHieu Hoang bác nhắn tin e nhé\\n6 w\\nTrần Huệ\\nBùi Văn Sang Vibhome quan tâm ạ\\n1 d']\n",
      "8\n",
      "['Đặng Công Sĩ \\n13 November 2023\\n  ·\\n 1 ngôi nhà đẹp không chỉ ở hình khối, mà còn ở tâm huyết của người thi công, chuẩn mực về biện pháp thi công, vật tư chất lượng, và có tâm trong nghề\\nGửi đến anh chị mẫu nhà ống 2 tầng 1 tum, được đội ngủ Công Ty Thiết Kế Xây Dựng JIN HOUSE thực hiện trong 4 tháng\\nThiết kế đẹp, thi công chất lượng: \\nCông Năng: 3PN\\n\"I… See more\\n+15\\nAll reactions:\\n5\\n10 comments\\n1 share\\nLike\\nComment\\nTop comments\\nBạch Xuân Nhi\\nTôi thấy bên này thiết kế nhà đẹp mà miễn phí giám sát, miễn phí hồ sơ cấp phép xây dựng luôn nè, anh chị tham khảo thử Nhà Đẹp KITA - Thiết Kế và Xây Dựng dvdvdvd\\n1 d\\nThi Hường\\nBên này nhiều mẫu nhà đẹp mà giá cả hợp lý, các bác tham khảo ngay tại Nhà Đẹp RICO d\\n1 h\\nVũ Ánh ThÁnh Thủy\\nCác bác vào đây tham khảo, tôi thấy nhiều mẫu nhà đẹp lắm Nhà Đẹp KITA - Thiết Kế và Xây Dựng dvdvdv\\n1 d\\nKhuất Loan\\nCho mình hỏi nhà này hoàn chỉnh giá bao nhiêu\\n4 w\\nĐặng Công Sĩ\\nAuthor\\nKhuất Loan bạn check tin nhắn chờ và spam mình chia sẻ chi tiết nha\\n4 w\\nPhạm Thư\\n???\\n6 d\\nĐặng Công Sĩ\\nAuthor\\nPhạm Thư ,,\\n5 d']\n"
     ]
    },
    {
     "name": "stdout",
     "output_type": "stream",
     "text": [
      "9\n",
      "['Xưởng Rèm Thái Bình\\n5 January at 22:22\\n  ·\\nEm dự định làm nhà vuông mái bằng\\n2 tầng hiện đại\\nKích thước: 9 m x 8 m\\nTầng 1 không làm sảnh\\nBác nào có mẫu mặt tiền cho em tham khảo với … See more\\nAll reactions:\\n1\\n5 comments\\nLike\\nComment\\nTop comments\\nThi Hường\\nBên này nhiều mẫu nhà đẹp mà giá cả hợp lý, các bác tham khảo ngay tại Nhà Đẹp RICO df\\n1 h']\n"
     ]
    },
    {
     "data": {
      "text/html": [
       "<div>\n",
       "<style scoped>\n",
       "    .dataframe tbody tr th:only-of-type {\n",
       "        vertical-align: middle;\n",
       "    }\n",
       "\n",
       "    .dataframe tbody tr th {\n",
       "        vertical-align: top;\n",
       "    }\n",
       "\n",
       "    .dataframe thead th {\n",
       "        text-align: right;\n",
       "    }\n",
       "</style>\n",
       "<table border=\"1\" class=\"dataframe\">\n",
       "  <thead>\n",
       "    <tr style=\"text-align: right;\">\n",
       "      <th></th>\n",
       "      <th>ALL</th>\n",
       "    </tr>\n",
       "  </thead>\n",
       "  <tbody>\n",
       "    <tr>\n",
       "      <th>0</th>\n",
       "      <td>[Lan Ngô\\n5 January at 22:20\\n  ·\\n Bầu trời v...</td>\n",
       "    </tr>\n",
       "    <tr>\n",
       "      <th>1</th>\n",
       "      <td>[Anonymous participant\\n5 January at 22:21\\n  ...</td>\n",
       "    </tr>\n",
       "    <tr>\n",
       "      <th>2</th>\n",
       "      <td>[Lê Tuân\\n5 January at 22:19\\n  ·\\nNhà vườn 1 ...</td>\n",
       "    </tr>\n",
       "    <tr>\n",
       "      <th>3</th>\n",
       "      <td>[Lan Ngô\\n5 January at 22:22\\n  ·\\nNhư này quá...</td>\n",
       "    </tr>\n",
       "    <tr>\n",
       "      <th>4</th>\n",
       "      <td>[Nguyễn Quốc Chính\\n13 December 2023\\n  ·\\nM1 ...</td>\n",
       "    </tr>\n",
       "    <tr>\n",
       "      <th>5</th>\n",
       "      <td>[Anonymous participant\\n5 January at 22:20\\n  ...</td>\n",
       "    </tr>\n",
       "    <tr>\n",
       "      <th>6</th>\n",
       "      <td>[Bui Anh Thắng\\n26 November 2023\\n  ·\\n8tháng ...</td>\n",
       "    </tr>\n",
       "    <tr>\n",
       "      <th>7</th>\n",
       "      <td>[Luyện mắt To\\n4 October 2023\\n  ·\\nMê mẫu này...</td>\n",
       "    </tr>\n",
       "    <tr>\n",
       "      <th>8</th>\n",
       "      <td>[Đặng Công Sĩ \\n13 November 2023\\n  ·\\n 1 ngôi...</td>\n",
       "    </tr>\n",
       "    <tr>\n",
       "      <th>9</th>\n",
       "      <td>[Xưởng Rèm Thái Bình\\n5 January at 22:22\\n  ·\\...</td>\n",
       "    </tr>\n",
       "  </tbody>\n",
       "</table>\n",
       "</div>"
      ],
      "text/plain": [
       "                                                 ALL\n",
       "0  [Lan Ngô\\n5 January at 22:20\\n  ·\\n Bầu trời v...\n",
       "1  [Anonymous participant\\n5 January at 22:21\\n  ...\n",
       "2  [Lê Tuân\\n5 January at 22:19\\n  ·\\nNhà vườn 1 ...\n",
       "3  [Lan Ngô\\n5 January at 22:22\\n  ·\\nNhư này quá...\n",
       "4  [Nguyễn Quốc Chính\\n13 December 2023\\n  ·\\nM1 ...\n",
       "5  [Anonymous participant\\n5 January at 22:20\\n  ...\n",
       "6  [Bui Anh Thắng\\n26 November 2023\\n  ·\\n8tháng ...\n",
       "7  [Luyện mắt To\\n4 October 2023\\n  ·\\nMê mẫu này...\n",
       "8  [Đặng Công Sĩ \\n13 November 2023\\n  ·\\n 1 ngôi...\n",
       "9  [Xưởng Rèm Thái Bình\\n5 January at 22:22\\n  ·\\..."
      ]
     },
     "execution_count": 113,
     "metadata": {},
     "output_type": "execute_result"
    }
   ],
   "source": [
    "action = ActionChains(driver)\n",
    "item_list=[]\n",
    "\n",
    "for i in range(0,20):\n",
    "    print(i)\n",
    "    driver.execute_script(\"window.scrollTo(0, \"+str(300+ i*1000)+\")\")\n",
    "    sleep(1)\n",
    "    \n",
    "    ad_next_page =driver.find_element(By.CSS_SELECTOR,\"#mount_0_0_zG > div > div:nth-child(1) > div > div.x9f619.x1n2onr6.x1ja2u2z > div > div > div.x78zum5.xdt5ytf.x1t2pt76.x1n2onr6.x1ja2u2z.x10cihs4 > div.x78zum5.xdt5ytf.x1t2pt76.x1n2onr6 > div.x78zum5.xdt5ytf.x1iyjqo2 > div > div > div.x6s0dn4.x78zum5.xdt5ytf.xwib8y2.xh8yej3 > div > div > div > div:nth-child(2) > div > div:nth-child(\"+str(i+2)+\") > div > div > div > div > div > div > div > div > div > div:nth-child(2) > div > div > div:nth-child(4) > div > div > div.xzueoph > div.xdj266r.xktsk01.xat24cr.x1d52u69 > div > div.x1i10hfl.xjbqb8w.xjqpnuy.xa49m3k.xqeqjp1.x2hbi6w.x13fuv20.xu3j5b3.x1q0q8m5.x26u7qi.x972fbf.xcfux6l.x1qhh985.xm0m39n.x9f619.x1ypdohk.xdl72j9.xe8uvvx.xdj266r.x11i5rnm.xat24cr.x1mh8g0r.x2lwn1j.xeuugli.xexx8yu.x18d9i69.xkhd6sd.x1n2onr6.x16tdsg8.x1hl2dhg.xggy1nq.x1ja2u2z.x1t137rt.x1o1ewxj.x3x9cwd.x1e5q0jg.x13rtm0m.x3nfvp2.x1q0g3np.x87ps6o.x1a2a7pz.x6s0dn4.xi81zsa.x1iyjqo2.xs83m0k.xsyo7zv.xt0b8zv > span > span\")\n",
    "    \n",
    "    sleep(randint(2,5))\n",
    "    action.click(ad_next_page).perform()\n",
    "\n",
    "    elems= driver.find_elements(By.CSS_SELECTOR,\"#mount_0_0_zG > div > div:nth-child(1) > div > div:nth-child(5) > div > div > div.x9f619.x1n2onr6.x1ja2u2z > div > div.x1uvtmcs.x4k7w5x.x1h91t0o.x1beo9mf.xaigb6o.x12ejxvf.x3igimt.xarpa2k.xedcshv.x1lytzrv.x1t2pt76.x7ja8zs.x1n2onr6.x1qrby5j.x1jfb8zj > div > div > div > div > div > div > div.xb57i2i.x1q594ok.x5lxg6s.x78zum5.xdt5ytf.x6ikm8r.x1ja2u2z.x1pq812k.x1rohswg.xfk6m8.x1yqm8si.xjx87ck.xx8ngbg.xwo3gff.x1n2onr6.x1oyok0e.x1odjw0f.x1iyjqo2.xy5w88m\")\n",
    "    Ten= [elem.text for elem in elems]\n",
    "    print(Ten)\n",
    "    \n",
    "    item_dict={}\n",
    "    item_dict[\"ALL\"] = Ten\n",
    "    item_list.append(item_dict)\n",
    "    \n",
    "    sleep(3)\n",
    "    \n",
    "    x =driver.find_element(By.CSS_SELECTOR,\"#mount_0_0_zG > div > div:nth-child(1) > div > div:nth-child(5) > div > div > div.x9f619.x1n2onr6.x1ja2u2z > div > div.x1uvtmcs.x4k7w5x.x1h91t0o.x1beo9mf.xaigb6o.x12ejxvf.x3igimt.xarpa2k.xedcshv.x1lytzrv.x1t2pt76.x7ja8zs.x1n2onr6.x1qrby5j.x1jfb8zj > div > div > div > div > div > div > div:nth-child(1) > div > div:nth-child(3) > div\")\n",
    "    action.click(x).perform()               \n",
    "    sleep(2)\n",
    "    \n",
    "df=pd.DataFrame(item_list)\n",
    "df.head(10)\n",
    "\n"
   ]
  },
  {
   "cell_type": "code",
   "execution_count": null,
   "id": "1196f6cb",
   "metadata": {},
   "outputs": [
    {
     "data": {
      "text/html": [
       "<div>\n",
       "<style scoped>\n",
       "    .dataframe tbody tr th:only-of-type {\n",
       "        vertical-align: middle;\n",
       "    }\n",
       "\n",
       "    .dataframe tbody tr th {\n",
       "        vertical-align: top;\n",
       "    }\n",
       "\n",
       "    .dataframe thead th {\n",
       "        text-align: right;\n",
       "    }\n",
       "</style>\n",
       "<table border=\"1\" class=\"dataframe\">\n",
       "  <thead>\n",
       "    <tr style=\"text-align: right;\">\n",
       "      <th></th>\n",
       "      <th>ALL</th>\n",
       "    </tr>\n",
       "  </thead>\n",
       "  <tbody>\n",
       "    <tr>\n",
       "      <th>0</th>\n",
       "      <td>[Lan Ngô\\n5 January at 22:20\\n  ·\\n Bầu trời v...</td>\n",
       "    </tr>\n",
       "    <tr>\n",
       "      <th>1</th>\n",
       "      <td>[Anonymous participant\\n5 January at 22:21\\n  ...</td>\n",
       "    </tr>\n",
       "    <tr>\n",
       "      <th>2</th>\n",
       "      <td>[Lê Tuân\\n5 January at 22:19\\n  ·\\nNhà vườn 1 ...</td>\n",
       "    </tr>\n",
       "    <tr>\n",
       "      <th>3</th>\n",
       "      <td>[Lan Ngô\\n5 January at 22:22\\n  ·\\nNhư này quá...</td>\n",
       "    </tr>\n",
       "    <tr>\n",
       "      <th>4</th>\n",
       "      <td>[Nguyễn Quốc Chính\\n13 December 2023\\n  ·\\nM1 ...</td>\n",
       "    </tr>\n",
       "    <tr>\n",
       "      <th>5</th>\n",
       "      <td>[Anonymous participant\\n5 January at 22:20\\n  ...</td>\n",
       "    </tr>\n",
       "    <tr>\n",
       "      <th>6</th>\n",
       "      <td>[Bui Anh Thắng\\n26 November 2023\\n  ·\\n8tháng ...</td>\n",
       "    </tr>\n",
       "    <tr>\n",
       "      <th>7</th>\n",
       "      <td>[Luyện mắt To\\n4 October 2023\\n  ·\\nMê mẫu này...</td>\n",
       "    </tr>\n",
       "    <tr>\n",
       "      <th>8</th>\n",
       "      <td>[Đặng Công Sĩ \\n13 November 2023\\n  ·\\n 1 ngôi...</td>\n",
       "    </tr>\n",
       "    <tr>\n",
       "      <th>9</th>\n",
       "      <td>[Xưởng Rèm Thái Bình\\n5 January at 22:22\\n  ·\\...</td>\n",
       "    </tr>\n",
       "  </tbody>\n",
       "</table>\n",
       "</div>"
      ],
      "text/plain": [
       "                                                 ALL\n",
       "0  [Lan Ngô\\n5 January at 22:20\\n  ·\\n Bầu trời v...\n",
       "1  [Anonymous participant\\n5 January at 22:21\\n  ...\n",
       "2  [Lê Tuân\\n5 January at 22:19\\n  ·\\nNhà vườn 1 ...\n",
       "3  [Lan Ngô\\n5 January at 22:22\\n  ·\\nNhư này quá...\n",
       "4  [Nguyễn Quốc Chính\\n13 December 2023\\n  ·\\nM1 ...\n",
       "5  [Anonymous participant\\n5 January at 22:20\\n  ...\n",
       "6  [Bui Anh Thắng\\n26 November 2023\\n  ·\\n8tháng ...\n",
       "7  [Luyện mắt To\\n4 October 2023\\n  ·\\nMê mẫu này...\n",
       "8  [Đặng Công Sĩ \\n13 November 2023\\n  ·\\n 1 ngôi...\n",
       "9  [Xưởng Rèm Thái Bình\\n5 January at 22:22\\n  ·\\..."
      ]
     },
     "execution_count": 114,
     "metadata": {},
     "output_type": "execute_result"
    }
   ],
   "source": [
    "df=pd.DataFrame(item_list)\n",
    "df.head(10)"
   ]
  },
  {
   "cell_type": "code",
   "execution_count": null,
   "id": "b34a6d19",
   "metadata": {},
   "outputs": [],
   "source": [
    "comment.to_csv('Facebook_nghiennha.csv', mode='a', header=True, index = False)"
   ]
  },
  {
   "cell_type": "markdown",
   "id": "e5d88e22",
   "metadata": {},
   "source": [
    "# Build code"
   ]
  },
  {
   "cell_type": "code",
   "execution_count": 1,
   "id": "50b87346",
   "metadata": {},
   "outputs": [],
   "source": [
    "from requests import get #gửi yêu cầu HTTP và lấy dữ liệu\n",
    "\n",
    "import pandas as pd # xử lý dữ liệu, biểu đồ\n",
    "import numpy as np\n",
    "\n",
    "from time import sleep # thao tác với thời gian\n",
    "from random import randint\n",
    "\n",
    "from time import time\n",
    "from warnings import warn # xóa dòng đỏ cảnh báo\n",
    "\n",
    "from datetime import datetime\n",
    "from datetime import timedelta\n",
    "\n",
    "from selenium import webdriver # Lấy dữ liệu từ trang web bằng việc điều khiển trình duyệt ảo\n",
    "from selenium.webdriver.chrome.service import Service as ChromeService\n",
    "from webdriver_manager.chrome import ChromeDriverManager\n",
    "from selenium.webdriver.common.keys import Keys\n",
    "from selenium.webdriver.support.ui import WebDriverWait\n",
    "from selenium.webdriver.support import expected_conditions as EC\n",
    "from selenium.webdriver.common.by import By\n",
    "from selenium.common.exceptions import TimeoutException, NoSuchElementException, ElementNotInteractableException\n",
    "from selenium.webdriver.common.action_chains import ActionChains\n",
    "from selenium.webdriver.chrome.webdriver import WebDriver\n",
    "\n",
    "import re # thao tác với chuỗi\n",
    "import os #thao tác với hệ điều hành\n",
    "import sys\n",
    "\n",
    "import requests\n",
    "\n",
    "import glob\n",
    "import shutil\n",
    "from pathlib import Path"
   ]
  },
  {
   "cell_type": "code",
   "execution_count": 2,
   "id": "2c71a080",
   "metadata": {},
   "outputs": [],
   "source": [
    "#1. Thiết lập tùy chọn cho trình duyệt Chrome\n",
    "options = webdriver.ChromeOptions() #(Khi khởi tạo xong, đối tượng ChromeOptions sẽ trả về các tùy chọn mặc định của Chrome)\n",
    "#Thêm tùy chọn\n",
    "options.add_argument('--ignore-certificate-errors') #Bỏ qua lỗi chứng chỉ SSL/TLS, cho phép truy cập các trang sử dụng chứng chỉ không hợp lệ.\n",
    "options.add_argument('--incognito') #Mở trang ẩn danh, không lưu trữ dữ liệu\n",
    "options.add_argument('--window-size=860,1080') #Định kích thước cửa sổ theo chiều rộng, cao.\n",
    "options.add_argument('--disable-notifications') #Tắt thông báo pop-up.\n",
    "options.add_argument('--disable-infobars') #Tắt thanh thông tin."
   ]
  },
  {
   "cell_type": "code",
   "execution_count": 92,
   "id": "de28770f",
   "metadata": {},
   "outputs": [],
   "source": [
    "# Đăng nhập Facebook.\n",
    "\n",
    "# 2. Khởi tạo WebDriver cho Chrome với các tùy chọn đã được thiết lập trong options\n",
    "driver = webdriver.Chrome(service=ChromeService(ChromeDriverManager().install()), options=options)\n",
    "                        #Tự động cập nhập trình điều khiển Chrome mới nhất\n",
    "# 3. Đăng nhập và truy cập vào trang/ group\n",
    "# ĐỢI PHẦN TỬ XUẤT HIỆN\n",
    "# 3.1. Vào trang/ group\n",
    "url = 'https://www.facebook.com/dueconfessionsofficial'\n",
    "driver.get(url)\n",
    "wait = WebDriverWait(driver, 5)\n",
    "\n",
    "# 3.2. Điền thông tin vào ô user và pass\n",
    "txtuser = wait.until(EC.presence_of_element_located((By.CSS_SELECTOR, '#login_popup_cta_form > div > div > div > label > div > div > input'))) # chờ đến khi fb hiện element (hạn chế dùng XPATH vì hay thay đổi)\n",
    "txtuser.send_keys(\"minhthu.250302@gmail.com\") # điền user\n",
    "\n",
    "txtpass = driver.find_element(By.CSS_SELECTOR,'#login_popup_cta_form > div > div:nth-child(4) > div > label > div > div > input')\n",
    "txtpass.send_keys(\"quenmatkhau\") # điền pass\n",
    "\n",
    "login_in_selector = \"#login_popup_cta_form > div > div:nth-child(5) > div\"\n",
    "login_in_button = driver.find_element(By.CSS_SELECTOR,login_in_selector)\n",
    "login_in_button.click() # click vào nút đăng nhập\n",
    "# txtpass.send_keys(Keys.ENTER) #Log in\n",
    "# (nếu bị yêu cầu đăng nhập hay xác nhận thì đổi mk --> chạy lại)"
   ]
  },
  {
   "cell_type": "code",
   "execution_count": 57,
   "id": "7e9d2518",
   "metadata": {},
   "outputs": [],
   "source": [
    "def convert_to_datetime(time: str):\n",
    "    time = (\" \".join(time.split(\", \")[1:])).replace(\"Tháng \", \"\").replace(\"lúc \", \"\")\n",
    "    day = datetime.strptime(time, \"%d %m 20%y %H:%M\")\n",
    "    return day"
   ]
  },
  {
   "cell_type": "code",
   "execution_count": 60,
   "id": "85439d14",
   "metadata": {},
   "outputs": [
    {
     "data": {
      "text/plain": [
       "0     Thứ Sáu, 8 Tháng 3, 2024 lúc 22:21\n",
       "1     Thứ Sáu, 8 Tháng 3, 2024 lúc 20:33\n",
       "2     Thứ Sáu, 8 Tháng 3, 2024 lúc 17:31\n",
       "3                                    NaN\n",
       "4     Thứ Năm, 7 Tháng 3, 2024 lúc 21:51\n",
       "                     ...                \n",
       "76    Thứ Năm, 8 Tháng 2, 2024 lúc 15:00\n",
       "77    Thứ Năm, 8 Tháng 2, 2024 lúc 10:00\n",
       "78     Thứ Tư, 7 Tháng 2, 2024 lúc 21:29\n",
       "79     Thứ Tư, 7 Tháng 2, 2024 lúc 20:09\n",
       "80    Thứ Sáu, 8 Tháng 3, 2024 lúc 22:21\n",
       "Name: time, Length: 81, dtype: object"
      ]
     },
     "execution_count": 60,
     "metadata": {},
     "output_type": "execute_result"
    }
   ],
   "source": [
    "pd.read_csv(file_path)[\"time\"]"
   ]
  },
  {
   "cell_type": "code",
   "execution_count": 160,
   "id": "57684bf6",
   "metadata": {},
   "outputs": [],
   "source": [
    "from selenium.webdriver.chrome.webdriver import WebDriver\n",
    "def get_post_info(driver: WebDriver, post_index=1, y=1000):\n",
    "    file_path = r\"C:\\Users\\Admin\\Downloads\\output_Cao_fb\\output.csv\"\n",
    "    dictionary = {}\n",
    "    dictionary[\"content\"] = []\n",
    "    dictionary[\"emoji\"] = []\n",
    "    dictionary[\"comment\"] = []\n",
    "    driver.execute_script(\"window.scrollTo(0, {y})\".format(y=y)) #cuộn\n",
    "    try:\n",
    "        count_time = 0\n",
    "        while True:\n",
    "            post_selector = \"div > div > div:nth-child(1) > div > div > div > div > div > div > div > div > div > div > div > div > div:nth-child(3) > div:nth-child({post_index}) > div > div > div > div > div > div > div > div > div > div > div:nth-child(8)\"\n",
    "            post_selector = post_selector.format(post_index=post_index)\n",
    "            sleep(1)\n",
    "            post = driver.find_element(By.CSS_SELECTOR, post_selector)\n",
    "            if (post != None) or (count_time > 5):\n",
    "                break\n",
    "            else:\n",
    "                sleep(1)\n",
    "                count_time += 1\n",
    "        current = post.location\n",
    "        y = post.get_attribute(\"clientHeight\")\n",
    "        dictionary[\"current\"] = current\n",
    "        dictionary[\"y\"] = y\n",
    "        dictionary[\"time\"] = None\n",
    "        \n",
    "        action = ActionChains(driver) #Khởi tạo ActionChains để thực hiện các hành động trên trình duyệt\n",
    "        # Tìm và click vào [? bình luận] --> hiển thị bài viết\n",
    "        show_comment_selector = \"body > div > div > div:nth-child(1) > div > div > div > div > div > div > div > div > div > div > div > div > div:nth-child(3) > div:nth-child({post_index}) > div > div > div > div > div > div > div > div > div > div > div:nth-child(8) > div > div > div:nth-child(4) > div > div > div:nth-child(1) > div > div > div > div > div:nth-child(2) > span > div > div > div:nth-child(2) > i\"\n",
    "        #                               div > div > div:nth-child(1) > div > div > div > div > div > div > div > div > div > div > div > div > div:nth-child(3) > div:nth-child(1) >            div > div > div > div > div > div > div > div > div > div > div:nth-child(8) > div > div > div:nth-child(4) > div > div > div:nth-child(1) > div > div > div > div > div:nth-child(2) > span > div > div > div:nth-child(2) > i\n",
    "        show_comment_selector = show_comment_selector.format(post_index=post_index)\n",
    "        comment_buttons = driver.find_elements(By.CSS_SELECTOR,show_comment_selector)\n",
    "        # print(len(comment_buttons))\n",
    "        # Xem thử có bình luận chưa\n",
    "        comment_selector= \"div > div > div:nth-child(4) > div > div > div > div > div > div > div > div > div > div > div > div > div > span\"\n",
    "        comment_number = len(post.find_elements(By.CSS_SELECTOR, comment_selector))\n",
    "        if comment_number == 0:\n",
    "            print(\"Chưa có bình luận\")\n",
    "            return dictionary\n",
    "        sleep(2)\n",
    "        close_up_selector = \"div > div > div:nth-child(1) > div > div:nth-child(5) > div > div:nth-child(2) > div > div > div > div > div > div > div > div > div > div:nth-child(1) > div > div:nth-child(3) > div > svg\"\n",
    "        close_up_el = driver.find_elements(By.CSS_SELECTOR, close_up_selector)\n",
    "        if close_up_el:\n",
    "            close_up_el[0].click()\n",
    "        actions = ActionChains(driver)\n",
    "        actions.scroll_to_element(comment_buttons[-1])\n",
    "        print(len(comment_buttons))\n",
    "        c = comment_buttons[-1].find_element(By.XPATH, \"..\")\n",
    "        print(c)\n",
    "        c.click()\n",
    "        sleep(2)\n",
    "        # action.click(comment_button).perform()\n",
    "\n",
    "        # Nhấn vào xem thêm\n",
    "        see_more_button_selector = \"div > div:nth-child(1) > div > div:nth-child(5) > div > div > div > div > div > div > div > div > div > div > div > div > div > div > div > div:nth-child(1) > div > div > div > div > div > div > div > div > div > div > div:nth-child(8) > div > div > div:nth-child(3) > div > div > div > div > span > div > div > div\"\n",
    "        els = driver.find_elements(By.CSS_SELECTOR,see_more_button_selector)\n",
    "        if len(els) > 0:\n",
    "            el = els[-1]\n",
    "            el.click()\n",
    "\n",
    "        # Nội dung\n",
    "        post_selector = \"div > div:nth-child(1) > div > div:nth-child(5) > div > div > div > div > div > div > div > div > div > div > div > div > div > div > div > div:nth-child(1) > div > div > div > div > div > div > div > div > div > div > div:nth-child(8) > div > div > div:nth-child(3) > div > div > div > div > span\"\n",
    "        post_selector2 = \"div > div > div:nth-child(1) > div > div:nth-child(5) > div > div > div > div > div > div > div > div > div > div > div > div > div > div > div > div:nth-child(1) > div > div > div > div > div > div > div > div > div > div > div:nth-child(8) > div > div > div:nth-child(3) > div > div > div > div > div\"\n",
    "        All_post = driver.find_elements(By.CSS_SELECTOR, post_selector)\n",
    "        All_post += driver.find_elements(By.CSS_SELECTOR, post_selector2)\n",
    "        result = []\n",
    "        for i in range(len(All_post)):\n",
    "            if All_post[i].text != \"\":\n",
    "                result.append(All_post[i].text)\n",
    "        dictionary[\"content\"] += result\n",
    "        \n",
    "        # Lấy thời gian đăng\n",
    "        time_hover_selector = \"body > div > div > div:nth-child(1) > div > div:nth-child(5) > div > div > div > div > div > div > div > div > div > div > div > div > div > div > div > div:nth-child(1) > div > div > div > div > div > div > div > div > div > div > div:nth-child(8) > div > div > div:nth-child(2) > div > div > div > div:nth-child(2) > span > span > span:nth-child(2) > span > a\"\n",
    "        time_selector = \"body > div > div > div:nth-child(1) > div > div:nth-child(5) > div > div > div > div > div:nth-child(3) > div > div > div > div > span\"\n",
    "        action = ActionChains(driver)\n",
    "        els = driver.find_elements(By.CSS_SELECTOR, time_hover_selector)\n",
    "        if (len(els) == 0):\n",
    "            print(\"Không tìm thấy phần tử trong pop up\")\n",
    "            return dictionary\n",
    "        action.move_to_element(els[0]).perform()\n",
    "        # Đợi thời gian xuất hiện\n",
    "        sleep(2)\n",
    "        while True:\n",
    "            time = driver.find_elements(By.CSS_SELECTOR, time_selector)\n",
    "            if time:\n",
    "                time = time[0]\n",
    "                break\n",
    "            else:\n",
    "                print(\"Chưa thấy thời gian :(\")\n",
    "        time_store = pd.read_csv(file_path, on_bad_lines='skip')[\"time\"]\n",
    "            \n",
    "        if len(time_store[time_store == time.text]) > 0:\n",
    "            print(f\"Đã cào bài đăng vào lúc {time.text}\")\n",
    "            driver.find_element(By.CSS_SELECTOR, \"div > div:nth-child(1) > div > div:nth-child(5) > div > div > div > div > div > div > div > div > div > div > div > div:nth-child(1) > div > div:nth-child(3) > div > svg\").click()\n",
    "            dictionary[\"content\"] = None\n",
    "            return dictionary\n",
    "        dictionary[\"time\"] = time.text\n",
    "\n",
    "        # Lấy Emoji\n",
    "        while True:\n",
    "            emoji_button_selector = \"div > div > div:nth-child(1) > div > div:nth-child(5) > div > div > div > div > div > div > div > div > div > div > div > div > div > div > div > div > div > div:nth-child(1) > div > div > div > div > span > span > span > span > span > div > img\"\n",
    "            emoji_button = driver.find_elements(By.CSS_SELECTOR, emoji_button_selector)\n",
    "            print(\"Chưa thấy emoji :(\")\n",
    "            if emoji_button:\n",
    "                print(\"Tìm thấy emoji rồi :)))\")\n",
    "                break\n",
    "        actions = ActionChains(driver)\n",
    "        actions.move_to_element(emoji_button[0]).perform()\n",
    "        emoji_button[0].click()\n",
    "        is_result = False\n",
    "        for step in range(5):\n",
    "            emoji_selector = \"div > div:nth-child(1) > div > div:nth-child(5) > div > div:nth-child(2) > div > div > div > div > div > div > div > div > div > div > div > div > div > div > div > div > div\"\n",
    "            sleep(1)\n",
    "            emojis = driver.find_elements(By.CSS_SELECTOR, emoji_selector)\n",
    "\n",
    "            for emoji in emojis[1:]:\n",
    "                info  = emoji.get_attribute(\"aria-label\")\n",
    "                if info: # Nó không phải là None\n",
    "                    if \",\" in emoji.get_attribute(\"aria-label\"): # Nếu có dấu phẩy\n",
    "                        dictionary[\"emoji\"].append(emoji.get_attribute(\"aria-label\"))\n",
    "                        is_result = True\n",
    "            if is_result:\n",
    "                break\n",
    "\n",
    "        emoji_pop_up_closer_selector = \"div > div > div:nth-child(1) > div > div:nth-child(5) > div > div:nth-child(2) > div > div > div > div > div > div > div > div > div > div > div > div > div > svg\"\n",
    "        while True:\n",
    "            emoji_pop_up_closer = driver.find_element(By.CSS_SELECTOR, emoji_pop_up_closer_selector)\n",
    "            if emoji_pop_up_closer:\n",
    "                emoji_pop_up_closer.click()\n",
    "                break\n",
    "\n",
    "        sleep(2)\n",
    "        # Click vào xem tất cả comment\n",
    "        els = driver.find_elements(By.CSS_SELECTOR, \"div > div:nth-child(1) > div > div:nth-child(5) > div > div > div > div > div > div > div > div > div > div > div > div > div > div > div > div > div > div > div > div > div > span > div > div > i\")\n",
    "        els[0].click()\n",
    "        els = driver.find_elements(By.CSS_SELECTOR, \"div > div > div:nth-child(1) > div > div:nth-child(5) > div > div > div > div > div:nth-child(3) > div > div > div > div > div > div > div > div > div > div > div > div > div:nth-child(3) > div > div > div:nth-child(1) > span\")\n",
    "        els[0].click()\n",
    "        sleep(5)\n",
    "\n",
    "        # Xem tất cả comment\n",
    "        while True:\n",
    "            chaps = driver.find_elements(By.CSS_SELECTOR,\"div > div:nth-child(2) > div > div > div > div > span > span\")\n",
    "            chaps += driver.find_elements(By.CSS_SELECTOR,\"div > div:nth-child(2) > div > div > div > span > span\")\n",
    "            chapters = []\n",
    "            for chap in chaps:\n",
    "                # try except -> lỗi kệ nó :)) cứ chạy là được\n",
    "                try:\n",
    "                    if \"phản hồi\" in chap.text:\n",
    "                        chap.click()\n",
    "                        chapters.append(chap)\n",
    "                except Exception as e:\n",
    "                    pass\n",
    "            sleep(1)\n",
    "            if len(chapters) == 0:\n",
    "                break\n",
    "\n",
    "        comment_box_selector = \"body > div > div > div:nth-child(1) > div > div:nth-child(5) > div > div > div > div > div:nth-child(2) > div > div > div > div > div > div > div:nth-child(2) > div:nth-child(2) > div > div > div:nth-child(2) > div > div:nth-child(2) > div:nth-child(3)\"\n",
    "        comment_box = driver.find_element(By.CSS_SELECTOR,comment_box_selector)\n",
    "        comment_selector = \"div > div > div > div > div:nth-child(1) > div > div > div > div > div > div:nth-child(2) > span\"\n",
    "        comments = comment_box.find_elements(By.CSS_SELECTOR,comment_selector)\n",
    "        comment_selector = \"div > div > div > div > div:nth-child(1) > div > div > div > div > div > div:nth-child(3) > span\"\n",
    "        comments += comment_box.find_elements(By.CSS_SELECTOR,comment_selector)\n",
    "        dictionary[\"comments_size\"] = len(comments)\n",
    "        for comment in comments:\n",
    "            dictionary[\"comment\"].append(comment.text)\n",
    "        driver.find_element(By.CSS_SELECTOR, \"div > div:nth-child(1) > div > div:nth-child(5) > div > div > div > div > div > div > div > div > div > div > div > div:nth-child(1) > div > div:nth-child(3) > div > svg\").click()\n",
    "    except Exception as e:\n",
    "        raise e\n",
    "    # finally:\n",
    "    #     driver.find_element(By.CSS_SELECTOR, \"div > div:nth-child(1) > div > div:nth-child(5) > div > div > div > div > div > div > div > div > div > div > div > div:nth-child(1) > div > div:nth-child(3) > div > svg\").click()\n",
    "    return dictionary"
   ]
  },
  {
   "cell_type": "code",
   "execution_count": 97,
   "id": "f0909822",
   "metadata": {},
   "outputs": [
    {
     "data": {
      "text/plain": [
       "72437"
      ]
     },
     "execution_count": 97,
     "metadata": {},
     "output_type": "execute_result"
    }
   ],
   "source": [
    "height = driver.execute_script(\"return document.body.scrollHeight\")\n",
    "height"
   ]
  },
  {
   "cell_type": "code",
   "execution_count": 147,
   "id": "f26e4b56",
   "metadata": {},
   "outputs": [
    {
     "name": "stdout",
     "output_type": "stream",
     "text": [
      "236 159001\n"
     ]
    }
   ],
   "source": [
    "print(i, current)"
   ]
  },
  {
   "cell_type": "code",
   "execution_count": 141,
   "id": "da2917f6",
   "metadata": {},
   "outputs": [],
   "source": [
    "data"
   ]
  },
  {
   "cell_type": "code",
   "execution_count": 161,
   "id": "d9a6773b",
   "metadata": {},
   "outputs": [
    {
     "name": "stdout",
     "output_type": "stream",
     "text": [
      "1\n",
      "<selenium.webdriver.remote.webelement.WebElement (session=\"ca04dd5ca5aa6fd5b77f7744643aec93\", element=\"f.CDBDB9A40F7E6AC0366BCA5273E41402.d.C33B69C7F6707591D22E1F8D047359C3.e.897\")>\n",
      "235\n",
      "159001\n"
     ]
    },
    {
     "ename": "ElementClickInterceptedException",
     "evalue": "Message: element click intercepted: Element <div class=\"x9f619 x1n2onr6 x1ja2u2z x78zum5 xdt5ytf x2lah0s x193iq5w xeuugli xg83lxy x1h0ha7o x10b6aqq x1yrsyyn\">...</div> is not clickable at point (1048, 14). Other element would receive the click: <a class=\"x1i10hfl x1ejq31n xd10rxx x1sy0etr x17r0tee x972fbf xcfux6l x1qhh985 xm0m39n x9f619 x1ypdohk xe8uvvx xdj266r x11i5rnm xat24cr x1mh8g0r xexx8yu x18d9i69 x16tdsg8 x1hl2dhg xggy1nq x87ps6o x1lku1pv x1a2a7pz x6s0dn4 x1tlxs6b x1g8br2z x1gn5b1j x230xth x78zum5 x1q0g3np xc9qbxq xl56j7k xn6708d x1ye3gou x1n2onr6 xh8yej3 x1qhmfi1\" href=\"/friends/\" role=\"link\" tabindex=\"0\">...</a>\n  (Session info: chrome=122.0.6261.112)\nStacktrace:\n\tGetHandleVerifier [0x00C08D33+51395]\n\t(No symbol) [0x00B75F91]\n\t(No symbol) [0x00A2E13A]\n\t(No symbol) [0x00A6B8A2]\n\t(No symbol) [0x00A6A0D4]\n\t(No symbol) [0x00A6813B]\n\t(No symbol) [0x00A6731A]\n\t(No symbol) [0x00A5E54E]\n\t(No symbol) [0x00A83E8C]\n\t(No symbol) [0x00A5DF7E]\n\t(No symbol) [0x00A84124]\n\t(No symbol) [0x00A9A570]\n\t(No symbol) [0x00A83C26]\n\t(No symbol) [0x00A5C629]\n\t(No symbol) [0x00A5D40D]\n\tGetHandleVerifier [0x00F864F3+3711107]\n\tGetHandleVerifier [0x00FC58DA+3970154]\n\tGetHandleVerifier [0x00FC0BC8+3950424]\n\tGetHandleVerifier [0x00CB9D39+776393]\n\t(No symbol) [0x00B81764]\n\t(No symbol) [0x00B7C648]\n\t(No symbol) [0x00B7C7F9]\n\t(No symbol) [0x00B6DE20]\n\tBaseThreadInitThunk [0x764EFCC9+25]\n\tRtlGetAppContainerNamedObjectPath [0x77527C5E+286]\n\tRtlGetAppContainerNamedObjectPath [0x77527C2E+238]\n",
     "output_type": "error",
     "traceback": [
      "\u001b[1;31m---------------------------------------------------------------------------\u001b[0m",
      "\u001b[1;31mElementClickInterceptedException\u001b[0m          Traceback (most recent call last)",
      "Cell \u001b[1;32mIn[161], line 28\u001b[0m\n\u001b[0;32m     26\u001b[0m     \u001b[38;5;28mprint\u001b[39m(i\u001b[38;5;241m-\u001b[39m\u001b[38;5;241m1\u001b[39m)\n\u001b[0;32m     27\u001b[0m     \u001b[38;5;28mprint\u001b[39m(current)\n\u001b[1;32m---> 28\u001b[0m     \u001b[38;5;28;01mraise\u001b[39;00m e\n\u001b[0;32m     29\u001b[0m \u001b[38;5;28;01mif\u001b[39;00m data:\n\u001b[0;32m     30\u001b[0m     \u001b[38;5;28;01mif\u001b[39;00m data[\u001b[38;5;124m\"\u001b[39m\u001b[38;5;124mtime\u001b[39m\u001b[38;5;124m\"\u001b[39m]:\n",
      "Cell \u001b[1;32mIn[161], line 16\u001b[0m\n\u001b[0;32m     14\u001b[0m \u001b[38;5;28;01mtry\u001b[39;00m:\n\u001b[0;32m     15\u001b[0m     Y \u001b[38;5;241m=\u001b[39m current \u001b[38;5;241m+\u001b[39m y\n\u001b[1;32m---> 16\u001b[0m     data \u001b[38;5;241m=\u001b[39m \u001b[43mget_post_info\u001b[49m\u001b[43m(\u001b[49m\u001b[43mdriver\u001b[49m\u001b[43m,\u001b[49m\u001b[43m \u001b[49m\u001b[43mi\u001b[49m\u001b[43m \u001b[49m\u001b[38;5;241;43m+\u001b[39;49m\u001b[43m \u001b[49m\u001b[38;5;241;43m1\u001b[39;49m\u001b[43m,\u001b[49m\u001b[43m \u001b[49m\u001b[43mY\u001b[49m\u001b[43m \u001b[49m\u001b[38;5;241;43m+\u001b[39;49m\u001b[43m \u001b[49m\u001b[38;5;241;43m400\u001b[39;49m\u001b[43m)\u001b[49m\n\u001b[0;32m     17\u001b[0m     i \u001b[38;5;241m+\u001b[39m\u001b[38;5;241m=\u001b[39m \u001b[38;5;241m1\u001b[39m\n\u001b[0;32m     18\u001b[0m     current \u001b[38;5;241m=\u001b[39m \u001b[38;5;28mint\u001b[39m(data[\u001b[38;5;124m\"\u001b[39m\u001b[38;5;124mcurrent\u001b[39m\u001b[38;5;124m\"\u001b[39m][\u001b[38;5;124m\"\u001b[39m\u001b[38;5;124my\u001b[39m\u001b[38;5;124m\"\u001b[39m])\n",
      "Cell \u001b[1;32mIn[160], line 167\u001b[0m, in \u001b[0;36mget_post_info\u001b[1;34m(driver, post_index, y)\u001b[0m\n\u001b[0;32m    165\u001b[0m     driver\u001b[38;5;241m.\u001b[39mfind_element(By\u001b[38;5;241m.\u001b[39mCSS_SELECTOR, \u001b[38;5;124m\"\u001b[39m\u001b[38;5;124mdiv > div:nth-child(1) > div > div:nth-child(5) > div > div > div > div > div > div > div > div > div > div > div > div:nth-child(1) > div > div:nth-child(3) > div > svg\u001b[39m\u001b[38;5;124m\"\u001b[39m)\u001b[38;5;241m.\u001b[39mclick()\n\u001b[0;32m    166\u001b[0m \u001b[38;5;28;01mexcept\u001b[39;00m \u001b[38;5;167;01mException\u001b[39;00m \u001b[38;5;28;01mas\u001b[39;00m e:\n\u001b[1;32m--> 167\u001b[0m     \u001b[38;5;28;01mraise\u001b[39;00m e\n\u001b[0;32m    168\u001b[0m \u001b[38;5;66;03m# finally:\u001b[39;00m\n\u001b[0;32m    169\u001b[0m \u001b[38;5;66;03m#     driver.find_element(By.CSS_SELECTOR, \"div > div:nth-child(1) > div > div:nth-child(5) > div > div > div > div > div > div > div > div > div > div > div > div:nth-child(1) > div > div:nth-child(3) > div > svg\").click()\u001b[39;00m\n\u001b[0;32m    170\u001b[0m \u001b[38;5;28;01mreturn\u001b[39;00m dictionary\n",
      "Cell \u001b[1;32mIn[160], line 49\u001b[0m, in \u001b[0;36mget_post_info\u001b[1;34m(driver, post_index, y)\u001b[0m\n\u001b[0;32m     47\u001b[0m c \u001b[38;5;241m=\u001b[39m comment_buttons[\u001b[38;5;241m-\u001b[39m\u001b[38;5;241m1\u001b[39m]\u001b[38;5;241m.\u001b[39mfind_element(By\u001b[38;5;241m.\u001b[39mXPATH, \u001b[38;5;124m\"\u001b[39m\u001b[38;5;124m..\u001b[39m\u001b[38;5;124m\"\u001b[39m)\n\u001b[0;32m     48\u001b[0m \u001b[38;5;28mprint\u001b[39m(c)\n\u001b[1;32m---> 49\u001b[0m \u001b[43mc\u001b[49m\u001b[38;5;241;43m.\u001b[39;49m\u001b[43mclick\u001b[49m\u001b[43m(\u001b[49m\u001b[43m)\u001b[49m\n\u001b[0;32m     50\u001b[0m sleep(\u001b[38;5;241m2\u001b[39m)\n\u001b[0;32m     51\u001b[0m \u001b[38;5;66;03m# action.click(comment_button).perform()\u001b[39;00m\n\u001b[0;32m     52\u001b[0m \n\u001b[0;32m     53\u001b[0m \u001b[38;5;66;03m# Nhấn vào xem thêm\u001b[39;00m\n",
      "File \u001b[1;32mc:\\Users\\Admin\\AppData\\Local\\Programs\\Python\\Python311\\Lib\\site-packages\\selenium\\webdriver\\remote\\webelement.py:94\u001b[0m, in \u001b[0;36mWebElement.click\u001b[1;34m(self)\u001b[0m\n\u001b[0;32m     92\u001b[0m \u001b[38;5;28;01mdef\u001b[39;00m \u001b[38;5;21mclick\u001b[39m(\u001b[38;5;28mself\u001b[39m) \u001b[38;5;241m-\u001b[39m\u001b[38;5;241m>\u001b[39m \u001b[38;5;28;01mNone\u001b[39;00m:\n\u001b[0;32m     93\u001b[0m \u001b[38;5;250m    \u001b[39m\u001b[38;5;124;03m\"\"\"Clicks the element.\"\"\"\u001b[39;00m\n\u001b[1;32m---> 94\u001b[0m     \u001b[38;5;28;43mself\u001b[39;49m\u001b[38;5;241;43m.\u001b[39;49m\u001b[43m_execute\u001b[49m\u001b[43m(\u001b[49m\u001b[43mCommand\u001b[49m\u001b[38;5;241;43m.\u001b[39;49m\u001b[43mCLICK_ELEMENT\u001b[49m\u001b[43m)\u001b[49m\n",
      "File \u001b[1;32mc:\\Users\\Admin\\AppData\\Local\\Programs\\Python\\Python311\\Lib\\site-packages\\selenium\\webdriver\\remote\\webelement.py:395\u001b[0m, in \u001b[0;36mWebElement._execute\u001b[1;34m(self, command, params)\u001b[0m\n\u001b[0;32m    393\u001b[0m     params \u001b[38;5;241m=\u001b[39m {}\n\u001b[0;32m    394\u001b[0m params[\u001b[38;5;124m\"\u001b[39m\u001b[38;5;124mid\u001b[39m\u001b[38;5;124m\"\u001b[39m] \u001b[38;5;241m=\u001b[39m \u001b[38;5;28mself\u001b[39m\u001b[38;5;241m.\u001b[39m_id\n\u001b[1;32m--> 395\u001b[0m \u001b[38;5;28;01mreturn\u001b[39;00m \u001b[38;5;28;43mself\u001b[39;49m\u001b[38;5;241;43m.\u001b[39;49m\u001b[43m_parent\u001b[49m\u001b[38;5;241;43m.\u001b[39;49m\u001b[43mexecute\u001b[49m\u001b[43m(\u001b[49m\u001b[43mcommand\u001b[49m\u001b[43m,\u001b[49m\u001b[43m \u001b[49m\u001b[43mparams\u001b[49m\u001b[43m)\u001b[49m\n",
      "File \u001b[1;32mc:\\Users\\Admin\\AppData\\Local\\Programs\\Python\\Python311\\Lib\\site-packages\\selenium\\webdriver\\remote\\webdriver.py:348\u001b[0m, in \u001b[0;36mWebDriver.execute\u001b[1;34m(self, driver_command, params)\u001b[0m\n\u001b[0;32m    346\u001b[0m response \u001b[38;5;241m=\u001b[39m \u001b[38;5;28mself\u001b[39m\u001b[38;5;241m.\u001b[39mcommand_executor\u001b[38;5;241m.\u001b[39mexecute(driver_command, params)\n\u001b[0;32m    347\u001b[0m \u001b[38;5;28;01mif\u001b[39;00m response:\n\u001b[1;32m--> 348\u001b[0m     \u001b[38;5;28;43mself\u001b[39;49m\u001b[38;5;241;43m.\u001b[39;49m\u001b[43merror_handler\u001b[49m\u001b[38;5;241;43m.\u001b[39;49m\u001b[43mcheck_response\u001b[49m\u001b[43m(\u001b[49m\u001b[43mresponse\u001b[49m\u001b[43m)\u001b[49m\n\u001b[0;32m    349\u001b[0m     response[\u001b[38;5;124m\"\u001b[39m\u001b[38;5;124mvalue\u001b[39m\u001b[38;5;124m\"\u001b[39m] \u001b[38;5;241m=\u001b[39m \u001b[38;5;28mself\u001b[39m\u001b[38;5;241m.\u001b[39m_unwrap_value(response\u001b[38;5;241m.\u001b[39mget(\u001b[38;5;124m\"\u001b[39m\u001b[38;5;124mvalue\u001b[39m\u001b[38;5;124m\"\u001b[39m, \u001b[38;5;28;01mNone\u001b[39;00m))\n\u001b[0;32m    350\u001b[0m     \u001b[38;5;28;01mreturn\u001b[39;00m response\n",
      "File \u001b[1;32mc:\\Users\\Admin\\AppData\\Local\\Programs\\Python\\Python311\\Lib\\site-packages\\selenium\\webdriver\\remote\\errorhandler.py:229\u001b[0m, in \u001b[0;36mErrorHandler.check_response\u001b[1;34m(self, response)\u001b[0m\n\u001b[0;32m    227\u001b[0m         alert_text \u001b[38;5;241m=\u001b[39m value[\u001b[38;5;124m\"\u001b[39m\u001b[38;5;124malert\u001b[39m\u001b[38;5;124m\"\u001b[39m]\u001b[38;5;241m.\u001b[39mget(\u001b[38;5;124m\"\u001b[39m\u001b[38;5;124mtext\u001b[39m\u001b[38;5;124m\"\u001b[39m)\n\u001b[0;32m    228\u001b[0m     \u001b[38;5;28;01mraise\u001b[39;00m exception_class(message, screen, stacktrace, alert_text)  \u001b[38;5;66;03m# type: ignore[call-arg]  # mypy is not smart enough here\u001b[39;00m\n\u001b[1;32m--> 229\u001b[0m \u001b[38;5;28;01mraise\u001b[39;00m exception_class(message, screen, stacktrace)\n",
      "\u001b[1;31mElementClickInterceptedException\u001b[0m: Message: element click intercepted: Element <div class=\"x9f619 x1n2onr6 x1ja2u2z x78zum5 xdt5ytf x2lah0s x193iq5w xeuugli xg83lxy x1h0ha7o x10b6aqq x1yrsyyn\">...</div> is not clickable at point (1048, 14). Other element would receive the click: <a class=\"x1i10hfl x1ejq31n xd10rxx x1sy0etr x17r0tee x972fbf xcfux6l x1qhh985 xm0m39n x9f619 x1ypdohk xe8uvvx xdj266r x11i5rnm xat24cr x1mh8g0r xexx8yu x18d9i69 x16tdsg8 x1hl2dhg xggy1nq x87ps6o x1lku1pv x1a2a7pz x6s0dn4 x1tlxs6b x1g8br2z x1gn5b1j x230xth x78zum5 x1q0g3np xc9qbxq xl56j7k xn6708d x1ye3gou x1n2onr6 xh8yej3 x1qhmfi1\" href=\"/friends/\" role=\"link\" tabindex=\"0\">...</a>\n  (Session info: chrome=122.0.6261.112)\nStacktrace:\n\tGetHandleVerifier [0x00C08D33+51395]\n\t(No symbol) [0x00B75F91]\n\t(No symbol) [0x00A2E13A]\n\t(No symbol) [0x00A6B8A2]\n\t(No symbol) [0x00A6A0D4]\n\t(No symbol) [0x00A6813B]\n\t(No symbol) [0x00A6731A]\n\t(No symbol) [0x00A5E54E]\n\t(No symbol) [0x00A83E8C]\n\t(No symbol) [0x00A5DF7E]\n\t(No symbol) [0x00A84124]\n\t(No symbol) [0x00A9A570]\n\t(No symbol) [0x00A83C26]\n\t(No symbol) [0x00A5C629]\n\t(No symbol) [0x00A5D40D]\n\tGetHandleVerifier [0x00F864F3+3711107]\n\tGetHandleVerifier [0x00FC58DA+3970154]\n\tGetHandleVerifier [0x00FC0BC8+3950424]\n\tGetHandleVerifier [0x00CB9D39+776393]\n\t(No symbol) [0x00B81764]\n\t(No symbol) [0x00B7C648]\n\t(No symbol) [0x00B7C7F9]\n\t(No symbol) [0x00B6DE20]\n\tBaseThreadInitThunk [0x764EFCC9+25]\n\tRtlGetAppContainerNamedObjectPath [0x77527C5E+286]\n\tRtlGetAppContainerNamedObjectPath [0x77527C2E+238]\n"
     ]
    }
   ],
   "source": [
    "import pandas as pd\n",
    "import os\n",
    "\n",
    "current = 159001\n",
    "\n",
    "y = 0\n",
    "result = []\n",
    "i = 237 - 1 \n",
    "file_path = r\"C:\\Users\\Admin\\Downloads\\output_Cao_fb\\output.csv\"\n",
    "while True:\n",
    "    data = None\n",
    "    while driver.execute_script(\"return document.body.scrollHeight\") < current:\n",
    "        driver.execute_script(f\"window.scrollTo(0, {current})\")\n",
    "    try:\n",
    "        Y = current + y\n",
    "        data = get_post_info(driver, i + 1, Y + 400)\n",
    "        i += 1\n",
    "        current = int(data[\"current\"][\"y\"])\n",
    "        y = int(data[\"y\"])\n",
    "        if data[\"content\"] == None:\n",
    "            continue\n",
    "        if data[\"content\"]:\n",
    "            result.append(data)\n",
    "\n",
    "    except Exception as e:\n",
    "        print(i-1)\n",
    "        print(current)\n",
    "        raise e\n",
    "    if data:\n",
    "        if data[\"time\"]:\n",
    "            post_time = data[\"time\"]\n",
    "            day = post_time.split(\",\")[1].split(\" \")[1]\n",
    "            month = post_time.split(\",\")[1].split(\" \")[-1]\n",
    "            year = post_time.split(\",\")[2].split(\" \")[1]\n",
    "            hour, minues = post_time.split(\",\")[2].split(\" \")[-1].split(\":\")\n",
    "            date = datetime.strptime(f\"{year}-{month}-{day}-{hour}-{minues}\", \n",
    "                                    r\"%Y-%m-%d-%H-%M\")\n",
    "            if date < datetime.now() - timedelta(days=90):\n",
    "                # thời gian post nhỏ hơn thời gian hiện tại - thời gian 1 ngày\n",
    "                break\n",
    "    \n",
    "    data[\"comment\"] = [str(data[\"comment\"])]\n",
    "    data[\"emoji\"] = [str(data[\"emoji\"])]\n",
    "    data[\"content\"] = [str(data[\"content\"])]\n",
    "    data[\"current\"] = [data[\"current\"][\"y\"]]\n",
    "    data[\"i\"] = i-1\n",
    "    del data[\"y\"]\n",
    "\n",
    "    # print(data)\n",
    "    df = pd.DataFrame.from_dict(data)\n",
    "\n",
    "    df.to_csv(file_path, mode=\"a\", encoding=\"utf-8-sig\", header=False, index=False)\n",
    "result.pop(-1)\n"
   ]
  },
  {
   "cell_type": "code",
   "execution_count": 20,
   "id": "2c1a7d17",
   "metadata": {},
   "outputs": [
    {
     "data": {
      "text/plain": [
       "{'content': '[\\'#2820\\\\n\"Xin chào các bạn nữ DUE,\\\\nNhân ngày 8/3 mình chúc các bạn nữ luôn vui tươi, chúc cho thế giới này mãi xinh đẹp như các bạn.\\\\nTối nay bạn nữ nào chưa có người yêu hay mới chia tay đừng ngần ngại thả TYM cho mình nhé. Hy vọng chúng ta hữu duyên, hy vọng 8/3 năm sau thế giới bớt đi 2 người cô đơn.\\\\np/s: Mình thuộc thế hệ 9X, người ĐN nhé !\\\\nYêu các bạn !\"\\\\n---------\\\\n#xíu \\\\n---------------------------------------\\\\n Gửi về page câu chuyện của bạn tại đây: bit.ly/2Uxhm9L\\']',\n",
       " 'emoji': \"['Tất cả, 189', 'Thích, 104', 'Haha, 46', 'Yêu thích, 37', 'Thương thương, 1', 'Wow, 1']\",\n",
       " 'comment': \"['Yêu 1 bạn thôi chứ yêu các bạn là dở rồi :))', 'Thái Minh ChâuDiệu LinhLê Thị Mỹ Linh ý em sao', 'Ly Na thả tim kìa', 'Lương Lyna nhanh còn kịp haha', 'hhaha trễ lâu rồi', 'Nguyễn Thị Bình An e thả tim r ah', 'Mẫn Đinh timmmm đyy', 'Nữ thì k có nhưng em có thằng bạn tên Giuse Anh Tú, nó sống trên đời 21 năm rồi nhưng chưa 1 lần được đi chơi 8/3, anh có thể dắt bạn em đi cho nó biết cảm giác được k ạ', 'Lê Mai Trúc Vy tym liền', 'My Phan còn c Lê Thủy nữa nè', 'Lê Mai Trúc Vy úi sao quên chỉ được', 'Lê Mai Trúc Vy My Phan =))) cảm mơn', 'Đức Trãi nút thả tym bị liệt thông cảm', 'người ĐN, 9X chưa có bồ =))) Nguyễn Lý Minh Trí anh viết đúng k', 'Thanh Huệ Tuyết Ngân Hồng Hiếu Hoàng Ân My Tam lên cho anh mấy con mã new bên e', 'Hoàng Trần Quỳnh Giang m đừng có reo ce như z nữa….', 'Tuyết Ngân như lời bài hát e chèn zô mà c', 'Giờ mình apply còn kịp không ạ?', 'Nãy bạn mình không có wifi đòi đăng ký 4G để thả tym, nói rứa thôi chứ tag Phan Ngọc Diệu vô thì lộ quá']\",\n",
       " 'current': 1106,\n",
       " 'y': '416',\n",
       " 'time': 'Thứ Sáu, 8 Tháng 3, 2024 lúc 22:21',\n",
       " 'comments_size': 19}"
      ]
     },
     "execution_count": 20,
     "metadata": {},
     "output_type": "execute_result"
    }
   ],
   "source": [
    "data"
   ]
  },
  {
   "cell_type": "code",
   "execution_count": 17,
   "id": "95c98bfb",
   "metadata": {},
   "outputs": [
    {
     "name": "stdout",
     "output_type": "stream",
     "text": [
      "1\n"
     ]
    },
    {
     "data": {
      "text/plain": [
       "{'content': ['#2820\\n\"Xin chào các bạn nữ DUE,\\nNhân ngày 8/3 mình chúc các bạn nữ luôn vui tươi, chúc cho thế giới này mãi xinh đẹp như các bạn.\\nTối nay bạn nữ nào chưa có người yêu hay mới chia tay đừng ngần ngại thả TYM cho mình nhé. Hy vọng chúng ta hữu duyên, hy vọng 8/3 năm sau thế giới bớt đi 2 người cô đơn.\\np/s: Mình thuộc thế hệ 9X, người ĐN nhé !\\nYêu các bạn !\"\\n---------\\n#xíu \\n---------------------------------------\\n Gửi về page câu chuyện của bạn tại đây: bit.ly/2Uxhm9L'],\n",
       " 'emoji': ['Tất cả, 184',\n",
       "  'Thích, 101',\n",
       "  'Haha, 45',\n",
       "  'Yêu thích, 36',\n",
       "  'Thương thương, 1',\n",
       "  'Wow, 1'],\n",
       " 'comment': ['Yêu 1 bạn thôi chứ yêu các bạn là dở rồi :))',\n",
       "  'Thái Minh ChâuDiệu LinhLê Thị Mỹ Linh ý em sao',\n",
       "  'Ly Na thả tim kìa',\n",
       "  'Lương Lyna nhanh còn kịp haha',\n",
       "  'hhaha trễ lâu rồi',\n",
       "  'Mẫn Đinh timmmm đyy',\n",
       "  'Nữ thì k có nhưng em có thằng bạn tên Giuse Anh Tú, nó sống trên đời 21 năm rồi nhưng chưa 1 lần được đi chơi 8/3, anh có thể dắt bạn em đi cho nó biết cảm giác được k ạ',\n",
       "  'Lê Mai Trúc Vy tym liền',\n",
       "  'My Phan còn c Lê Thủy nữa nè',\n",
       "  'Lê Mai Trúc Vy úi sao quên chỉ được',\n",
       "  'Lê Mai Trúc Vy My Phan =))) cảm mơn',\n",
       "  'người ĐN, 9X chưa có bồ =))) Nguyễn Lý Minh Trí anh viết đúng k',\n",
       "  'Đức Trãi nút thả tym bị liệt thông cảm',\n",
       "  'Thanh Huệ Tuyết Ngân Hồng Hiếu Hoàng Ân My Tam lên cho anh mấy con mã new bên e',\n",
       "  'Hoàng Trần Quỳnh Giang m đừng có reo ce như z nữa….',\n",
       "  'Tuyết Ngân như lời bài hát e chèn zô mà c',\n",
       "  'Giờ mình apply còn kịp không ạ?',\n",
       "  'Nãy bạn mình không có wifi đòi đăng ký 4G để thả tym, nói rứa thôi chứ tag Phan Ngọc Diệu vô thì lộ quá'],\n",
       " 'current': {'x': 612, 'y': 1106},\n",
       " 'y': '416',\n",
       " 'time': 'Thứ Sáu, 8 Tháng 3, 2024 lúc 22:21',\n",
       " 'comments_size': 18}"
      ]
     },
     "execution_count": 17,
     "metadata": {},
     "output_type": "execute_result"
    }
   ],
   "source": [
    "data = get_post_info(driver, 1, 1000)\n",
    "data"
   ]
  },
  {
   "cell_type": "code",
   "execution_count": 19,
   "id": "df2b8e2f",
   "metadata": {},
   "outputs": [
    {
     "data": {
      "text/plain": [
       "9"
      ]
     },
     "execution_count": 19,
     "metadata": {},
     "output_type": "execute_result"
    }
   ],
   "source": [
    "result.__len__()"
   ]
  },
  {
   "cell_type": "code",
   "execution_count": 21,
   "id": "299dc7d2",
   "metadata": {},
   "outputs": [
    {
     "data": {
      "text/plain": [
       "{'content': ['#2820\\n\"Xin chào các bạn nữ DUE,\\nNhân ngày 8/3 mình chúc các bạn nữ luôn vui tươi, chúc cho thế giới này mãi xinh đẹp như các bạn.\\nTối nay bạn nữ nào chưa có người yêu hay mới chia tay đừng ngần ngại thả TYM cho mình nhé. Hy vọng chúng ta hữu duyên, hy vọng 8/3 năm sau thế giới bớt đi 2 người cô đơn.\\np/s: Mình thuộc thế hệ 9X, người ĐN nhé !\\nYêu các bạn !\"\\n---------\\n#xíu \\n---------------------------------------\\n Gửi về page câu chuyện của bạn tại đây: bit.ly/2Uxhm9L'],\n",
       " 'emoji': ['Tất cả, 184',\n",
       "  'Thích, 101',\n",
       "  'Haha, 45',\n",
       "  'Yêu thích, 36',\n",
       "  'Thương thương, 1',\n",
       "  'Wow, 1'],\n",
       " 'comment': ['Yêu 1 bạn thôi chứ yêu các bạn là dở rồi :))',\n",
       "  'Thái Minh ChâuDiệu LinhLê Thị Mỹ Linh ý em sao',\n",
       "  'Ly Na thả tim kìa',\n",
       "  'Lương Lyna nhanh còn kịp haha',\n",
       "  'hhaha trễ lâu rồi',\n",
       "  'Mẫn Đinh timmmm đyy',\n",
       "  'Nữ thì k có nhưng em có thằng bạn tên Giuse Anh Tú, nó sống trên đời 21 năm rồi nhưng chưa 1 lần được đi chơi 8/3, anh có thể dắt bạn em đi cho nó biết cảm giác được k ạ',\n",
       "  'Lê Mai Trúc Vy tym liền',\n",
       "  'My Phan còn c Lê Thủy nữa nè',\n",
       "  'Lê Mai Trúc Vy úi sao quên chỉ được',\n",
       "  'Lê Mai Trúc Vy My Phan =))) cảm mơn',\n",
       "  'người ĐN, 9X chưa có bồ =))) Nguyễn Lý Minh Trí anh viết đúng k',\n",
       "  'Đức Trãi nút thả tym bị liệt thông cảm',\n",
       "  'Thanh Huệ Tuyết Ngân Hồng Hiếu Hoàng Ân My Tam lên cho anh mấy con mã new bên e',\n",
       "  'Hoàng Trần Quỳnh Giang m đừng có reo ce như z nữa….',\n",
       "  'Tuyết Ngân như lời bài hát e chèn zô mà c',\n",
       "  'Giờ mình apply còn kịp không ạ?',\n",
       "  'Nãy bạn mình không có wifi đòi đăng ký 4G để thả tym, nói rứa thôi chứ tag Phan Ngọc Diệu vô thì lộ quá'],\n",
       " 'current': {'x': 612, 'y': 1106},\n",
       " 'y': '466',\n",
       " 'time': 'Thứ Sáu, 8 Tháng 3, 2024 lúc 22:21',\n",
       " 'comments_size': 18}"
      ]
     },
     "execution_count": 21,
     "metadata": {},
     "output_type": "execute_result"
    }
   ],
   "source": [
    "result[0]"
   ]
  }
 ],
 "metadata": {
  "kernelspec": {
   "display_name": "Python 3 (ipykernel)",
   "language": "python",
   "name": "python3"
  },
  "language_info": {
   "codemirror_mode": {
    "name": "ipython",
    "version": 3
   },
   "file_extension": ".py",
   "mimetype": "text/x-python",
   "name": "python",
   "nbconvert_exporter": "python",
   "pygments_lexer": "ipython3",
   "version": "3.11.1"
  }
 },
 "nbformat": 4,
 "nbformat_minor": 5
}
