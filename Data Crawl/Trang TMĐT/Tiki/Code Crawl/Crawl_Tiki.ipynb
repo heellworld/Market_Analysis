{
 "cells": [
  {
   "cell_type": "markdown",
   "metadata": {},
   "source": [
    "## Get product ID"
   ]
  },
  {
   "cell_type": "markdown",
   "metadata": {},
   "source": [
    "# Iphone: https://tiki.vn/dien-thoai-smartphone/c1795?brand=17827&page=1\n",
    "# Samsung: https://tiki.vn/dien-thoai-smartphone/c1795?brand=18802"
   ]
  },
  {
   "cell_type": "code",
   "execution_count": 2,
   "metadata": {},
   "outputs": [
    {
     "name": "stdout",
     "output_type": "stream",
     "text": [
      "request success!!!\n",
      "request success!!!\n",
      "request success!!!\n"
     ]
    }
   ],
   "source": [
    "import requests\n",
    "import time\n",
    "import random\n",
    "import pandas as pd\n",
    "import os\n",
    "cookies = {\n",
    "    'TIKI_GUEST_TOKEN': '8jWSuIDBb2NGVzr6hsUZXpkP1FRin7lY',\n",
    "    'TOKENS': '{%22access_token%22:%22167AgdBpHNqmzc3Zai8EJjLQk4DuYXW9%22%2C%22expires_in%22:157680000%2C%22expires_at%22:1862536565919%2C%22guest_token%22:%22167AgdBpHNqmzc3Zai8EJjLQk4DuYXW9%22}',\n",
    "    'amp_99d374': 'eSc-_0HT1um7cb57E7dwA0...1enloc6a2.1enlpc1q6.b.i.t',\n",
    "    'amp_99d374_tiki.vn': 'eSc-_0HT1um7cb57E7dwA0...1enloc6a2.1enlp8817.3.1.1',\n",
    "    '_gcl_au': '1.1.559117409.1605974236',\n",
    "    '_ants_utm_v2': '',\n",
    "    '_pk_id.638735871.2fc5': 'b92ae025fbbdb31f.1605974236.1.1605975278.1605974236.',\n",
    "    '_pk_ses.638735871.2fc5': '*',\n",
    "    '_trackity': '70e316b0-96f2-dbe1-a2ed-43ff60419991',\n",
    "    '_ga_NKX31X43RV': 'GS1.1.1605974235.1.1.1605975326.0',\n",
    "    '_ga': 'GA1.1.657946765.1605974236',\n",
    "    'ai_client_id': '11935756853.1605974227',\n",
    "    'an_session': 'zizkzrzjzlzizqzlzqzjzdzizizqzgzmzkzmzlzrzmzgzdzizlzjzmzqzkznzhzhzkzdzizhzdzizlzjzmzqzkznzhzhzkzdzizlzjzmzqzkznzhzhzkzdzjzdzhzqzdzizd2f27zdzjzdzlzmzmznzq',\n",
    "    'au_aid': '11935756853',\n",
    "    'dgs': '1605975268%3A3%3A0',\n",
    "    'au_gt': '1605974227146',\n",
    "    '_ants_services': '%5B%22cuid%22%5D',\n",
    "    '__admUTMtime': '1605974236',\n",
    "    '__iid': '749',\n",
    "    '__su': '0',\n",
    "    '_bs': 'bb9a32f6-ab13-ce80-92d6-57fd3fd6e4c8',\n",
    "    '_gid': 'GA1.2.867846791.1605974237',\n",
    "    '_fbp': 'fb.1.1605974237134.1297408816',\n",
    "    '_hjid': 'f152cf33-7323-4410-b9ae-79f6622ebc48',\n",
    "    '_hjFirstSeen': '1',\n",
    "    '_hjIncludedInPageviewSample': '1',\n",
    "    '_hjAbsoluteSessionInProgress': '0',\n",
    "    '_hjIncludedInSessionSample': '1',\n",
    "    'tiki_client_id': '657946765.1605974236',\n",
    "    '__gads': 'ID=ae56424189ecccbe-227eb8e1d6c400a8:T=1605974229:RT=1605974229:S=ALNI_MZFWYf2BAjzCSiRNLC3bKI-W_7YHA',\n",
    "    'proxy_s_sv': '1605976041662',\n",
    "    'TKSESSID': '8bcd49b02e1e16aa1cdb795c54d7b460',\n",
    "    'TIKI_RECOMMENDATION': '21dd50e7f7c194df673ea3b717459249',\n",
    "    'cto_bundle': 'V9Dkml9NVXNkQmJ6aEVLcXNqbHdjcVZoQ0l5RXpOMlRybjdDT0JrUnNxVXc2bHd0N2J3Y2FCdmZVQXdYY1QlMkJYUmxXSHZ2UEFwd3IzRHhzRWJYMlQlMkJsQjhjQlA1JTJCcExyRzlUQk5CYUdMdjl2STNQanVsa3cycHd3SHElMkJabnI3dzNhREpZcFVyandyM1d1QWpJbWYxT1UyWDdHZyUzRCUzRA',\n",
    "    'TIKI_RECENTLYVIEWED': '58259141',\n",
    "    '_ants_event_his': '%7B%22action%22%3A%22view%22%2C%22time%22%3A1605974691247%7D',\n",
    "    '_gat': '1',\n",
    "}\n",
    "\n",
    "headers = {\n",
    "    'User-Agent': 'Mozilla/5.0 (Windows NT 10.0; Win64; x64) AppleWebKit/537.36 (KHTML, like Gecko) Chrome/122.0.0.0 Safari/537.36',\n",
    "    'Accept': 'application/json, text/plain, */*',\n",
    "    'Accept-Language': 'vi-VN,vi;q=0.9,fr-FR;q=0.8,fr;q=0.7,en-US;q=0.6,en;q=0.5',\n",
    "    'Referer': 'https://tiki.vn/dien-thoai-smartphone/c1795?brand=18802&page=1',\n",
    "    'x-guest-token': '167AgdBpHNqmzc3Zai8EJjLQk4DuYXW9',\n",
    "    'Connection': 'keep-alive',\n",
    "    'TE': 'Trailers',\n",
    "}\n",
    "\n",
    "params = {\n",
    "    'limit': '40',\n",
    "    'include': 'advertisement',\n",
    "    'aggregations': '2',\n",
    "    'version': 'home-persionalized',\n",
    "    'trackity_id': 'e4a7ade1-5c2c-bfae-b140-b796dd66bd0b',\n",
    "    'category': '1795',\n",
    "    'page': '1',\n",
    "    'urlKey': 'dien-thoai-smartphone',\n",
    "    'brand': '18802',\n",
    "}\n",
    "\n",
    "product_id = []\n",
    "for i in range(1,4):\n",
    "    params['page'] = i\n",
    "    response = requests.get('https://tiki.vn/api/personalish/v1/blocks/listings', headers=headers, params=params)#, cookies=cookies)\n",
    "    if response.status_code == 200:\n",
    "        print('request success!!!')\n",
    "        for record in response.json().get('data'):\n",
    "            product_id.append({'id': record.get('id')})\n",
    "    time.sleep(random.randrange(3, 10))\n",
    "\n",
    "df = pd.DataFrame(product_id)\n",
    "df.to_csv('product_id_Smarphone_19-3.csv', mode='a', header=not os.path.exists('product_id_Smarphone_19-3.csv'), index=False, encoding='utf-8-sig')\n"
   ]
  },
  {
   "cell_type": "markdown",
   "metadata": {},
   "source": [
    "## Get product"
   ]
  },
  {
   "cell_type": "code",
   "execution_count": 5,
   "metadata": {},
   "outputs": [
    {
     "name": "stderr",
     "output_type": "stream",
     "text": [
      "  0%|          | 0/118 [00:00<?, ?it/s]"
     ]
    },
    {
     "name": "stdout",
     "output_type": "stream",
     "text": [
      "Crawl data 184036446 success !!!\n"
     ]
    },
    {
     "name": "stderr",
     "output_type": "stream",
     "text": [
      "  1%|          | 1/118 [00:04<08:16,  4.24s/it]"
     ]
    },
    {
     "name": "stdout",
     "output_type": "stream",
     "text": [
      "Crawl data 184059211 success !!!\n"
     ]
    },
    {
     "name": "stderr",
     "output_type": "stream",
     "text": [
      "  2%|▏         | 2/118 [00:07<07:03,  3.65s/it]"
     ]
    },
    {
     "name": "stdout",
     "output_type": "stream",
     "text": [
      "Crawl data 123345348 success !!!\n"
     ]
    },
    {
     "name": "stderr",
     "output_type": "stream",
     "text": [
      "  3%|▎         | 3/118 [00:10<06:37,  3.46s/it]"
     ]
    },
    {
     "name": "stdout",
     "output_type": "stream",
     "text": [
      "Crawl data 197214029 success !!!\n"
     ]
    },
    {
     "name": "stderr",
     "output_type": "stream",
     "text": [
      "  3%|▎         | 4/118 [00:14<07:08,  3.76s/it]"
     ]
    },
    {
     "name": "stdout",
     "output_type": "stream",
     "text": [
      "Crawl data 271966786 success !!!\n"
     ]
    },
    {
     "name": "stderr",
     "output_type": "stream",
     "text": [
      "  4%|▍         | 5/118 [00:19<07:24,  3.94s/it]"
     ]
    },
    {
     "name": "stdout",
     "output_type": "stream",
     "text": [
      "Crawl data 271973414 success !!!\n"
     ]
    },
    {
     "name": "stderr",
     "output_type": "stream",
     "text": [
      "  5%|▌         | 6/118 [00:22<06:54,  3.70s/it]"
     ]
    },
    {
     "name": "stdout",
     "output_type": "stream",
     "text": [
      "Crawl data 197214015 success !!!\n"
     ]
    },
    {
     "name": "stderr",
     "output_type": "stream",
     "text": [
      "  6%|▌         | 7/118 [00:25<06:33,  3.55s/it]"
     ]
    },
    {
     "name": "stdout",
     "output_type": "stream",
     "text": [
      "Crawl data 271967379 success !!!\n"
     ]
    },
    {
     "name": "stderr",
     "output_type": "stream",
     "text": [
      "  7%|▋         | 8/118 [00:29<06:53,  3.76s/it]"
     ]
    },
    {
     "name": "stdout",
     "output_type": "stream",
     "text": [
      "Crawl data 271972435 success !!!\n"
     ]
    },
    {
     "name": "stderr",
     "output_type": "stream",
     "text": [
      "  8%|▊         | 9/118 [00:33<06:31,  3.59s/it]"
     ]
    },
    {
     "name": "stdout",
     "output_type": "stream",
     "text": [
      "Crawl data 273947792 success !!!\n"
     ]
    },
    {
     "name": "stderr",
     "output_type": "stream",
     "text": [
      "  8%|▊         | 10/118 [00:36<06:15,  3.48s/it]"
     ]
    },
    {
     "name": "stdout",
     "output_type": "stream",
     "text": [
      "Crawl data 273947785 success !!!\n"
     ]
    },
    {
     "name": "stderr",
     "output_type": "stream",
     "text": [
      "  9%|▉         | 11/118 [00:39<06:03,  3.40s/it]"
     ]
    },
    {
     "name": "stdout",
     "output_type": "stream",
     "text": [
      "Crawl data 197966909 success !!!\n"
     ]
    },
    {
     "name": "stderr",
     "output_type": "stream",
     "text": [
      " 10%|█         | 12/118 [00:42<05:55,  3.35s/it]"
     ]
    },
    {
     "name": "stdout",
     "output_type": "stream",
     "text": [
      "Crawl data 253443652 success !!!\n"
     ]
    },
    {
     "name": "stderr",
     "output_type": "stream",
     "text": [
      " 11%|█         | 13/118 [00:46<05:48,  3.32s/it]"
     ]
    },
    {
     "name": "stdout",
     "output_type": "stream",
     "text": [
      "Crawl data 253395356 success !!!\n"
     ]
    },
    {
     "name": "stderr",
     "output_type": "stream",
     "text": [
      " 12%|█▏        | 14/118 [00:50<06:12,  3.59s/it]"
     ]
    },
    {
     "name": "stdout",
     "output_type": "stream",
     "text": [
      "Crawl data 253443894 success !!!\n"
     ]
    },
    {
     "name": "stderr",
     "output_type": "stream",
     "text": [
      " 13%|█▎        | 15/118 [00:53<05:59,  3.49s/it]"
     ]
    },
    {
     "name": "stdout",
     "output_type": "stream",
     "text": [
      "Crawl data 267178005 success !!!\n"
     ]
    },
    {
     "name": "stderr",
     "output_type": "stream",
     "text": [
      " 14%|█▎        | 16/118 [00:56<05:47,  3.41s/it]"
     ]
    },
    {
     "name": "stdout",
     "output_type": "stream",
     "text": [
      "Crawl data 216934468 success !!!\n"
     ]
    },
    {
     "name": "stderr",
     "output_type": "stream",
     "text": [
      " 14%|█▍        | 17/118 [01:00<06:08,  3.65s/it]"
     ]
    },
    {
     "name": "stdout",
     "output_type": "stream",
     "text": [
      "Crawl data 215543460 success !!!\n"
     ]
    },
    {
     "name": "stderr",
     "output_type": "stream",
     "text": [
      " 15%|█▌        | 18/118 [01:05<06:23,  3.83s/it]"
     ]
    },
    {
     "name": "stdout",
     "output_type": "stream",
     "text": [
      "Crawl data 249168949 success !!!\n"
     ]
    },
    {
     "name": "stderr",
     "output_type": "stream",
     "text": [
      " 16%|█▌        | 19/118 [01:09<06:31,  3.95s/it]"
     ]
    },
    {
     "name": "stdout",
     "output_type": "stream",
     "text": [
      "Crawl data 251448280 success !!!\n"
     ]
    },
    {
     "name": "stderr",
     "output_type": "stream",
     "text": [
      " 17%|█▋        | 20/118 [01:13<06:34,  4.02s/it]"
     ]
    },
    {
     "name": "stdout",
     "output_type": "stream",
     "text": [
      "Crawl data 272200109 success !!!\n"
     ]
    },
    {
     "name": "stderr",
     "output_type": "stream",
     "text": [
      " 18%|█▊        | 21/118 [01:16<06:07,  3.79s/it]"
     ]
    },
    {
     "name": "stdout",
     "output_type": "stream",
     "text": [
      "Crawl data 245770363 success !!!\n"
     ]
    },
    {
     "name": "stderr",
     "output_type": "stream",
     "text": [
      " 19%|█▊        | 22/118 [01:20<05:48,  3.63s/it]"
     ]
    },
    {
     "name": "stdout",
     "output_type": "stream",
     "text": [
      "Crawl data 263060294 success !!!\n"
     ]
    },
    {
     "name": "stderr",
     "output_type": "stream",
     "text": [
      " 19%|█▉        | 23/118 [01:24<06:02,  3.81s/it]"
     ]
    },
    {
     "name": "stdout",
     "output_type": "stream",
     "text": [
      "Crawl data 249169833 success !!!\n"
     ]
    },
    {
     "name": "stderr",
     "output_type": "stream",
     "text": [
      " 20%|██        | 24/118 [01:27<05:41,  3.64s/it]"
     ]
    },
    {
     "name": "stdout",
     "output_type": "stream",
     "text": [
      "Crawl data 242712374 success !!!\n"
     ]
    },
    {
     "name": "stderr",
     "output_type": "stream",
     "text": [
      " 21%|██        | 25/118 [01:30<05:27,  3.53s/it]"
     ]
    },
    {
     "name": "stdout",
     "output_type": "stream",
     "text": [
      "Crawl data 249178196 success !!!\n"
     ]
    },
    {
     "name": "stderr",
     "output_type": "stream",
     "text": [
      " 22%|██▏       | 26/118 [01:35<05:43,  3.74s/it]"
     ]
    },
    {
     "name": "stdout",
     "output_type": "stream",
     "text": [
      "Crawl data 251407092 success !!!\n"
     ]
    },
    {
     "name": "stderr",
     "output_type": "stream",
     "text": [
      " 23%|██▎       | 27/118 [01:39<05:53,  3.89s/it]"
     ]
    },
    {
     "name": "stdout",
     "output_type": "stream",
     "text": [
      "Crawl data 225960096 success !!!\n"
     ]
    },
    {
     "name": "stderr",
     "output_type": "stream",
     "text": [
      " 24%|██▎       | 28/118 [01:43<05:59,  3.99s/it]"
     ]
    },
    {
     "name": "stdout",
     "output_type": "stream",
     "text": [
      "Crawl data 271152577 success !!!\n"
     ]
    },
    {
     "name": "stderr",
     "output_type": "stream",
     "text": [
      " 25%|██▍       | 29/118 [01:46<05:35,  3.77s/it]"
     ]
    },
    {
     "name": "stdout",
     "output_type": "stream",
     "text": [
      "Crawl data 262589811 success !!!\n"
     ]
    },
    {
     "name": "stderr",
     "output_type": "stream",
     "text": [
      " 25%|██▌       | 30/118 [01:50<05:17,  3.61s/it]"
     ]
    },
    {
     "name": "stdout",
     "output_type": "stream",
     "text": [
      "Crawl data 244355503 success !!!\n"
     ]
    },
    {
     "name": "stderr",
     "output_type": "stream",
     "text": [
      " 26%|██▋       | 31/118 [01:53<05:04,  3.50s/it]"
     ]
    },
    {
     "name": "stdout",
     "output_type": "stream",
     "text": [
      "Crawl data 247730209 success !!!\n"
     ]
    },
    {
     "name": "stderr",
     "output_type": "stream",
     "text": [
      " 27%|██▋       | 32/118 [01:56<04:54,  3.42s/it]"
     ]
    },
    {
     "name": "stdout",
     "output_type": "stream",
     "text": [
      "Crawl data 273244815 success !!!\n"
     ]
    },
    {
     "name": "stderr",
     "output_type": "stream",
     "text": [
      " 28%|██▊       | 33/118 [02:00<05:11,  3.66s/it]"
     ]
    },
    {
     "name": "stdout",
     "output_type": "stream",
     "text": [
      "Crawl data 273640492 success !!!\n"
     ]
    },
    {
     "name": "stderr",
     "output_type": "stream",
     "text": [
      " 29%|██▉       | 34/118 [02:04<05:22,  3.84s/it]"
     ]
    },
    {
     "name": "stdout",
     "output_type": "stream",
     "text": [
      "Crawl data 270636882 success !!!\n"
     ]
    },
    {
     "name": "stderr",
     "output_type": "stream",
     "text": [
      " 30%|██▉       | 35/118 [02:08<05:03,  3.65s/it]"
     ]
    },
    {
     "name": "stdout",
     "output_type": "stream",
     "text": [
      "Crawl data 255866251 success !!!\n"
     ]
    },
    {
     "name": "stderr",
     "output_type": "stream",
     "text": [
      " 31%|███       | 36/118 [02:11<04:49,  3.53s/it]"
     ]
    },
    {
     "name": "stdout",
     "output_type": "stream",
     "text": [
      "Crawl data 273685412 success !!!\n"
     ]
    },
    {
     "name": "stderr",
     "output_type": "stream",
     "text": [
      " 31%|███▏      | 37/118 [02:15<05:02,  3.74s/it]"
     ]
    },
    {
     "name": "stdout",
     "output_type": "stream",
     "text": [
      "Crawl data 273258830 success !!!\n"
     ]
    },
    {
     "name": "stderr",
     "output_type": "stream",
     "text": [
      " 32%|███▏      | 38/118 [02:19<05:12,  3.90s/it]"
     ]
    },
    {
     "name": "stdout",
     "output_type": "stream",
     "text": [
      "Crawl data 270978486 success !!!\n"
     ]
    },
    {
     "name": "stderr",
     "output_type": "stream",
     "text": [
      " 33%|███▎      | 39/118 [02:24<05:16,  4.00s/it]"
     ]
    },
    {
     "name": "stdout",
     "output_type": "stream",
     "text": [
      "Crawl data 225228869 success !!!\n"
     ]
    },
    {
     "name": "stderr",
     "output_type": "stream",
     "text": [
      " 34%|███▍      | 40/118 [02:28<05:17,  4.07s/it]"
     ]
    },
    {
     "name": "stdout",
     "output_type": "stream",
     "text": [
      "Crawl data 253443951 success !!!\n"
     ]
    },
    {
     "name": "stderr",
     "output_type": "stream",
     "text": [
      " 35%|███▍      | 41/118 [02:31<04:53,  3.82s/it]"
     ]
    },
    {
     "name": "stdout",
     "output_type": "stream",
     "text": [
      "Crawl data 262516014 success !!!\n"
     ]
    },
    {
     "name": "stderr",
     "output_type": "stream",
     "text": [
      " 36%|███▌      | 42/118 [02:35<05:00,  3.95s/it]"
     ]
    },
    {
     "name": "stdout",
     "output_type": "stream",
     "text": [
      "Crawl data 273636845 success !!!\n"
     ]
    },
    {
     "name": "stderr",
     "output_type": "stream",
     "text": [
      " 36%|███▋      | 43/118 [02:39<04:40,  3.74s/it]"
     ]
    },
    {
     "name": "stdout",
     "output_type": "stream",
     "text": [
      "Crawl data 248704404 success !!!\n"
     ]
    },
    {
     "name": "stderr",
     "output_type": "stream",
     "text": [
      " 37%|███▋      | 44/118 [02:43<04:47,  3.89s/it]"
     ]
    },
    {
     "name": "stdout",
     "output_type": "stream",
     "text": [
      "Crawl data 272348047 success !!!\n"
     ]
    },
    {
     "name": "stderr",
     "output_type": "stream",
     "text": [
      " 38%|███▊      | 45/118 [02:46<04:29,  3.69s/it]"
     ]
    },
    {
     "name": "stdout",
     "output_type": "stream",
     "text": [
      "Crawl data 270736028 success !!!\n"
     ]
    },
    {
     "name": "stderr",
     "output_type": "stream",
     "text": [
      " 39%|███▉      | 46/118 [02:49<04:15,  3.55s/it]"
     ]
    },
    {
     "name": "stdout",
     "output_type": "stream",
     "text": [
      "Crawl data 273438724 success !!!\n"
     ]
    },
    {
     "name": "stderr",
     "output_type": "stream",
     "text": [
      " 40%|███▉      | 47/118 [02:54<04:26,  3.75s/it]"
     ]
    },
    {
     "name": "stdout",
     "output_type": "stream",
     "text": [
      "Crawl data 272270730 success !!!\n"
     ]
    },
    {
     "name": "stderr",
     "output_type": "stream",
     "text": [
      " 41%|████      | 48/118 [02:57<04:11,  3.59s/it]"
     ]
    },
    {
     "name": "stdout",
     "output_type": "stream",
     "text": [
      "Crawl data 274059475 success !!!\n"
     ]
    },
    {
     "name": "stderr",
     "output_type": "stream",
     "text": [
      " 42%|████▏     | 49/118 [03:01<04:20,  3.77s/it]"
     ]
    },
    {
     "name": "stdout",
     "output_type": "stream",
     "text": [
      "Crawl data 257682739 success !!!\n"
     ]
    },
    {
     "name": "stderr",
     "output_type": "stream",
     "text": [
      " 42%|████▏     | 50/118 [03:04<04:04,  3.60s/it]"
     ]
    },
    {
     "name": "stdout",
     "output_type": "stream",
     "text": [
      "Crawl data 270683809 success !!!\n"
     ]
    },
    {
     "name": "stderr",
     "output_type": "stream",
     "text": [
      " 43%|████▎     | 51/118 [03:07<03:53,  3.49s/it]"
     ]
    },
    {
     "name": "stdout",
     "output_type": "stream",
     "text": [
      "Crawl data 273947792 success !!!\n"
     ]
    },
    {
     "name": "stderr",
     "output_type": "stream",
     "text": [
      " 44%|████▍     | 52/118 [03:12<04:05,  3.72s/it]"
     ]
    },
    {
     "name": "stdout",
     "output_type": "stream",
     "text": [
      "Crawl data 273947785 success !!!\n"
     ]
    },
    {
     "name": "stderr",
     "output_type": "stream",
     "text": [
      " 45%|████▍     | 53/118 [03:15<03:51,  3.57s/it]"
     ]
    },
    {
     "name": "stdout",
     "output_type": "stream",
     "text": [
      "Crawl data 273774937 success !!!\n"
     ]
    },
    {
     "name": "stderr",
     "output_type": "stream",
     "text": [
      " 46%|████▌     | 54/118 [03:19<04:00,  3.75s/it]"
     ]
    },
    {
     "name": "stdout",
     "output_type": "stream",
     "text": [
      "Crawl data 198858451 success !!!\n"
     ]
    },
    {
     "name": "stderr",
     "output_type": "stream",
     "text": [
      " 47%|████▋     | 55/118 [03:23<04:05,  3.89s/it]"
     ]
    },
    {
     "name": "stdout",
     "output_type": "stream",
     "text": [
      "Crawl data 261946899 success !!!\n"
     ]
    },
    {
     "name": "stderr",
     "output_type": "stream",
     "text": [
      " 47%|████▋     | 56/118 [03:27<04:07,  4.00s/it]"
     ]
    },
    {
     "name": "stdout",
     "output_type": "stream",
     "text": [
      "Crawl data 263274580 success !!!\n"
     ]
    },
    {
     "name": "stderr",
     "output_type": "stream",
     "text": [
      " 48%|████▊     | 57/118 [03:32<04:08,  4.07s/it]"
     ]
    },
    {
     "name": "stdout",
     "output_type": "stream",
     "text": [
      "Crawl data 244303202 success !!!\n"
     ]
    },
    {
     "name": "stderr",
     "output_type": "stream",
     "text": [
      " 49%|████▉     | 58/118 [03:35<03:48,  3.82s/it]"
     ]
    },
    {
     "name": "stdout",
     "output_type": "stream",
     "text": [
      "Crawl data 273718967 success !!!\n"
     ]
    },
    {
     "name": "stderr",
     "output_type": "stream",
     "text": [
      " 50%|█████     | 59/118 [03:39<03:52,  3.93s/it]"
     ]
    },
    {
     "name": "stdout",
     "output_type": "stream",
     "text": [
      "Crawl data 212040697 success !!!\n"
     ]
    },
    {
     "name": "stderr",
     "output_type": "stream",
     "text": [
      " 51%|█████     | 60/118 [03:42<03:36,  3.73s/it]"
     ]
    },
    {
     "name": "stdout",
     "output_type": "stream",
     "text": [
      "Crawl data 274166857 success !!!\n"
     ]
    },
    {
     "name": "stderr",
     "output_type": "stream",
     "text": [
      " 52%|█████▏    | 61/118 [03:46<03:23,  3.57s/it]"
     ]
    },
    {
     "name": "stdout",
     "output_type": "stream",
     "text": [
      "Crawl data 271134741 success !!!\n"
     ]
    },
    {
     "name": "stderr",
     "output_type": "stream",
     "text": [
      " 53%|█████▎    | 62/118 [03:49<03:14,  3.47s/it]"
     ]
    },
    {
     "name": "stdout",
     "output_type": "stream",
     "text": [
      "Crawl data 273185467 success !!!\n"
     ]
    },
    {
     "name": "stderr",
     "output_type": "stream",
     "text": [
      " 53%|█████▎    | 63/118 [03:52<03:06,  3.40s/it]"
     ]
    },
    {
     "name": "stdout",
     "output_type": "stream",
     "text": [
      "Crawl data 168094334 success !!!\n"
     ]
    },
    {
     "name": "stderr",
     "output_type": "stream",
     "text": [
      " 54%|█████▍    | 64/118 [03:55<03:00,  3.34s/it]"
     ]
    },
    {
     "name": "stdout",
     "output_type": "stream",
     "text": [
      "Crawl data 198671718 success !!!\n"
     ]
    },
    {
     "name": "stderr",
     "output_type": "stream",
     "text": [
      " 55%|█████▌    | 65/118 [04:00<03:11,  3.61s/it]"
     ]
    },
    {
     "name": "stdout",
     "output_type": "stream",
     "text": [
      "Crawl data 272273169 success !!!\n"
     ]
    },
    {
     "name": "stderr",
     "output_type": "stream",
     "text": [
      " 56%|█████▌    | 66/118 [04:04<03:17,  3.79s/it]"
     ]
    },
    {
     "name": "stdout",
     "output_type": "stream",
     "text": [
      "Crawl data 272273680 success !!!\n"
     ]
    },
    {
     "name": "stderr",
     "output_type": "stream",
     "text": [
      " 57%|█████▋    | 67/118 [04:08<03:20,  3.93s/it]"
     ]
    },
    {
     "name": "stdout",
     "output_type": "stream",
     "text": [
      "Crawl data 242771940 success !!!\n"
     ]
    },
    {
     "name": "stderr",
     "output_type": "stream",
     "text": [
      " 58%|█████▊    | 68/118 [04:12<03:20,  4.02s/it]"
     ]
    },
    {
     "name": "stdout",
     "output_type": "stream",
     "text": [
      "Crawl data 175967811 success !!!\n"
     ]
    },
    {
     "name": "stderr",
     "output_type": "stream",
     "text": [
      " 58%|█████▊    | 69/118 [04:16<03:20,  4.09s/it]"
     ]
    },
    {
     "name": "stdout",
     "output_type": "stream",
     "text": [
      "Crawl data 68693081 success !!!\n"
     ]
    },
    {
     "name": "stderr",
     "output_type": "stream",
     "text": [
      " 59%|█████▉    | 70/118 [04:20<03:03,  3.83s/it]"
     ]
    },
    {
     "name": "stdout",
     "output_type": "stream",
     "text": [
      "Crawl data 274316036 success !!!\n"
     ]
    },
    {
     "name": "stderr",
     "output_type": "stream",
     "text": [
      " 60%|██████    | 71/118 [04:23<02:51,  3.64s/it]"
     ]
    },
    {
     "name": "stdout",
     "output_type": "stream",
     "text": [
      "Crawl data 273186334 success !!!\n"
     ]
    },
    {
     "name": "stderr",
     "output_type": "stream",
     "text": [
      " 61%|██████    | 72/118 [04:26<02:42,  3.53s/it]"
     ]
    },
    {
     "name": "stdout",
     "output_type": "stream",
     "text": [
      "Crawl data 244182370 success !!!\n"
     ]
    },
    {
     "name": "stderr",
     "output_type": "stream",
     "text": [
      " 62%|██████▏   | 73/118 [04:30<02:48,  3.74s/it]"
     ]
    },
    {
     "name": "stdout",
     "output_type": "stream",
     "text": [
      "Crawl data 242657652 success !!!\n"
     ]
    },
    {
     "name": "stderr",
     "output_type": "stream",
     "text": [
      " 63%|██████▎   | 74/118 [04:34<02:38,  3.60s/it]"
     ]
    },
    {
     "name": "stdout",
     "output_type": "stream",
     "text": [
      "Crawl data 274456687 success !!!\n"
     ]
    },
    {
     "name": "stderr",
     "output_type": "stream",
     "text": [
      " 64%|██████▎   | 75/118 [04:37<02:29,  3.49s/it]"
     ]
    },
    {
     "name": "stdout",
     "output_type": "stream",
     "text": [
      "Crawl data 272241346 success !!!\n"
     ]
    },
    {
     "name": "stderr",
     "output_type": "stream",
     "text": [
      " 64%|██████▍   | 76/118 [04:41<02:36,  3.72s/it]"
     ]
    },
    {
     "name": "stdout",
     "output_type": "stream",
     "text": [
      "Crawl data 273947785 success !!!\n"
     ]
    },
    {
     "name": "stderr",
     "output_type": "stream",
     "text": [
      " 65%|██████▌   | 77/118 [04:45<02:38,  3.87s/it]"
     ]
    },
    {
     "name": "stdout",
     "output_type": "stream",
     "text": [
      "Crawl data 273438458 success !!!\n"
     ]
    },
    {
     "name": "stderr",
     "output_type": "stream",
     "text": [
      " 66%|██████▌   | 78/118 [04:49<02:27,  3.69s/it]"
     ]
    },
    {
     "name": "stdout",
     "output_type": "stream",
     "text": [
      "Crawl data 273683300 success !!!\n"
     ]
    },
    {
     "name": "stderr",
     "output_type": "stream",
     "text": [
      " 67%|██████▋   | 79/118 [04:52<02:18,  3.56s/it]"
     ]
    },
    {
     "name": "stdout",
     "output_type": "stream",
     "text": [
      "Crawl data 274456447 success !!!\n"
     ]
    },
    {
     "name": "stderr",
     "output_type": "stream",
     "text": [
      " 68%|██████▊   | 80/118 [04:56<02:22,  3.76s/it]"
     ]
    },
    {
     "name": "stdout",
     "output_type": "stream",
     "text": [
      "Crawl data 274383701 success !!!\n"
     ]
    },
    {
     "name": "stderr",
     "output_type": "stream",
     "text": [
      " 69%|██████▊   | 81/118 [05:00<02:24,  3.89s/it]"
     ]
    },
    {
     "name": "stdout",
     "output_type": "stream",
     "text": [
      "Crawl data 262660017 success !!!\n"
     ]
    },
    {
     "name": "stderr",
     "output_type": "stream",
     "text": [
      " 69%|██████▉   | 82/118 [05:05<02:23,  4.00s/it]"
     ]
    },
    {
     "name": "stdout",
     "output_type": "stream",
     "text": [
      "Crawl data 203278278 success !!!\n"
     ]
    },
    {
     "name": "stderr",
     "output_type": "stream",
     "text": [
      " 70%|███████   | 83/118 [05:09<02:22,  4.07s/it]"
     ]
    },
    {
     "name": "stdout",
     "output_type": "stream",
     "text": [
      "Crawl data 273951550 success !!!\n"
     ]
    },
    {
     "name": "stderr",
     "output_type": "stream",
     "text": [
      " 71%|███████   | 84/118 [05:13<02:20,  4.12s/it]"
     ]
    },
    {
     "name": "stdout",
     "output_type": "stream",
     "text": [
      "Crawl data 248762051 success !!!\n"
     ]
    },
    {
     "name": "stderr",
     "output_type": "stream",
     "text": [
      " 72%|███████▏  | 85/118 [05:17<02:17,  4.15s/it]"
     ]
    },
    {
     "name": "stdout",
     "output_type": "stream",
     "text": [
      "Crawl data 219397711 success !!!\n"
     ]
    },
    {
     "name": "stderr",
     "output_type": "stream",
     "text": [
      " 73%|███████▎  | 86/118 [05:20<02:03,  3.87s/it]"
     ]
    },
    {
     "name": "stdout",
     "output_type": "stream",
     "text": [
      "Crawl data 273029857 success !!!\n"
     ]
    },
    {
     "name": "stderr",
     "output_type": "stream",
     "text": [
      " 74%|███████▎  | 87/118 [05:25<02:03,  3.98s/it]"
     ]
    },
    {
     "name": "stdout",
     "output_type": "stream",
     "text": [
      "Crawl data 270544863 success !!!\n"
     ]
    },
    {
     "name": "stderr",
     "output_type": "stream",
     "text": [
      " 75%|███████▍  | 88/118 [05:29<02:01,  4.06s/it]"
     ]
    },
    {
     "name": "stdout",
     "output_type": "stream",
     "text": [
      "Crawl data 242712931 success !!!\n"
     ]
    },
    {
     "name": "stderr",
     "output_type": "stream",
     "text": [
      " 75%|███████▌  | 89/118 [05:33<01:59,  4.12s/it]"
     ]
    },
    {
     "name": "stdout",
     "output_type": "stream",
     "text": [
      "Crawl data 248655651 success !!!\n"
     ]
    },
    {
     "name": "stderr",
     "output_type": "stream",
     "text": [
      " 76%|███████▋  | 90/118 [05:38<01:57,  4.19s/it]"
     ]
    },
    {
     "name": "stdout",
     "output_type": "stream",
     "text": [
      "Crawl data 196197701 success !!!\n"
     ]
    },
    {
     "name": "stderr",
     "output_type": "stream",
     "text": [
      " 77%|███████▋  | 91/118 [05:41<01:45,  3.89s/it]"
     ]
    },
    {
     "name": "stdout",
     "output_type": "stream",
     "text": [
      "Crawl data 253443788 success !!!\n"
     ]
    },
    {
     "name": "stderr",
     "output_type": "stream",
     "text": [
      " 78%|███████▊  | 92/118 [05:45<01:43,  4.00s/it]"
     ]
    },
    {
     "name": "stdout",
     "output_type": "stream",
     "text": [
      "Crawl data 273610105 success !!!\n"
     ]
    },
    {
     "name": "stderr",
     "output_type": "stream",
     "text": [
      " 79%|███████▉  | 93/118 [05:49<01:41,  4.07s/it]"
     ]
    },
    {
     "name": "stdout",
     "output_type": "stream",
     "text": [
      "Crawl data 272392928 success !!!\n"
     ]
    },
    {
     "name": "stderr",
     "output_type": "stream",
     "text": [
      " 80%|███████▉  | 94/118 [05:53<01:31,  3.83s/it]"
     ]
    },
    {
     "name": "stdout",
     "output_type": "stream",
     "text": [
      "Crawl data 272056889 success !!!\n"
     ]
    },
    {
     "name": "stderr",
     "output_type": "stream",
     "text": [
      " 81%|████████  | 95/118 [05:57<01:30,  3.95s/it]"
     ]
    },
    {
     "name": "stdout",
     "output_type": "stream",
     "text": [
      "Crawl data 274405521 success !!!\n"
     ]
    },
    {
     "name": "stderr",
     "output_type": "stream",
     "text": [
      " 81%|████████▏ | 96/118 [06:01<01:28,  4.03s/it]"
     ]
    },
    {
     "name": "stdout",
     "output_type": "stream",
     "text": [
      "Crawl data 273411606 success !!!\n"
     ]
    },
    {
     "name": "stderr",
     "output_type": "stream",
     "text": [
      " 82%|████████▏ | 97/118 [06:05<01:25,  4.09s/it]"
     ]
    },
    {
     "name": "stdout",
     "output_type": "stream",
     "text": [
      "Crawl data 272328188 success !!!\n"
     ]
    },
    {
     "name": "stderr",
     "output_type": "stream",
     "text": [
      " 83%|████████▎ | 98/118 [06:08<01:16,  3.83s/it]"
     ]
    },
    {
     "name": "stdout",
     "output_type": "stream",
     "text": [
      "Crawl data 273947792 success !!!\n"
     ]
    },
    {
     "name": "stderr",
     "output_type": "stream",
     "text": [
      " 84%|████████▍ | 99/118 [06:13<01:14,  3.94s/it]"
     ]
    },
    {
     "name": "stdout",
     "output_type": "stream",
     "text": [
      "Crawl data 272238679 success !!!\n"
     ]
    },
    {
     "name": "stderr",
     "output_type": "stream",
     "text": [
      " 85%|████████▍ | 100/118 [06:17<01:12,  4.04s/it]"
     ]
    },
    {
     "name": "stdout",
     "output_type": "stream",
     "text": [
      "Crawl data 273411607 success !!!\n"
     ]
    },
    {
     "name": "stderr",
     "output_type": "stream",
     "text": [
      " 86%|████████▌ | 101/118 [06:21<01:09,  4.10s/it]"
     ]
    },
    {
     "name": "stdout",
     "output_type": "stream",
     "text": [
      "Crawl data 197670818 success !!!\n"
     ]
    },
    {
     "name": "stderr",
     "output_type": "stream",
     "text": [
      " 86%|████████▋ | 102/118 [06:24<01:01,  3.84s/it]"
     ]
    },
    {
     "name": "stdout",
     "output_type": "stream",
     "text": [
      "Crawl data 217559440 success !!!\n"
     ]
    },
    {
     "name": "stderr",
     "output_type": "stream",
     "text": [
      " 87%|████████▋ | 103/118 [06:29<00:59,  3.96s/it]"
     ]
    },
    {
     "name": "stdout",
     "output_type": "stream",
     "text": [
      "Crawl data 249143473 success !!!\n"
     ]
    },
    {
     "name": "stderr",
     "output_type": "stream",
     "text": [
      " 88%|████████▊ | 104/118 [06:33<00:56,  4.04s/it]"
     ]
    },
    {
     "name": "stdout",
     "output_type": "stream",
     "text": [
      "Crawl data 272394241 success !!!\n"
     ]
    },
    {
     "name": "stderr",
     "output_type": "stream",
     "text": [
      " 89%|████████▉ | 105/118 [06:37<00:53,  4.10s/it]"
     ]
    },
    {
     "name": "stdout",
     "output_type": "stream",
     "text": [
      "Crawl data 261962220 success !!!\n"
     ]
    },
    {
     "name": "stderr",
     "output_type": "stream",
     "text": [
      " 90%|████████▉ | 106/118 [06:40<00:46,  3.85s/it]"
     ]
    },
    {
     "name": "stdout",
     "output_type": "stream",
     "text": [
      "Crawl data 215617756 success !!!\n"
     ]
    },
    {
     "name": "stderr",
     "output_type": "stream",
     "text": [
      " 91%|█████████ | 107/118 [06:45<00:43,  3.96s/it]"
     ]
    },
    {
     "name": "stdout",
     "output_type": "stream",
     "text": [
      "Crawl data 245770806 success !!!\n"
     ]
    },
    {
     "name": "stderr",
     "output_type": "stream",
     "text": [
      " 92%|█████████▏| 108/118 [06:49<00:40,  4.04s/it]"
     ]
    },
    {
     "name": "stdout",
     "output_type": "stream",
     "text": [
      "Crawl data 212926651 success !!!\n"
     ]
    },
    {
     "name": "stderr",
     "output_type": "stream",
     "text": [
      " 92%|█████████▏| 109/118 [06:53<00:36,  4.09s/it]"
     ]
    },
    {
     "name": "stdout",
     "output_type": "stream",
     "text": [
      "Crawl data 274160702 success !!!\n"
     ]
    },
    {
     "name": "stderr",
     "output_type": "stream",
     "text": [
      " 93%|█████████▎| 110/118 [06:56<00:30,  3.84s/it]"
     ]
    },
    {
     "name": "stdout",
     "output_type": "stream",
     "text": [
      "Crawl data 248005118 success !!!\n"
     ]
    },
    {
     "name": "stderr",
     "output_type": "stream",
     "text": [
      " 94%|█████████▍| 111/118 [07:00<00:27,  3.95s/it]"
     ]
    },
    {
     "name": "stdout",
     "output_type": "stream",
     "text": [
      "Crawl data 273244775 success !!!\n"
     ]
    },
    {
     "name": "stderr",
     "output_type": "stream",
     "text": [
      " 95%|█████████▍| 112/118 [07:04<00:22,  3.73s/it]"
     ]
    },
    {
     "name": "stdout",
     "output_type": "stream",
     "text": [
      "Crawl data 247925719 success !!!\n"
     ]
    },
    {
     "name": "stderr",
     "output_type": "stream",
     "text": [
      " 96%|█████████▌| 113/118 [07:08<00:19,  3.88s/it]"
     ]
    },
    {
     "name": "stdout",
     "output_type": "stream",
     "text": [
      "Crawl data 274172292 success !!!\n"
     ]
    },
    {
     "name": "stderr",
     "output_type": "stream",
     "text": [
      " 97%|█████████▋| 114/118 [07:12<00:15,  3.99s/it]"
     ]
    },
    {
     "name": "stdout",
     "output_type": "stream",
     "text": [
      "Crawl data 214603586 success !!!\n"
     ]
    },
    {
     "name": "stderr",
     "output_type": "stream",
     "text": [
      " 97%|█████████▋| 115/118 [07:15<00:11,  3.77s/it]"
     ]
    },
    {
     "name": "stdout",
     "output_type": "stream",
     "text": [
      "Crawl data 175845367 success !!!\n"
     ]
    },
    {
     "name": "stderr",
     "output_type": "stream",
     "text": [
      " 98%|█████████▊| 116/118 [07:20<00:07,  3.89s/it]"
     ]
    },
    {
     "name": "stdout",
     "output_type": "stream",
     "text": [
      "Crawl data 273258825 success !!!\n"
     ]
    },
    {
     "name": "stderr",
     "output_type": "stream",
     "text": [
      " 99%|█████████▉| 117/118 [07:23<00:03,  3.69s/it]"
     ]
    },
    {
     "name": "stdout",
     "output_type": "stream",
     "text": [
      "Crawl data 248929458 success !!!\n"
     ]
    },
    {
     "name": "stderr",
     "output_type": "stream",
     "text": [
      "100%|██████████| 118/118 [07:26<00:00,  3.78s/it]\n"
     ]
    }
   ],
   "source": [
    "import pandas as pd\n",
    "import requests\n",
    "import time\n",
    "import random\n",
    "from datetime import datetime\n",
    "from tqdm import tqdm\n",
    "import os\n",
    "cookies = {\n",
    "    'TIKI_GUEST_TOKEN': '8jWSuIDBb2NGVzr6hsUZXpkP1FRin7lY',\n",
    "    'TOKENS': '{%22access_token%22:%228jWSuIDBb2NGVzr6hsUZXpkP1FRin7lY%22%2C%22expires_in%22:157680000%2C%22expires_at%22:1763654224277%2C%22guest_token%22:%228jWSuIDBb2NGVzr6hsUZXpkP1FRin7lY%22}',\n",
    "    'amp_99d374': 'eSc-_0HT1um7cb57E7dwA0...1enloc6a2.1enlohtdv.3.2.5',\n",
    "    'amp_99d374_tiki.vn': 'eSc-_0HT1um7cb57E7dwA0...1enloc6a2.1enlocds8.0.1.1',\n",
    "    '_gcl_au': '1.1.559117409.1605974236',\n",
    "    '_ants_utm_v2': '',\n",
    "    '_pk_id.638735871.2fc5': 'b92ae025fbbdb31f.1605974236.1.1605974420.1605974236.',\n",
    "    '_pk_ses.638735871.2fc5': '*',\n",
    "    '_trackity': '70e316b0-96f2-dbe1-a2ed-43ff60419991',\n",
    "    '_ga_NKX31X43RV': 'GS1.1.1605974235.1.1.1605974434.0',\n",
    "    '_ga': 'GA1.1.657946765.1605974236',\n",
    "    'ai_client_id': '11935756853.1605974227',\n",
    "    'an_session': 'zizkzrzjzlzizqzlzqzjzdzizizqzgzmzkzmzlzrzmzgzdzizlzjzmzqzkznzhzhzkzdzhzdzizlzjzmzqzkznzhzhzkzdzizlzjzmzqzkznzhzhzkzdzjzdzhzqzdzizd2f27zdzjzdzlzmzmznzq',\n",
    "    'au_aid': '11935756853',\n",
    "    'dgs': '1605974411%3A3%3A0',\n",
    "    'au_gt': '1605974227146',\n",
    "    '_ants_services': '%5B%22cuid%22%5D',\n",
    "    '__admUTMtime': '1605974236',\n",
    "    '__iid': '749',\n",
    "    '__su': '0',\n",
    "    '_bs': 'bb9a32f6-ab13-ce80-92d6-57fd3fd6e4c8',\n",
    "    '_gid': 'GA1.2.867846791.1605974237',\n",
    "    '_fbp': 'fb.1.1605974237134.1297408816',\n",
    "    '_hjid': 'f152cf33-7323-4410-b9ae-79f6622ebc48',\n",
    "    '_hjFirstSeen': '1',\n",
    "    '_hjIncludedInPageviewSample': '1',\n",
    "    '_hjAbsoluteSessionInProgress': '0',\n",
    "    '_hjIncludedInSessionSample': '1',\n",
    "    'tiki_client_id': '657946765.1605974236',\n",
    "    '__gads': 'ID=ae56424189ecccbe-227eb8e1d6c400a8:T=1605974229:RT=1605974229:S=ALNI_MZFWYf2BAjzCSiRNLC3bKI-W_7YHA',\n",
    "    'proxy_s_sv': '1605976041662',\n",
    "    'TKSESSID': '8bcd49b02e1e16aa1cdb795c54d7b460',\n",
    "    'TIKI_RECOMMENDATION': '21dd50e7f7c194df673ea3b717459249',\n",
    "    '_gat': '1',\n",
    "    'cto_bundle': 'i6f48l9NVXNkQmJ6aEVLcXNqbHdjcVZoQ0k2clladUF2N2xjZzJ1cjR6WG43UTVaRmglMkZXWUdtRnJTNHZRbmQ4SDAlMkZwRFhqQnppRHFxJTJCSEozZXBqRFM4ZHVxUjQ2TmklMkJIcnhJd3luZXpJSnBpcE1nJTNE',\n",
    "    'TIKI_RECENTLYVIEWED': '58259141',\n",
    "}\n",
    "\n",
    "headers = {\n",
    "    'User-Agent': 'Mozilla/5.0 (Windows NT 10.0; Win64; x64) AppleWebKit/537.36 (KHTML, like Gecko) Chrome/120.0.0.0 Safari/537.36',\n",
    "    'Accept': 'application/json, text/plain, */*',\n",
    "    'Accept-Language': 'vi-VN,vi;q=0.9,fr-FR;q=0.8,fr;q=0.7,en-US;q=0.6,en;q=0.5',\n",
    "    'Referer': 'https://tiki.vn/dien-thoai-xiaomi-redmi-note-12-8gb-128gb-hang-chinh-hang-p271046571.html?&spid=271046582',\n",
    "    'x-guest-token': '167AgdBpHNqmzc3Zai8EJjLQk4DuYXW9',\n",
    "    'Connection': 'keep-alive',\n",
    "    'TE': 'Trailers',\n",
    "}\n",
    "\n",
    "params = (\n",
    "    ('platform', 'web'),\n",
    "    ('spid', 271046582),\n",
    "    ('version', 3),\n",
    ")\n",
    "\n",
    "def parser_product(json):\n",
    "    d = dict()\n",
    "    d['id'] = json.get('id')\n",
    "    d['sku'] = json.get('sku')\n",
    "\n",
    "    d['Date Crawled'] = datetime.now().strftime(\"%Y-%m-%d\")\n",
    "    \n",
    "    # Xử lý cho 'brand'\n",
    "    brand = json.get('brand')\n",
    "    d['brand_id'] = brand.get('id') if brand else None\n",
    "    d['brand_name'] = brand.get('name') if brand else None\n",
    "\n",
    "    store = json.get('current_seller')\n",
    "    d['store'] = store.get('name') if store else None\n",
    "\n",
    "    d['product_name'] = json.get('name')\n",
    "\n",
    "    d['current_price'] = json.get('list_price')\n",
    "\n",
    "    d['discount_price'] = json.get('price')\n",
    "\n",
    "    d['discount'] = json.get('discount_rate')\n",
    "    # Store\n",
    "    configurable_options = json.get('configurable_options')\n",
    "    d['colors'] = configurable_options[0]['values'] if configurable_options else None\n",
    "\n",
    "    # Xử lý cho 'quantity_sold'\n",
    "    quantity_sold = json.get('quantity_sold')\n",
    "    d['sold_quanlity'] = quantity_sold.get('value') if quantity_sold else None\n",
    "\n",
    "    d['rating_count'] = json.get('review_count')\n",
    "\n",
    "    d['rating_average'] = json.get('rating_average')\n",
    "\n",
    "    return d\n",
    "\n",
    "\n",
    "# Đọc dữ liệu từ file CSV\n",
    "df_id = pd.read_csv(r\"D:\\projects\\NCKH\\Data Crawl\\Trang TMĐT\\Tiki\\Code Crawl\\product_id_Smarphone_19-3.csv\")\n",
    "p_ids = df_id.id.to_list()\n",
    "\n",
    "result = []\n",
    "for pid in tqdm(p_ids, total=len(p_ids)):\n",
    "    response = requests.get(f'https://tiki.vn/api/v2/products/{pid}', headers=headers, params=params, cookies=cookies)\n",
    "    if response.status_code == 200:\n",
    "        print(f'Crawl data {pid} success !!!')\n",
    "        result.append(parser_product(response.json()))\n",
    "    time.sleep(random.randrange(3, 5))\n",
    "\n",
    "df_product = pd.DataFrame(result)"
   ]
  },
  {
   "cell_type": "code",
   "execution_count": 6,
   "metadata": {},
   "outputs": [
    {
     "data": {
      "text/html": [
       "<div>\n",
       "<style scoped>\n",
       "    .dataframe tbody tr th:only-of-type {\n",
       "        vertical-align: middle;\n",
       "    }\n",
       "\n",
       "    .dataframe tbody tr th {\n",
       "        vertical-align: top;\n",
       "    }\n",
       "\n",
       "    .dataframe thead th {\n",
       "        text-align: right;\n",
       "    }\n",
       "</style>\n",
       "<table border=\"1\" class=\"dataframe\">\n",
       "  <thead>\n",
       "    <tr style=\"text-align: right;\">\n",
       "      <th></th>\n",
       "      <th>id</th>\n",
       "      <th>sku</th>\n",
       "      <th>Date Crawled</th>\n",
       "      <th>brand_id</th>\n",
       "      <th>brand_name</th>\n",
       "      <th>store</th>\n",
       "      <th>product_name</th>\n",
       "      <th>current_price</th>\n",
       "      <th>discount_price</th>\n",
       "      <th>discount</th>\n",
       "      <th>colors</th>\n",
       "      <th>sold_quanlity</th>\n",
       "      <th>rating_count</th>\n",
       "      <th>rating_average</th>\n",
       "    </tr>\n",
       "  </thead>\n",
       "  <tbody>\n",
       "    <tr>\n",
       "      <th>0</th>\n",
       "      <td>184036446</td>\n",
       "      <td>9320936798992</td>\n",
       "      <td>2024-03-19</td>\n",
       "      <td>17827</td>\n",
       "      <td>Apple</td>\n",
       "      <td>Tiki Trading</td>\n",
       "      <td>Apple iPhone 11</td>\n",
       "      <td>15999000</td>\n",
       "      <td>11490000</td>\n",
       "      <td>28</td>\n",
       "      <td>[{'label': 'Trắng'}, {'label': 'Đen'}]</td>\n",
       "      <td>13972.0</td>\n",
       "      <td>2984</td>\n",
       "      <td>4.8</td>\n",
       "    </tr>\n",
       "    <tr>\n",
       "      <th>1</th>\n",
       "      <td>184059211</td>\n",
       "      <td>3643515408223</td>\n",
       "      <td>2024-03-19</td>\n",
       "      <td>17827</td>\n",
       "      <td>Apple</td>\n",
       "      <td>Tiki Trading</td>\n",
       "      <td>Apple iPhone 13</td>\n",
       "      <td>24990000</td>\n",
       "      <td>14520000</td>\n",
       "      <td>42</td>\n",
       "      <td>[{'label': 'Đen'}]</td>\n",
       "      <td>5788.0</td>\n",
       "      <td>1843</td>\n",
       "      <td>5.0</td>\n",
       "    </tr>\n",
       "    <tr>\n",
       "      <th>2</th>\n",
       "      <td>123345348</td>\n",
       "      <td>6352768705236</td>\n",
       "      <td>2024-03-19</td>\n",
       "      <td>17827</td>\n",
       "      <td>Apple</td>\n",
       "      <td>Tiki Trading</td>\n",
       "      <td>Apple iPhone 12</td>\n",
       "      <td>16990000</td>\n",
       "      <td>11990000</td>\n",
       "      <td>29</td>\n",
       "      <td>[{'label': 'Trắng'}, {'label': 'Tím'}, {'label...</td>\n",
       "      <td>2803.0</td>\n",
       "      <td>1278</td>\n",
       "      <td>5.0</td>\n",
       "    </tr>\n",
       "    <tr>\n",
       "      <th>3</th>\n",
       "      <td>197214029</td>\n",
       "      <td>1840508024491</td>\n",
       "      <td>2024-03-19</td>\n",
       "      <td>17827</td>\n",
       "      <td>Apple</td>\n",
       "      <td>Tiki Trading</td>\n",
       "      <td>Apple iPhone 14</td>\n",
       "      <td>24990000</td>\n",
       "      <td>16490000</td>\n",
       "      <td>34</td>\n",
       "      <td>[{'label': 'Xanh'}, {'label': 'Đen'}]</td>\n",
       "      <td>557.0</td>\n",
       "      <td>141</td>\n",
       "      <td>5.0</td>\n",
       "    </tr>\n",
       "    <tr>\n",
       "      <th>4</th>\n",
       "      <td>271966786</td>\n",
       "      <td>3577192583861</td>\n",
       "      <td>2024-03-19</td>\n",
       "      <td>17827</td>\n",
       "      <td>Apple</td>\n",
       "      <td>Tiki Trading</td>\n",
       "      <td>Apple iPhone 15</td>\n",
       "      <td>22490000</td>\n",
       "      <td>19490000</td>\n",
       "      <td>13</td>\n",
       "      <td>[{'label': 'Hồng'}, {'label': 'Xanh Dương'}, {...</td>\n",
       "      <td>385.0</td>\n",
       "      <td>61</td>\n",
       "      <td>5.0</td>\n",
       "    </tr>\n",
       "    <tr>\n",
       "      <th>...</th>\n",
       "      <td>...</td>\n",
       "      <td>...</td>\n",
       "      <td>...</td>\n",
       "      <td>...</td>\n",
       "      <td>...</td>\n",
       "      <td>...</td>\n",
       "      <td>...</td>\n",
       "      <td>...</td>\n",
       "      <td>...</td>\n",
       "      <td>...</td>\n",
       "      <td>...</td>\n",
       "      <td>...</td>\n",
       "      <td>...</td>\n",
       "      <td>...</td>\n",
       "    </tr>\n",
       "    <tr>\n",
       "      <th>113</th>\n",
       "      <td>274172292</td>\n",
       "      <td>6973688603864</td>\n",
       "      <td>2024-03-19</td>\n",
       "      <td>18802</td>\n",
       "      <td>Samsung</td>\n",
       "      <td>Long Hưng TechZone</td>\n",
       "      <td>Điện thoại Samsung Galaxy A05 (4GB/64GB) - Hàn...</td>\n",
       "      <td>2990000</td>\n",
       "      <td>2990000</td>\n",
       "      <td>0</td>\n",
       "      <td>[{'label': 'Bạc sỉu'}, {'label': 'Xanh Matcha'...</td>\n",
       "      <td>NaN</td>\n",
       "      <td>0</td>\n",
       "      <td>0.0</td>\n",
       "    </tr>\n",
       "    <tr>\n",
       "      <th>114</th>\n",
       "      <td>214603586</td>\n",
       "      <td>2474301171408</td>\n",
       "      <td>2024-03-19</td>\n",
       "      <td>18802</td>\n",
       "      <td>Samsung</td>\n",
       "      <td>THẮNG THAO MOBILE</td>\n",
       "      <td>Điện Thoại Samsung Galaxy A04e (3GB/32GB)- Hàn...</td>\n",
       "      <td>2690000</td>\n",
       "      <td>2039000</td>\n",
       "      <td>24</td>\n",
       "      <td>[{'label': 'Đen'}, {'label': 'Đồng'}]</td>\n",
       "      <td>47.0</td>\n",
       "      <td>14</td>\n",
       "      <td>4.7</td>\n",
       "    </tr>\n",
       "    <tr>\n",
       "      <th>115</th>\n",
       "      <td>175845367</td>\n",
       "      <td>1676834040443</td>\n",
       "      <td>2024-03-19</td>\n",
       "      <td>18802</td>\n",
       "      <td>Samsung</td>\n",
       "      <td>GIA DỤNG VIỆT</td>\n",
       "      <td>Điện Thoại Samsung Galaxy S20 FE (8GB/256GB) -...</td>\n",
       "      <td>8625000</td>\n",
       "      <td>8625000</td>\n",
       "      <td>0</td>\n",
       "      <td>[{'label': 'Xanh Thanh Mát'}]</td>\n",
       "      <td>1.0</td>\n",
       "      <td>1</td>\n",
       "      <td>5.0</td>\n",
       "    </tr>\n",
       "    <tr>\n",
       "      <th>116</th>\n",
       "      <td>273258825</td>\n",
       "      <td>9616299554457</td>\n",
       "      <td>2024-03-19</td>\n",
       "      <td>18802</td>\n",
       "      <td>Samsung</td>\n",
       "      <td>Tiki Trading</td>\n",
       "      <td>Điện thoại Samsung Galaxy A05s (4GB/128GB) - Đ...</td>\n",
       "      <td>3950000</td>\n",
       "      <td>3190000</td>\n",
       "      <td>19</td>\n",
       "      <td>[{'label': 'Bạc'}, {'label': 'Xanh'}, {'label'...</td>\n",
       "      <td>148.0</td>\n",
       "      <td>20</td>\n",
       "      <td>4.8</td>\n",
       "    </tr>\n",
       "    <tr>\n",
       "      <th>117</th>\n",
       "      <td>248929458</td>\n",
       "      <td>1049694298922</td>\n",
       "      <td>2024-03-19</td>\n",
       "      <td>18802</td>\n",
       "      <td>Samsung</td>\n",
       "      <td>Long Hưng TechZone</td>\n",
       "      <td>Điện thoại Samsung Galaxy A34 5G (8GB/128GB) -...</td>\n",
       "      <td>8490000</td>\n",
       "      <td>8490000</td>\n",
       "      <td>0</td>\n",
       "      <td>[{'label': 'Bạc Bất Bại'}, {'label': 'Xanh Dũn...</td>\n",
       "      <td>2.0</td>\n",
       "      <td>0</td>\n",
       "      <td>0.0</td>\n",
       "    </tr>\n",
       "  </tbody>\n",
       "</table>\n",
       "<p>118 rows × 14 columns</p>\n",
       "</div>"
      ],
      "text/plain": [
       "            id            sku Date Crawled  brand_id brand_name  \\\n",
       "0    184036446  9320936798992   2024-03-19     17827      Apple   \n",
       "1    184059211  3643515408223   2024-03-19     17827      Apple   \n",
       "2    123345348  6352768705236   2024-03-19     17827      Apple   \n",
       "3    197214029  1840508024491   2024-03-19     17827      Apple   \n",
       "4    271966786  3577192583861   2024-03-19     17827      Apple   \n",
       "..         ...            ...          ...       ...        ...   \n",
       "113  274172292  6973688603864   2024-03-19     18802    Samsung   \n",
       "114  214603586  2474301171408   2024-03-19     18802    Samsung   \n",
       "115  175845367  1676834040443   2024-03-19     18802    Samsung   \n",
       "116  273258825  9616299554457   2024-03-19     18802    Samsung   \n",
       "117  248929458  1049694298922   2024-03-19     18802    Samsung   \n",
       "\n",
       "                  store                                       product_name  \\\n",
       "0          Tiki Trading                                    Apple iPhone 11   \n",
       "1          Tiki Trading                                    Apple iPhone 13   \n",
       "2          Tiki Trading                                    Apple iPhone 12   \n",
       "3          Tiki Trading                                    Apple iPhone 14   \n",
       "4          Tiki Trading                                    Apple iPhone 15   \n",
       "..                  ...                                                ...   \n",
       "113  Long Hưng TechZone  Điện thoại Samsung Galaxy A05 (4GB/64GB) - Hàn...   \n",
       "114   THẮNG THAO MOBILE  Điện Thoại Samsung Galaxy A04e (3GB/32GB)- Hàn...   \n",
       "115       GIA DỤNG VIỆT  Điện Thoại Samsung Galaxy S20 FE (8GB/256GB) -...   \n",
       "116        Tiki Trading  Điện thoại Samsung Galaxy A05s (4GB/128GB) - Đ...   \n",
       "117  Long Hưng TechZone  Điện thoại Samsung Galaxy A34 5G (8GB/128GB) -...   \n",
       "\n",
       "     current_price  discount_price  discount  \\\n",
       "0         15999000        11490000        28   \n",
       "1         24990000        14520000        42   \n",
       "2         16990000        11990000        29   \n",
       "3         24990000        16490000        34   \n",
       "4         22490000        19490000        13   \n",
       "..             ...             ...       ...   \n",
       "113        2990000         2990000         0   \n",
       "114        2690000         2039000        24   \n",
       "115        8625000         8625000         0   \n",
       "116        3950000         3190000        19   \n",
       "117        8490000         8490000         0   \n",
       "\n",
       "                                                colors  sold_quanlity  \\\n",
       "0               [{'label': 'Trắng'}, {'label': 'Đen'}]        13972.0   \n",
       "1                                   [{'label': 'Đen'}]         5788.0   \n",
       "2    [{'label': 'Trắng'}, {'label': 'Tím'}, {'label...         2803.0   \n",
       "3                [{'label': 'Xanh'}, {'label': 'Đen'}]          557.0   \n",
       "4    [{'label': 'Hồng'}, {'label': 'Xanh Dương'}, {...          385.0   \n",
       "..                                                 ...            ...   \n",
       "113  [{'label': 'Bạc sỉu'}, {'label': 'Xanh Matcha'...            NaN   \n",
       "114              [{'label': 'Đen'}, {'label': 'Đồng'}]           47.0   \n",
       "115                      [{'label': 'Xanh Thanh Mát'}]            1.0   \n",
       "116  [{'label': 'Bạc'}, {'label': 'Xanh'}, {'label'...          148.0   \n",
       "117  [{'label': 'Bạc Bất Bại'}, {'label': 'Xanh Dũn...            2.0   \n",
       "\n",
       "     rating_count  rating_average  \n",
       "0            2984             4.8  \n",
       "1            1843             5.0  \n",
       "2            1278             5.0  \n",
       "3             141             5.0  \n",
       "4              61             5.0  \n",
       "..            ...             ...  \n",
       "113             0             0.0  \n",
       "114            14             4.7  \n",
       "115             1             5.0  \n",
       "116            20             4.8  \n",
       "117             0             0.0  \n",
       "\n",
       "[118 rows x 14 columns]"
      ]
     },
     "execution_count": 6,
     "metadata": {},
     "output_type": "execute_result"
    }
   ],
   "source": [
    "df_product"
   ]
  },
  {
   "cell_type": "code",
   "execution_count": 7,
   "metadata": {},
   "outputs": [
    {
     "data": {
      "text/html": [
       "<div>\n",
       "<style scoped>\n",
       "    .dataframe tbody tr th:only-of-type {\n",
       "        vertical-align: middle;\n",
       "    }\n",
       "\n",
       "    .dataframe tbody tr th {\n",
       "        vertical-align: top;\n",
       "    }\n",
       "\n",
       "    .dataframe thead th {\n",
       "        text-align: right;\n",
       "    }\n",
       "</style>\n",
       "<table border=\"1\" class=\"dataframe\">\n",
       "  <thead>\n",
       "    <tr style=\"text-align: right;\">\n",
       "      <th></th>\n",
       "      <th>id</th>\n",
       "      <th>sku</th>\n",
       "      <th>Date Crawled</th>\n",
       "      <th>brand_id</th>\n",
       "      <th>brand_name</th>\n",
       "      <th>store</th>\n",
       "      <th>product_name</th>\n",
       "      <th>current_price</th>\n",
       "      <th>discount_price</th>\n",
       "      <th>discount</th>\n",
       "      <th>colors</th>\n",
       "      <th>sold_quanlity</th>\n",
       "      <th>rating_count</th>\n",
       "      <th>rating_average</th>\n",
       "    </tr>\n",
       "  </thead>\n",
       "  <tbody>\n",
       "    <tr>\n",
       "      <th>4</th>\n",
       "      <td>271966786</td>\n",
       "      <td>3577192583861</td>\n",
       "      <td>2024-03-19</td>\n",
       "      <td>17827</td>\n",
       "      <td>Apple</td>\n",
       "      <td>Tiki Trading</td>\n",
       "      <td>Apple iPhone 15</td>\n",
       "      <td>22490000</td>\n",
       "      <td>19490000</td>\n",
       "      <td>13</td>\n",
       "      <td>[{'label': 'Hồng'}, {'label': 'Xanh Dương'}, {...</td>\n",
       "      <td>385.0</td>\n",
       "      <td>61</td>\n",
       "      <td>5.0</td>\n",
       "    </tr>\n",
       "    <tr>\n",
       "      <th>5</th>\n",
       "      <td>271973414</td>\n",
       "      <td>7601310945460</td>\n",
       "      <td>2024-03-19</td>\n",
       "      <td>17827</td>\n",
       "      <td>Apple</td>\n",
       "      <td>Tiki Trading</td>\n",
       "      <td>Apple iPhone 15 Pro Max</td>\n",
       "      <td>33490000</td>\n",
       "      <td>30990000</td>\n",
       "      <td>7</td>\n",
       "      <td>[{'label': 'Titan Trắng'}, {'label': 'Titan Tự...</td>\n",
       "      <td>791.0</td>\n",
       "      <td>121</td>\n",
       "      <td>5.0</td>\n",
       "    </tr>\n",
       "    <tr>\n",
       "      <th>7</th>\n",
       "      <td>271967379</td>\n",
       "      <td>6750971196270</td>\n",
       "      <td>2024-03-19</td>\n",
       "      <td>17827</td>\n",
       "      <td>Apple</td>\n",
       "      <td>Tiki Trading</td>\n",
       "      <td>Apple iPhone 15 Plus</td>\n",
       "      <td>25990000</td>\n",
       "      <td>22490000</td>\n",
       "      <td>13</td>\n",
       "      <td>[{'label': ' Đen'}, {'label': 'Hồng'}]</td>\n",
       "      <td>176.0</td>\n",
       "      <td>25</td>\n",
       "      <td>4.8</td>\n",
       "    </tr>\n",
       "    <tr>\n",
       "      <th>8</th>\n",
       "      <td>271972435</td>\n",
       "      <td>1237118640452</td>\n",
       "      <td>2024-03-19</td>\n",
       "      <td>17827</td>\n",
       "      <td>Apple</td>\n",
       "      <td>Tiki Trading</td>\n",
       "      <td>Apple iPhone 15 Pro</td>\n",
       "      <td>27990000</td>\n",
       "      <td>25490000</td>\n",
       "      <td>9</td>\n",
       "      <td>[{'label': 'Titan Trắng'}, {'label': 'Titan Tự...</td>\n",
       "      <td>325.0</td>\n",
       "      <td>70</td>\n",
       "      <td>4.8</td>\n",
       "    </tr>\n",
       "    <tr>\n",
       "      <th>24</th>\n",
       "      <td>242712374</td>\n",
       "      <td>6917136143709</td>\n",
       "      <td>2024-03-19</td>\n",
       "      <td>18802</td>\n",
       "      <td>Samsung</td>\n",
       "      <td>MT Smart Official Store</td>\n",
       "      <td>Điện thoại Samsung Galaxy S23 Ultra 256GB - Hà...</td>\n",
       "      <td>31990000</td>\n",
       "      <td>31990000</td>\n",
       "      <td>0</td>\n",
       "      <td>[{'label': 'Black'}, {'label': 'Cream'}, {'lab...</td>\n",
       "      <td>NaN</td>\n",
       "      <td>0</td>\n",
       "      <td>0.0</td>\n",
       "    </tr>\n",
       "    <tr>\n",
       "      <th>27</th>\n",
       "      <td>225960096</td>\n",
       "      <td>1540342729397</td>\n",
       "      <td>2024-03-19</td>\n",
       "      <td>18802</td>\n",
       "      <td>Samsung</td>\n",
       "      <td>GIA DỤNG VIỆT</td>\n",
       "      <td>Điện Thoại Samsung Galaxy S23+ 5G - Hàng Chính...</td>\n",
       "      <td>25000000</td>\n",
       "      <td>25000000</td>\n",
       "      <td>0</td>\n",
       "      <td>[{'label': '8GB/256GB'}, {'label': '8GB/512GB'}]</td>\n",
       "      <td>NaN</td>\n",
       "      <td>0</td>\n",
       "      <td>0.0</td>\n",
       "    </tr>\n",
       "    <tr>\n",
       "      <th>39</th>\n",
       "      <td>225228869</td>\n",
       "      <td>9898810871311</td>\n",
       "      <td>2024-03-19</td>\n",
       "      <td>18802</td>\n",
       "      <td>Samsung</td>\n",
       "      <td>Nguyễn Kim Official</td>\n",
       "      <td>Điện thoại Samsung Galaxy S23 Ultra 8GB/256GB ...</td>\n",
       "      <td>31990000</td>\n",
       "      <td>28330000</td>\n",
       "      <td>11</td>\n",
       "      <td>None</td>\n",
       "      <td>NaN</td>\n",
       "      <td>0</td>\n",
       "      <td>0.0</td>\n",
       "    </tr>\n",
       "    <tr>\n",
       "      <th>60</th>\n",
       "      <td>274166857</td>\n",
       "      <td>7525500796360</td>\n",
       "      <td>2024-03-19</td>\n",
       "      <td>18802</td>\n",
       "      <td>Samsung</td>\n",
       "      <td>Long Hưng TechZone</td>\n",
       "      <td>Điện thoại Samsung Galaxy S23 FE (8GB/128GB) -...</td>\n",
       "      <td>14890000</td>\n",
       "      <td>14890000</td>\n",
       "      <td>0</td>\n",
       "      <td>[{'label': 'Cam Tangerine'}, {'label': 'Xanh I...</td>\n",
       "      <td>NaN</td>\n",
       "      <td>0</td>\n",
       "      <td>0.0</td>\n",
       "    </tr>\n",
       "    <tr>\n",
       "      <th>72</th>\n",
       "      <td>244182370</td>\n",
       "      <td>5916502681343</td>\n",
       "      <td>2024-03-19</td>\n",
       "      <td>18802</td>\n",
       "      <td>Samsung</td>\n",
       "      <td>MT Smart Official Store</td>\n",
       "      <td>Điện thoại Samsung Galaxy S23 Ultra 1TB - Hàng...</td>\n",
       "      <td>44990000</td>\n",
       "      <td>44990000</td>\n",
       "      <td>0</td>\n",
       "      <td>[{'label': 'Cream'}]</td>\n",
       "      <td>NaN</td>\n",
       "      <td>0</td>\n",
       "      <td>0.0</td>\n",
       "    </tr>\n",
       "    <tr>\n",
       "      <th>73</th>\n",
       "      <td>242657652</td>\n",
       "      <td>2302831519620</td>\n",
       "      <td>2024-03-19</td>\n",
       "      <td>18802</td>\n",
       "      <td>Samsung</td>\n",
       "      <td>MT Smart Official Store</td>\n",
       "      <td>Điện thoại Samsung Galaxy S23 Plus 256GB - Hàn...</td>\n",
       "      <td>26990000</td>\n",
       "      <td>26990000</td>\n",
       "      <td>0</td>\n",
       "      <td>[{'label': 'Black'}]</td>\n",
       "      <td>NaN</td>\n",
       "      <td>0</td>\n",
       "      <td>0.0</td>\n",
       "    </tr>\n",
       "    <tr>\n",
       "      <th>88</th>\n",
       "      <td>242712931</td>\n",
       "      <td>5323982499782</td>\n",
       "      <td>2024-03-19</td>\n",
       "      <td>18802</td>\n",
       "      <td>Samsung</td>\n",
       "      <td>MT Smart Official Store</td>\n",
       "      <td>Điện thoại Samsung Galaxy S23 Ultra 512GB - Hà...</td>\n",
       "      <td>36990000</td>\n",
       "      <td>36990000</td>\n",
       "      <td>0</td>\n",
       "      <td>[{'label': 'Black'}, {'label': 'Cream'}, {'lab...</td>\n",
       "      <td>NaN</td>\n",
       "      <td>0</td>\n",
       "      <td>0.0</td>\n",
       "    </tr>\n",
       "  </tbody>\n",
       "</table>\n",
       "</div>"
      ],
      "text/plain": [
       "           id            sku Date Crawled  brand_id brand_name  \\\n",
       "4   271966786  3577192583861   2024-03-19     17827      Apple   \n",
       "5   271973414  7601310945460   2024-03-19     17827      Apple   \n",
       "7   271967379  6750971196270   2024-03-19     17827      Apple   \n",
       "8   271972435  1237118640452   2024-03-19     17827      Apple   \n",
       "24  242712374  6917136143709   2024-03-19     18802    Samsung   \n",
       "27  225960096  1540342729397   2024-03-19     18802    Samsung   \n",
       "39  225228869  9898810871311   2024-03-19     18802    Samsung   \n",
       "60  274166857  7525500796360   2024-03-19     18802    Samsung   \n",
       "72  244182370  5916502681343   2024-03-19     18802    Samsung   \n",
       "73  242657652  2302831519620   2024-03-19     18802    Samsung   \n",
       "88  242712931  5323982499782   2024-03-19     18802    Samsung   \n",
       "\n",
       "                       store  \\\n",
       "4               Tiki Trading   \n",
       "5               Tiki Trading   \n",
       "7               Tiki Trading   \n",
       "8               Tiki Trading   \n",
       "24  MT Smart Official Store    \n",
       "27             GIA DỤNG VIỆT   \n",
       "39       Nguyễn Kim Official   \n",
       "60        Long Hưng TechZone   \n",
       "72  MT Smart Official Store    \n",
       "73  MT Smart Official Store    \n",
       "88  MT Smart Official Store    \n",
       "\n",
       "                                         product_name  current_price  \\\n",
       "4                                     Apple iPhone 15       22490000   \n",
       "5                             Apple iPhone 15 Pro Max       33490000   \n",
       "7                                Apple iPhone 15 Plus       25990000   \n",
       "8                                 Apple iPhone 15 Pro       27990000   \n",
       "24  Điện thoại Samsung Galaxy S23 Ultra 256GB - Hà...       31990000   \n",
       "27  Điện Thoại Samsung Galaxy S23+ 5G - Hàng Chính...       25000000   \n",
       "39  Điện thoại Samsung Galaxy S23 Ultra 8GB/256GB ...       31990000   \n",
       "60  Điện thoại Samsung Galaxy S23 FE (8GB/128GB) -...       14890000   \n",
       "72  Điện thoại Samsung Galaxy S23 Ultra 1TB - Hàng...       44990000   \n",
       "73  Điện thoại Samsung Galaxy S23 Plus 256GB - Hàn...       26990000   \n",
       "88  Điện thoại Samsung Galaxy S23 Ultra 512GB - Hà...       36990000   \n",
       "\n",
       "    discount_price  discount  \\\n",
       "4         19490000        13   \n",
       "5         30990000         7   \n",
       "7         22490000        13   \n",
       "8         25490000         9   \n",
       "24        31990000         0   \n",
       "27        25000000         0   \n",
       "39        28330000        11   \n",
       "60        14890000         0   \n",
       "72        44990000         0   \n",
       "73        26990000         0   \n",
       "88        36990000         0   \n",
       "\n",
       "                                               colors  sold_quanlity  \\\n",
       "4   [{'label': 'Hồng'}, {'label': 'Xanh Dương'}, {...          385.0   \n",
       "5   [{'label': 'Titan Trắng'}, {'label': 'Titan Tự...          791.0   \n",
       "7              [{'label': ' Đen'}, {'label': 'Hồng'}]          176.0   \n",
       "8   [{'label': 'Titan Trắng'}, {'label': 'Titan Tự...          325.0   \n",
       "24  [{'label': 'Black'}, {'label': 'Cream'}, {'lab...            NaN   \n",
       "27   [{'label': '8GB/256GB'}, {'label': '8GB/512GB'}]            NaN   \n",
       "39                                               None            NaN   \n",
       "60  [{'label': 'Cam Tangerine'}, {'label': 'Xanh I...            NaN   \n",
       "72                               [{'label': 'Cream'}]            NaN   \n",
       "73                               [{'label': 'Black'}]            NaN   \n",
       "88  [{'label': 'Black'}, {'label': 'Cream'}, {'lab...            NaN   \n",
       "\n",
       "    rating_count  rating_average  \n",
       "4             61             5.0  \n",
       "5            121             5.0  \n",
       "7             25             4.8  \n",
       "8             70             4.8  \n",
       "24             0             0.0  \n",
       "27             0             0.0  \n",
       "39             0             0.0  \n",
       "60             0             0.0  \n",
       "72             0             0.0  \n",
       "73             0             0.0  \n",
       "88             0             0.0  "
      ]
     },
     "execution_count": 7,
     "metadata": {},
     "output_type": "execute_result"
    }
   ],
   "source": [
    "def filter_products(df, keywords):\n",
    "    # Tạo một mask boolean để lọc những hàng thoả mãn điều kiện\n",
    "    mask = df['product_name'].apply(lambda x: any(keyword in x for keyword in keywords))\n",
    "    \n",
    "    # Sử dụng mask để lọc df và trả về kết quả\n",
    "    return df[mask]\n",
    "\n",
    "# Danh sách từ khóa bạn muốn tìm\n",
    "keywords = [\"Samsung Galaxy S23\", \"iPhone 15\"]\n",
    "\n",
    "# Gọi hàm filter_products với df_product và keywords\n",
    "filtered_df = filter_products(df_product, keywords)\n",
    "# Hiển thị kết quả\n",
    "filtered_df"
   ]
  },
  {
   "cell_type": "code",
   "execution_count": 8,
   "metadata": {},
   "outputs": [],
   "source": [
    "# Xuất kết quả ra file CSV\n",
    "filtered_df.to_csv('product_smartphone_Tiki_19-3.csv', mode='a', header=not os.path.exists('product_smartphone_Tiki_19-3.csv'), index=False, encoding='utf-8-sig')\n"
   ]
  },
  {
   "cell_type": "markdown",
   "metadata": {},
   "source": [
    "## Get comment"
   ]
  },
  {
   "cell_type": "code",
   "execution_count": 9,
   "metadata": {},
   "outputs": [
    {
     "name": "stderr",
     "output_type": "stream",
     "text": [
      "  0%|          | 0/11 [00:00<?, ?it/s]"
     ]
    },
    {
     "name": "stdout",
     "output_type": "stream",
     "text": [
      "Crawl comment for product 271966786\n",
      "Crawling comments page 1 success!!!\n",
      "Crawling comments page 2 success!!!\n",
      "Crawling comments page 3 success!!!\n",
      "Crawling comments page 4 success!!!\n",
      "Crawling comments page 5 success!!!\n",
      "Crawling comments page 6 success!!!\n",
      "Crawling comments page 7 success!!!\n",
      "Crawling comments page 8 success!!!\n",
      "Crawling comments page 9 success!!!\n",
      "Crawling comments page 10 success!!!\n",
      "Crawling comments page 11 success!!!\n",
      "Crawling comments page 12 success!!!\n",
      "Crawling comments page 13 success!!!\n"
     ]
    },
    {
     "name": "stderr",
     "output_type": "stream",
     "text": [
      "  9%|▉         | 1/11 [00:07<01:16,  7.65s/it]"
     ]
    },
    {
     "name": "stdout",
     "output_type": "stream",
     "text": [
      "No more comments found or error occurred. Moving to next product.\n",
      "Crawl comment for product 271973414\n",
      "Crawling comments page 1 success!!!\n",
      "Crawling comments page 2 success!!!\n",
      "Crawling comments page 3 success!!!\n",
      "Crawling comments page 4 success!!!\n",
      "Crawling comments page 5 success!!!\n",
      "Crawling comments page 6 success!!!\n",
      "Crawling comments page 7 success!!!\n",
      "Crawling comments page 8 success!!!\n",
      "Crawling comments page 9 success!!!\n",
      "Crawling comments page 10 success!!!\n",
      "Crawling comments page 11 success!!!\n",
      "Crawling comments page 12 success!!!\n",
      "Crawling comments page 13 success!!!\n",
      "Crawling comments page 14 success!!!\n",
      "Crawling comments page 15 success!!!\n",
      "Crawling comments page 16 success!!!\n",
      "Crawling comments page 17 success!!!\n",
      "Crawling comments page 18 success!!!\n",
      "Crawling comments page 19 success!!!\n",
      "Crawling comments page 20 success!!!\n",
      "Crawling comments page 21 success!!!\n",
      "Crawling comments page 22 success!!!\n",
      "Crawling comments page 23 success!!!\n",
      "Crawling comments page 24 success!!!\n"
     ]
    },
    {
     "name": "stderr",
     "output_type": "stream",
     "text": [
      " 18%|█▊        | 2/11 [00:19<01:29,  9.95s/it]"
     ]
    },
    {
     "name": "stdout",
     "output_type": "stream",
     "text": [
      "Crawling comments page 25 success!!!\n",
      "No more comments found or error occurred. Moving to next product.\n",
      "Crawl comment for product 271967379\n",
      "Crawling comments page 1 success!!!\n",
      "Crawling comments page 2 success!!!\n",
      "Crawling comments page 3 success!!!\n",
      "Crawling comments page 4 success!!!\n",
      "Crawling comments page 5 success!!!\n"
     ]
    },
    {
     "name": "stderr",
     "output_type": "stream",
     "text": [
      " 27%|██▋       | 3/11 [00:21<00:52,  6.54s/it]"
     ]
    },
    {
     "name": "stdout",
     "output_type": "stream",
     "text": [
      "No more comments found or error occurred. Moving to next product.\n",
      "Crawl comment for product 271972435\n",
      "Crawling comments page 1 success!!!\n",
      "Crawling comments page 2 success!!!\n",
      "Crawling comments page 3 success!!!\n",
      "Crawling comments page 4 success!!!\n",
      "Crawling comments page 5 success!!!\n",
      "Crawling comments page 6 success!!!\n",
      "Crawling comments page 7 success!!!\n",
      "Crawling comments page 8 success!!!\n",
      "Crawling comments page 9 success!!!\n",
      "Crawling comments page 10 success!!!\n",
      "Crawling comments page 11 success!!!\n",
      "Crawling comments page 12 success!!!\n",
      "Crawling comments page 13 success!!!\n"
     ]
    },
    {
     "name": "stderr",
     "output_type": "stream",
     "text": [
      " 36%|███▋      | 4/11 [00:28<00:45,  6.47s/it]"
     ]
    },
    {
     "name": "stdout",
     "output_type": "stream",
     "text": [
      "Crawling comments page 14 success!!!\n",
      "No more comments found or error occurred. Moving to next product.\n"
     ]
    },
    {
     "name": "stderr",
     "output_type": "stream",
     "text": [
      " 45%|████▌     | 5/11 [00:28<00:25,  4.20s/it]"
     ]
    },
    {
     "name": "stdout",
     "output_type": "stream",
     "text": [
      "Crawl comment for product 242712374\n",
      "No more comments found or error occurred. Moving to next product.\n"
     ]
    },
    {
     "name": "stderr",
     "output_type": "stream",
     "text": [
      " 55%|█████▍    | 6/11 [00:28<00:14,  2.84s/it]"
     ]
    },
    {
     "name": "stdout",
     "output_type": "stream",
     "text": [
      "Crawl comment for product 225960096\n",
      "No more comments found or error occurred. Moving to next product.\n"
     ]
    },
    {
     "name": "stderr",
     "output_type": "stream",
     "text": [
      " 64%|██████▎   | 7/11 [00:28<00:07,  1.97s/it]"
     ]
    },
    {
     "name": "stdout",
     "output_type": "stream",
     "text": [
      "Crawl comment for product 225228869\n",
      "No more comments found or error occurred. Moving to next product.\n",
      "Crawl comment for product 274166857\n"
     ]
    },
    {
     "name": "stderr",
     "output_type": "stream",
     "text": [
      " 82%|████████▏ | 9/11 [00:29<00:02,  1.04s/it]"
     ]
    },
    {
     "name": "stdout",
     "output_type": "stream",
     "text": [
      "No more comments found or error occurred. Moving to next product.\n",
      "Crawl comment for product 244182370\n",
      "No more comments found or error occurred. Moving to next product.\n"
     ]
    },
    {
     "name": "stderr",
     "output_type": "stream",
     "text": [
      " 91%|█████████ | 10/11 [00:29<00:00,  1.29it/s]"
     ]
    },
    {
     "name": "stdout",
     "output_type": "stream",
     "text": [
      "Crawl comment for product 242657652\n",
      "No more comments found or error occurred. Moving to next product.\n"
     ]
    },
    {
     "name": "stderr",
     "output_type": "stream",
     "text": [
      "100%|██████████| 11/11 [00:29<00:00,  1.67it/s]"
     ]
    },
    {
     "name": "stdout",
     "output_type": "stream",
     "text": [
      "Crawl comment for product 242712931\n",
      "No more comments found or error occurred. Moving to next product.\n"
     ]
    },
    {
     "name": "stderr",
     "output_type": "stream",
     "text": [
      "100%|██████████| 11/11 [00:29<00:00,  2.68s/it]\n"
     ]
    }
   ],
   "source": [
    "import requests\n",
    "import pandas as pd\n",
    "from tqdm import tqdm\n",
    "\n",
    "cookies = {\n",
    "    'TIKI_GUEST_TOKEN': '8jWSuIDBb2NGVzr6hsUZXpkP1FRin7lY',\n",
    "    'TOKENS': '{%22access_token%22:%228jWSuIDBb2NGVzr6hsUZXpkP1FRin7lY%22%2C%22expires_in%22:157680000%2C%22expires_at%22:1763654224277%2C%22guest_token%22:%228jWSuIDBb2NGVzr6hsUZXpkP1FRin7lY%22}',\n",
    "    'amp_99d374': 'eSc-_0HT1um7cb57E7dwA0...1enloc6a2.1enlrj4bc.1k.11.2l',\n",
    "    'amp_99d374_tiki.vn': 'eSc-_0HT1um7cb57E7dwA0...1enloc6a2.1enlrj2q9.3.1.1',\n",
    "    '_gcl_au': '1.1.559117409.1605974236',\n",
    "    '_ants_utm_v2': '',\n",
    "    '_pk_id.638735871.2fc5': 'b92ae025fbbdb31f.1605974236.1.1605977607.1605974236.',\n",
    "    '_pk_ses.638735871.2fc5': '*',\n",
    "    '_trackity': '70e316b0-96f2-dbe1-a2ed-43ff60419991',\n",
    "    '_ga_NKX31X43RV': 'GS1.1.1605974235.1.1.1605977607.0',\n",
    "    '_ga': 'GA1.2.657946765.1605974236',\n",
    "    'ai_client_id': '11935756853.1605974227',\n",
    "    'an_session': 'zizkzrzjzkzizhzkzlznzdzizizqzgzmzkzmzlzrzmzgzdzizlzjzmzqzkzlzjzgzjzdzizizdzizlzjzmzqzkzlzjzgzjzdzizlzjzmzqzkzlzjzgzjzdzjzdzhzqzdzizd2f27zdzjzdzlzmzmznzq',\n",
    "    'au_aid': '11935756853',\n",
    "    'dgs': '1605977598%3A3%3A0',\n",
    "    'au_gt': '1605974227146',\n",
    "    '_ants_services': '%5B%22cuid%22%5D',\n",
    "    '__admUTMtime': '1605974236',\n",
    "    '__iid': '749',\n",
    "    '__su': '0',\n",
    "    '_bs': 'bb9a32f6-ab13-ce80-92d6-57fd3fd6e4c8',\n",
    "    '_gid': 'GA1.2.867846791.1605974237',\n",
    "    '_fbp': 'fb.1.1605974237134.1297408816',\n",
    "    '_hjid': 'f152cf33-7323-4410-b9ae-79f6622ebc48',\n",
    "    '_hjFirstSeen': '1',\n",
    "    '_hjAbsoluteSessionInProgress': '0',\n",
    "    'tiki_client_id': '657946765.1605974236',\n",
    "    '__gads': 'ID=ae56424189ecccbe-227eb8e1d6c400a8:T=1605974229:RT=1605974229:S=ALNI_MZFWYf2BAjzCSiRNLC3bKI-W_7YHA',\n",
    "    'proxy_s_sv': '1605978058486',\n",
    "    'TKSESSID': '8bcd49b02e1e16aa1cdb795c54d7b460',\n",
    "    'TIKI_RECOMMENDATION': '21dd50e7f7c194df673ea3b717459249',\n",
    "    'cto_bundle': '7L6ha19NVXNkQmJ6aEVLcXNqbHdjcVZoQ0kzTUZwcEMyNCUyRm5nV3A2SThuOGxTRjI4Wlk1NU9xRnBEOG9tUjd2ekhyZEQxeE9qaVQ4MnFpbiUyRllGd2JiQUpTMW94MlNsTnYxd3dOYWtRcXhGdDNxSjdBVmNxU0FnUSUyQjlWYjhqTUtLdVl2cTBheWFvS0ZnY2pLdlpWRlEyUFF0Y1ElM0QlM0Q',\n",
    "    'TIKI_RECENTLYVIEWED': '58259141',\n",
    "    '_ants_event_his': '%7B%22action%22%3A%22view%22%2C%22time%22%3A1605977607258%7D',\n",
    "    '_hjIncludedInPageviewSample': '1',\n",
    "    '_hjIncludedInSessionSample': '1',\n",
    "    '_gat': '1',\n",
    "}\n",
    "\n",
    "headers = {\n",
    "    'User-Agent': 'Mozilla/5.0 (Windows NT 10.0; Win64; x64) AppleWebKit/537.36 (KHTML, like Gecko) Chrome/120.0.0.0 Safari/537.36',\n",
    "    'Accept': 'application/json, text/plain, */*',\n",
    "    'Accept-Language': 'vi-VN,vi;q=0.9,fr-FR;q=0.8,fr;q=0.7,en-US;q=0.6,en;q=0.5',\n",
    "    'Referer': 'https://tiki.vn/dien-thoai-oppo-a17k-3gb-64gb-hang-chinh-hang-p203853390.html?spid=203853394',\n",
    "    'x-guest-token': '167AgdBpHNqmzc3Zai8EJjLQk4DuYXW9',\n",
    "    'Connection': 'keep-alive',\n",
    "    'TE': 'Trailers',\n",
    "}\n",
    "\n",
    "params = {\n",
    "    'product_id': '203853390',\n",
    "    'spid': '203853394',\n",
    "    'sort': 'score|desc,id|desc,stars|all',\n",
    "    'page': '1',\n",
    "    'limit': '5',\n",
    "    'include': 'comments,contribute_info,attribute_vote_summary'\n",
    "}\n",
    "\n",
    "def comment_parser(json):\n",
    "    d = dict()\n",
    "    \n",
    "    d['comment_id'] = json.get('id')\n",
    "    d['title'] = json.get('title')\n",
    "    d['content'] = json.get('content')\n",
    "    d['thank_count'] = json.get('thank_count')\n",
    "    d['customer_id']  = json.get('customer_id')\n",
    "    d['customer_name'] = json.get('created_by').get('name')\n",
    "    d['product_attributes'] = json.get('product_attributes')\n",
    "\n",
    "    timeline = json.get('timeline')\n",
    "    d['delivery_date'] = timeline.get('delivery_date') if timeline else None\n",
    "    d['current_date'] = timeline.get('current_date') if timeline else None\n",
    "\n",
    "    d['id'] = json.get('product_id')\n",
    "    return d\n",
    "\n",
    "# Đọc danh sách ID sản phẩm\n",
    "df_id = pd.read_csv(r\"D:\\projects\\NCKH\\Data Crawl\\Trang TMĐT\\Tiki\\Code Crawl\\product_smartphone_Tiki_19-3.csv\")\n",
    "p_ids = df_id.id.to_list()\n",
    "\n",
    "result = []\n",
    "\n",
    "for pid in tqdm(p_ids, total=len(p_ids)):\n",
    "    params = {\n",
    "        'product_id': pid,\n",
    "        'sort': 'score|desc,id|desc,stars|all',\n",
    "        'page': '1',\n",
    "        'limit': '5',\n",
    "        'include': 'comments,contribute_info,attribute_vote_summary'\n",
    "    }\n",
    "\n",
    "    print('Crawl comment for product {}'.format(pid))\n",
    "    page = 1\n",
    "\n",
    "    while True:\n",
    "        params['page'] = str(page)\n",
    "        response = requests.get('https://tiki.vn/api/v2/reviews', headers=headers, params=params, cookies=cookies)\n",
    "\n",
    "        if response.status_code != 200 or not response.json().get('data'):\n",
    "            print('No more comments found or error occurred. Moving to next product.')\n",
    "            break\n",
    "\n",
    "        print('Crawling comments page {} success!!!'.format(page))\n",
    "        for comment in response.json().get('data'):\n",
    "            result.append(comment_parser(comment))\n",
    "\n",
    "        page += 1\n",
    "\n",
    "df_comment = pd.DataFrame(result)\n",
    "df_comment.to_csv('comments_data_smarphones_19-3.csv', mode='a', header=not os.path.exists('comments_data_smarphones_19-3.csv'), index=False, encoding='utf-8-sig')\n"
   ]
  },
  {
   "cell_type": "code",
   "execution_count": 10,
   "metadata": {},
   "outputs": [
    {
     "data": {
      "text/html": [
       "<div>\n",
       "<style scoped>\n",
       "    .dataframe tbody tr th:only-of-type {\n",
       "        vertical-align: middle;\n",
       "    }\n",
       "\n",
       "    .dataframe tbody tr th {\n",
       "        vertical-align: top;\n",
       "    }\n",
       "\n",
       "    .dataframe thead th {\n",
       "        text-align: right;\n",
       "    }\n",
       "</style>\n",
       "<table border=\"1\" class=\"dataframe\">\n",
       "  <thead>\n",
       "    <tr style=\"text-align: right;\">\n",
       "      <th></th>\n",
       "      <th>id</th>\n",
       "      <th>sku</th>\n",
       "      <th>Date Crawled</th>\n",
       "      <th>brand_id</th>\n",
       "      <th>brand_name</th>\n",
       "      <th>store</th>\n",
       "      <th>product_name</th>\n",
       "      <th>current_price</th>\n",
       "      <th>discount_price</th>\n",
       "      <th>discount</th>\n",
       "      <th>...</th>\n",
       "      <th>rating_average</th>\n",
       "      <th>comment_id</th>\n",
       "      <th>title</th>\n",
       "      <th>content</th>\n",
       "      <th>thank_count</th>\n",
       "      <th>customer_id</th>\n",
       "      <th>customer_name</th>\n",
       "      <th>product_attributes</th>\n",
       "      <th>delivery_date</th>\n",
       "      <th>current_date</th>\n",
       "    </tr>\n",
       "  </thead>\n",
       "  <tbody>\n",
       "    <tr>\n",
       "      <th>0</th>\n",
       "      <td>271966786</td>\n",
       "      <td>3577192583861</td>\n",
       "      <td>2024-03-19</td>\n",
       "      <td>17827</td>\n",
       "      <td>Apple</td>\n",
       "      <td>Tiki Trading</td>\n",
       "      <td>Apple iPhone 15</td>\n",
       "      <td>22490000</td>\n",
       "      <td>19490000</td>\n",
       "      <td>13</td>\n",
       "      <td>...</td>\n",
       "      <td>5.0</td>\n",
       "      <td>19623470</td>\n",
       "      <td>Cực kì hài lòng</td>\n",
       "      <td>Tiki Giao hàng siêu nhanh, chuẩn. Giá cực tốt,...</td>\n",
       "      <td>4</td>\n",
       "      <td>34212</td>\n",
       "      <td>Tăng Hoàng Nhân</td>\n",
       "      <td>['Màu sắc: Xanh Dương', 'Dung lượng: 128GB']</td>\n",
       "      <td>2023-10-31 09:22:15</td>\n",
       "      <td>2024-03-20 00:00:52</td>\n",
       "    </tr>\n",
       "    <tr>\n",
       "      <th>1</th>\n",
       "      <td>271966786</td>\n",
       "      <td>3577192583861</td>\n",
       "      <td>2024-03-19</td>\n",
       "      <td>17827</td>\n",
       "      <td>Apple</td>\n",
       "      <td>Tiki Trading</td>\n",
       "      <td>Apple iPhone 15</td>\n",
       "      <td>22490000</td>\n",
       "      <td>19490000</td>\n",
       "      <td>13</td>\n",
       "      <td>...</td>\n",
       "      <td>5.0</td>\n",
       "      <td>19697684</td>\n",
       "      <td>Cực kì hài lòng</td>\n",
       "      <td>NaN</td>\n",
       "      <td>2</td>\n",
       "      <td>11771483</td>\n",
       "      <td>Vương Thái Dương</td>\n",
       "      <td>['Màu sắc:  Đen', 'Dung lượng: 128GB']</td>\n",
       "      <td>2023-12-06 16:35:24</td>\n",
       "      <td>2024-03-20 00:00:52</td>\n",
       "    </tr>\n",
       "    <tr>\n",
       "      <th>2</th>\n",
       "      <td>271966786</td>\n",
       "      <td>3577192583861</td>\n",
       "      <td>2024-03-19</td>\n",
       "      <td>17827</td>\n",
       "      <td>Apple</td>\n",
       "      <td>Tiki Trading</td>\n",
       "      <td>Apple iPhone 15</td>\n",
       "      <td>22490000</td>\n",
       "      <td>19490000</td>\n",
       "      <td>13</td>\n",
       "      <td>...</td>\n",
       "      <td>5.0</td>\n",
       "      <td>19798373</td>\n",
       "      <td>Cực kì hài lòng</td>\n",
       "      <td>Máy giao đến sau 3 ngày (dự kiến lúc đầu là 7 ...</td>\n",
       "      <td>0</td>\n",
       "      <td>6013042</td>\n",
       "      <td>Hoàng Ngọc</td>\n",
       "      <td>['Màu sắc: Hồng', 'Dung lượng: 128GB']</td>\n",
       "      <td>2024-03-06 09:39:46</td>\n",
       "      <td>2024-03-20 00:00:52</td>\n",
       "    </tr>\n",
       "    <tr>\n",
       "      <th>3</th>\n",
       "      <td>271966786</td>\n",
       "      <td>3577192583861</td>\n",
       "      <td>2024-03-19</td>\n",
       "      <td>17827</td>\n",
       "      <td>Apple</td>\n",
       "      <td>Tiki Trading</td>\n",
       "      <td>Apple iPhone 15</td>\n",
       "      <td>22490000</td>\n",
       "      <td>19490000</td>\n",
       "      <td>13</td>\n",
       "      <td>...</td>\n",
       "      <td>5.0</td>\n",
       "      <td>19664180</td>\n",
       "      <td>Rất không hài lòng</td>\n",
       "      <td>Tốt nhất là các bác nên ra ĐMX hoặc TGDD mà mu...</td>\n",
       "      <td>0</td>\n",
       "      <td>13565338</td>\n",
       "      <td>Gia Dụng Hà Linh</td>\n",
       "      <td>['Màu sắc:  Đen', 'Dung lượng: 256GB']</td>\n",
       "      <td>2023-11-27 14:01:59</td>\n",
       "      <td>2024-03-20 00:00:52</td>\n",
       "    </tr>\n",
       "    <tr>\n",
       "      <th>4</th>\n",
       "      <td>271966786</td>\n",
       "      <td>3577192583861</td>\n",
       "      <td>2024-03-19</td>\n",
       "      <td>17827</td>\n",
       "      <td>Apple</td>\n",
       "      <td>Tiki Trading</td>\n",
       "      <td>Apple iPhone 15</td>\n",
       "      <td>22490000</td>\n",
       "      <td>19490000</td>\n",
       "      <td>13</td>\n",
       "      <td>...</td>\n",
       "      <td>5.0</td>\n",
       "      <td>19686875</td>\n",
       "      <td>Cực kì hài lòng</td>\n",
       "      <td>Đóng gói chắc chắn. Giao hàng nhanh. Nguyên se...</td>\n",
       "      <td>0</td>\n",
       "      <td>28779900</td>\n",
       "      <td>Bùi Hường</td>\n",
       "      <td>['Màu sắc: Hồng', 'Dung lượng: 128GB']</td>\n",
       "      <td>2023-12-15 10:21:00</td>\n",
       "      <td>2024-03-20 00:00:52</td>\n",
       "    </tr>\n",
       "  </tbody>\n",
       "</table>\n",
       "<p>5 rows × 23 columns</p>\n",
       "</div>"
      ],
      "text/plain": [
       "          id            sku Date Crawled  brand_id brand_name         store  \\\n",
       "0  271966786  3577192583861   2024-03-19     17827      Apple  Tiki Trading   \n",
       "1  271966786  3577192583861   2024-03-19     17827      Apple  Tiki Trading   \n",
       "2  271966786  3577192583861   2024-03-19     17827      Apple  Tiki Trading   \n",
       "3  271966786  3577192583861   2024-03-19     17827      Apple  Tiki Trading   \n",
       "4  271966786  3577192583861   2024-03-19     17827      Apple  Tiki Trading   \n",
       "\n",
       "      product_name  current_price  discount_price  discount  ...  \\\n",
       "0  Apple iPhone 15       22490000        19490000        13  ...   \n",
       "1  Apple iPhone 15       22490000        19490000        13  ...   \n",
       "2  Apple iPhone 15       22490000        19490000        13  ...   \n",
       "3  Apple iPhone 15       22490000        19490000        13  ...   \n",
       "4  Apple iPhone 15       22490000        19490000        13  ...   \n",
       "\n",
       "  rating_average  comment_id               title  \\\n",
       "0            5.0    19623470     Cực kì hài lòng   \n",
       "1            5.0    19697684     Cực kì hài lòng   \n",
       "2            5.0    19798373     Cực kì hài lòng   \n",
       "3            5.0    19664180  Rất không hài lòng   \n",
       "4            5.0    19686875     Cực kì hài lòng   \n",
       "\n",
       "                                             content  thank_count customer_id  \\\n",
       "0  Tiki Giao hàng siêu nhanh, chuẩn. Giá cực tốt,...            4       34212   \n",
       "1                                                NaN            2    11771483   \n",
       "2  Máy giao đến sau 3 ngày (dự kiến lúc đầu là 7 ...            0     6013042   \n",
       "3  Tốt nhất là các bác nên ra ĐMX hoặc TGDD mà mu...            0    13565338   \n",
       "4  Đóng gói chắc chắn. Giao hàng nhanh. Nguyên se...            0    28779900   \n",
       "\n",
       "      customer_name                            product_attributes  \\\n",
       "0   Tăng Hoàng Nhân  ['Màu sắc: Xanh Dương', 'Dung lượng: 128GB']   \n",
       "1  Vương Thái Dương        ['Màu sắc:  Đen', 'Dung lượng: 128GB']   \n",
       "2        Hoàng Ngọc        ['Màu sắc: Hồng', 'Dung lượng: 128GB']   \n",
       "3  Gia Dụng Hà Linh        ['Màu sắc:  Đen', 'Dung lượng: 256GB']   \n",
       "4         Bùi Hường        ['Màu sắc: Hồng', 'Dung lượng: 128GB']   \n",
       "\n",
       "         delivery_date         current_date  \n",
       "0  2023-10-31 09:22:15  2024-03-20 00:00:52  \n",
       "1  2023-12-06 16:35:24  2024-03-20 00:00:52  \n",
       "2  2024-03-06 09:39:46  2024-03-20 00:00:52  \n",
       "3  2023-11-27 14:01:59  2024-03-20 00:00:52  \n",
       "4  2023-12-15 10:21:00  2024-03-20 00:00:52  \n",
       "\n",
       "[5 rows x 23 columns]"
      ]
     },
     "execution_count": 10,
     "metadata": {},
     "output_type": "execute_result"
    }
   ],
   "source": [
    "df1 = pd.read_csv(r\"D:\\projects\\NCKH\\Data Crawl\\Trang TMĐT\\Tiki\\Code Crawl\\product_smartphone_Tiki_19-3.csv\")\n",
    "df2 = pd.read_csv(r\"D:\\projects\\NCKH\\Data Crawl\\Trang TMĐT\\Tiki\\Code Crawl\\comments_data_smarphones_19-3.csv\")\n",
    "\n",
    "# Merging the two datasets on 'id' from data_smartphone and 'product_id' from comments\n",
    "merged_data = pd.merge(df1, df2, on='id', how='inner')\n",
    "\n",
    "# Display the first few rows of the merged dataset for verification\n",
    "merged_data.head()"
   ]
  },
  {
   "cell_type": "code",
   "execution_count": 11,
   "metadata": {},
   "outputs": [],
   "source": [
    "merged_data.to_csv('Tiki_Smartphone_19-3.csv', index=False, encoding='utf-8-sig')"
   ]
  }
 ],
 "metadata": {
  "kernelspec": {
   "display_name": "Python 3",
   "language": "python",
   "name": "python3"
  },
  "language_info": {
   "codemirror_mode": {
    "name": "ipython",
    "version": 3
   },
   "file_extension": ".py",
   "mimetype": "text/x-python",
   "name": "python",
   "nbconvert_exporter": "python",
   "pygments_lexer": "ipython3",
   "version": "3.10.9"
  }
 },
 "nbformat": 4,
 "nbformat_minor": 2
}
