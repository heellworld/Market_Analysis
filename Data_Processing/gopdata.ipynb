{
 "cells": [
  {
   "cell_type": "code",
   "execution_count": 1,
   "metadata": {},
   "outputs": [],
   "source": [
    "import pandas as pd\n",
    "import numpy as np\n",
    "import os"
   ]
  },
  {
   "cell_type": "code",
   "execution_count": 2,
   "metadata": {},
   "outputs": [],
   "source": [
    "df1 = pd.read_csv(r\"D:\\projects\\NCKH\\Data Crawl\\Trang web bán hàng\\FPT Shop\\product_smartphone_FPT.csv\")\n",
    "df2 = pd.read_csv(r\"D:\\projects\\NCKH\\Data Crawl\\Trang web bán hàng\\FPT Shop\\comments_fpt.csv\")\n",
    "df3 = pd.read_csv(r\"D:\\projects\\NCKH\\Data Crawl\\Trang web bán hàng\\Cellphones\\product_smartphone_CellPhones.csv\")\n",
    "df4 = pd.read_csv(r\"D:\\projects\\NCKH\\Data Crawl\\Trang web bán hàng\\Cellphones\\comments_CellPhones.csv\")\n",
    "df5 = pd.read_csv(r\"D:\\projects\\NCKH\\Data Crawl\\Trang web bán hàng\\Thế Giới Di Động\\product_smartphone_TGDĐ.csv\")\n",
    "df6 = pd.read_csv(r\"D:\\projects\\NCKH\\Data Crawl\\Trang web bán hàng\\Thế Giới Di Động\\comments_TGDĐ.csv\")"
   ]
  },
  {
   "cell_type": "code",
   "execution_count": 3,
   "metadata": {},
   "outputs": [
    {
     "name": "stdout",
     "output_type": "stream",
     "text": [
      "  Platform_x                                                URL Date Crawled  \\\n",
      "0        FPT  https://fptshop.com.vn/dien-thoai/iphone-15-pr...     3/9/2024   \n",
      "1        FPT  https://fptshop.com.vn/dien-thoai/iphone-15-pr...     3/9/2024   \n",
      "2        FPT  https://fptshop.com.vn/dien-thoai/iphone-15-pr...     3/9/2024   \n",
      "3        FPT  https://fptshop.com.vn/dien-thoai/iphone-15-pr...     3/9/2024   \n",
      "4        FPT  https://fptshop.com.vn/dien-thoai/iphone-15-pr...     3/9/2024   \n",
      "\n",
      "                           Product Title Current Price Discounted Price  \\\n",
      "0  iPhone 15 Pro Max 256GB (No.00904369)   34.990.000₫      30.990.000₫   \n",
      "1  iPhone 15 Pro Max 256GB (No.00904369)   34.990.000₫      30.990.000₫   \n",
      "2  iPhone 15 Pro Max 256GB (No.00904369)   34.990.000₫      30.990.000₫   \n",
      "3  iPhone 15 Pro Max 256GB (No.00904369)   34.990.000₫      30.990.000₫   \n",
      "4  iPhone 15 Pro Max 256GB (No.00904369)   34.990.000₫      30.990.000₫   \n",
      "\n",
      "  Discount Rating Average Rating Count Platform_y         Customer Name  \\\n",
      "0     -11%          5-Apr  63 đánh giá        FPT                 Trung   \n",
      "1     -11%          5-Apr  63 đánh giá        FPT  Đã mua tại FPTShop   \n",
      "2     -11%          5-Apr  63 đánh giá        FPT                  Long   \n",
      "3     -11%          5-Apr  63 đánh giá        FPT  Đã mua tại FPTShop   \n",
      "4     -11%          5-Apr  63 đánh giá        FPT             Tuấn Kiệt   \n",
      "\n",
      "      Time Comment                                        Content  \n",
      "0    17 ngày trước  Dịch vụ tốt, chuyên nghiệp, máy thì đỉnh chóp  \n",
      "1              NaN                                            NaN  \n",
      "2  Ngày 20/01/2024         Dịch vụ tốt, máy đa dạng và đủ màu nhé  \n",
      "3              NaN                                            NaN  \n",
      "4  Ngày 19/01/2024                                      Tuyệt vời  \n"
     ]
    }
   ],
   "source": [
    "merged_df1 = pd.merge(df1, df2, on='URL', how='left')\n",
    "\n",
    "# Hiển thị kết quả\n",
    "print(merged_df1.head())"
   ]
  },
  {
   "cell_type": "code",
   "execution_count": 4,
   "metadata": {},
   "outputs": [
    {
     "name": "stdout",
     "output_type": "stream",
     "text": [
      "  Platform_x                                           URL Date Crawled  \\\n",
      "0       TGDĐ  https://www.thegioididong.com/dtdd/iphone-15    3/10/2024   \n",
      "1       TGDĐ  https://www.thegioididong.com/dtdd/iphone-15    3/10/2024   \n",
      "2       TGDĐ  https://www.thegioididong.com/dtdd/iphone-15    3/10/2024   \n",
      "3       TGDĐ  https://www.thegioididong.com/dtdd/iphone-15    3/10/2024   \n",
      "4       TGDĐ  https://www.thegioididong.com/dtdd/iphone-15    3/10/2024   \n",
      "\n",
      "                Product Title Current Price Discounted Price Discount  \\\n",
      "0  Điện thoại iPhone 15 128GB   22.990.000₫      20.690.000₫     -10%   \n",
      "1  Điện thoại iPhone 15 128GB   22.990.000₫      20.690.000₫     -10%   \n",
      "2  Điện thoại iPhone 15 128GB   22.990.000₫      20.690.000₫     -10%   \n",
      "3  Điện thoại iPhone 15 128GB   22.990.000₫      20.690.000₫     -10%   \n",
      "4  Điện thoại iPhone 15 128GB   22.990.000₫      20.690.000₫     -10%   \n",
      "\n",
      "   Rating Average Rating Count Platform_y       Customer Name  \\\n",
      "0             4.5  14 đánh giá       TGDĐ            Nhựt Anh   \n",
      "1             4.5  14 đánh giá       TGDĐ  Nguyễn Thị Mỹ Hang   \n",
      "2             4.5  14 đánh giá       TGDĐ            Ngọc Bùi   \n",
      "3             4.5  14 đánh giá       TGDĐ           Thảo Linh   \n",
      "4             4.5  14 đánh giá       TGDĐ      Lâm Chấn Thịnh   \n",
      "\n",
      "                         Time Comment  \\\n",
      "0       Hữu ích Đã dùng khoảng 1 tuần   \n",
      "1       Hữu ích Đã dùng khoảng 2 tuần   \n",
      "2  Hữu ích (5) Đã dùng khoảng 2 tháng   \n",
      "3   Hữu ích (3) Đã dùng khoảng 3 ngày   \n",
      "4   Hữu ích (2) Đã dùng khoảng 1 tuần   \n",
      "\n",
      "                                             Content  \n",
      "0                                                Tốt  \n",
      "1                                          Tuyết voi  \n",
      "2  M muốn đổi từ 15 sang 15 plus thì ntn Máy ngoạ...  \n",
      "3  Máy nhìn ở ngoài xinh hơn ạ. Nhân viên tư vấn ...  \n",
      "4                                                tốt  \n"
     ]
    }
   ],
   "source": [
    "merged_df2 = pd.merge(df5, df6, on='URL', how='left')\n",
    "\n",
    "# Hiển thị kết quả\n",
    "print(merged_df2.head())"
   ]
  },
  {
   "cell_type": "code",
   "execution_count": 5,
   "metadata": {},
   "outputs": [
    {
     "name": "stdout",
     "output_type": "stream",
     "text": [
      "   Platform_x                                       URL Date Crawled  \\\n",
      "0  CellPhones  https://cellphones.com.vn/iphone-15.html    3/10/2024   \n",
      "1  CellPhones  https://cellphones.com.vn/iphone-15.html    3/10/2024   \n",
      "2  CellPhones  https://cellphones.com.vn/iphone-15.html    3/10/2024   \n",
      "3  CellPhones  https://cellphones.com.vn/iphone-15.html    3/10/2024   \n",
      "4  CellPhones  https://cellphones.com.vn/iphone-15.html    3/10/2024   \n",
      "\n",
      "                       Product Title Current Price Discounted Price  \\\n",
      "0  iPhone 15 128GB | Chính hãng VN/A   22.990.000đ      19.990.000đ   \n",
      "1  iPhone 15 128GB | Chính hãng VN/A   22.990.000đ      19.990.000đ   \n",
      "2  iPhone 15 128GB | Chính hãng VN/A   22.990.000đ      19.990.000đ   \n",
      "3  iPhone 15 128GB | Chính hãng VN/A   22.990.000đ      19.990.000đ   \n",
      "4  iPhone 15 128GB | Chính hãng VN/A   22.990.000đ      19.990.000đ   \n",
      "\n",
      "  Rating Average Rating Count  Platform_y  \\\n",
      "0          4.9/5   7 đánh giá  CellPhones   \n",
      "1          4.9/5   7 đánh giá  CellPhones   \n",
      "2          4.9/5   7 đánh giá  CellPhones   \n",
      "3          4.9/5   7 đánh giá  CellPhones   \n",
      "4          4.9/5   7 đánh giá  CellPhones   \n",
      "\n",
      "                                 Customer Name     Time Comment  \\\n",
      "0                                Trương Tấn Đô  31/3/2024 04:59   \n",
      "1                                     Mai Tùng   2/3/2024 09:39   \n",
      "2  Ngọc Linh Huyết Kiều (Huyết Kiều Ngọc Linh)  7/11/2023 17:04   \n",
      "3                             Nguyễn Trần Thụy  7/11/2023 02:19   \n",
      "4                              Hiep Nguyen Huy  7/11/2023 02:12   \n",
      "\n",
      "                                             Content                 status  \\\n",
      "0                       mong duyệt giúp em khoản góp  Đã mua tại CellphoneS   \n",
      "1  Nhân viên bắc tư vấn nhiệt tình nhưng mua tặng...                    NaN   \n",
      "2  Tần số quét\\n60 Hz\\nĐộ sáng tối đa\\n2000 nits\\...                    NaN   \n",
      "3                             Awesome phone! Quá tốt                    NaN   \n",
      "4                        mọi thử ổn trừ camera trước                    NaN   \n",
      "\n",
      "                                        content_rate  \n",
      "0  Hiệu năng Siêu mạnh mẽ\\nThời lượng pin Cực khủ...  \n",
      "1  Hiệu năng Siêu mạnh mẽ\\nThời lượng pin Cực khủ...  \n",
      "2  Hiệu năng Siêu mạnh mẽ\\nThời lượng pin Cực khủ...  \n",
      "3  Hiệu năng Siêu mạnh mẽ\\nThời lượng pin Cực khủ...  \n",
      "4  Hiệu năng Siêu mạnh mẽ\\nThời lượng pin Cực khủ...  \n"
     ]
    }
   ],
   "source": [
    "merged_df3 = pd.merge(df3, df4, on='URL', how='left')\n",
    "\n",
    "# Hiển thị kết quả\n",
    "print(merged_df3.head())"
   ]
  },
  {
   "cell_type": "code",
   "execution_count": 6,
   "metadata": {},
   "outputs": [],
   "source": [
    "merged_df1.to_csv('Smarphones_fpt.csv', mode='a', header=not os.path.exists('smarphones_fpt.csv'), index=False, encoding='utf-8-sig')\n",
    "merged_df2.to_csv('Smarphones_TGDĐ.csv', mode='a', header=not os.path.exists('smarphones_TGDĐ.csv'), index=False, encoding='utf-8-sig')\n",
    "merged_df3.to_csv('Smarphones_CellPhones.csv', mode='a', header=not os.path.exists('smarphones_CellPhones.csv'), index=False, encoding='utf-8-sig')"
   ]
  }
 ],
 "metadata": {
  "kernelspec": {
   "display_name": "Python 3",
   "language": "python",
   "name": "python3"
  },
  "language_info": {
   "codemirror_mode": {
    "name": "ipython",
    "version": 3
   },
   "file_extension": ".py",
   "mimetype": "text/x-python",
   "name": "python",
   "nbconvert_exporter": "python",
   "pygments_lexer": "ipython3",
   "version": "3.10.9"
  }
 },
 "nbformat": 4,
 "nbformat_minor": 2
}
