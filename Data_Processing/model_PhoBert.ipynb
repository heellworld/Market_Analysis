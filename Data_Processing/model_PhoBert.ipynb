{
 "cells": [
  {
   "cell_type": "code",
   "execution_count": 2,
   "metadata": {},
   "outputs": [],
   "source": [
    "import torch\n",
    "import numpy as np\n",
    "import pandas as pd\n",
    "import seaborn as sns\n",
    "import matplotlib.pyplot as plt\n",
    "from sklearn.model_selection import train_test_split\n",
    "from gensim.utils import simple_preprocess\n",
    "from sklearn.model_selection import StratifiedKFold\n",
    "from sklearn.metrics import classification_report, confusion_matrix\n",
    "\n",
    "import torch.nn as nn\n",
    "from torch.optim import AdamW\n",
    "from torch.utils.data import Dataset, DataLoader\n",
    "\n",
    "from transformers import get_linear_schedule_with_warmup, AutoTokenizer, AutoModel, logging\n",
    "\n",
    "import warnings\n",
    "warnings.filterwarnings(\"ignore\")\n",
    "\n",
    "logging.set_verbosity_error()"
   ]
  },
  {
   "cell_type": "code",
   "execution_count": 3,
   "metadata": {},
   "outputs": [],
   "source": [
    "def seed_everything(seed_value):\n",
    "    np.random.seed(seed_value)\n",
    "    torch.manual_seed(seed_value)\n",
    "    \n",
    "    if torch.cuda.is_available(): \n",
    "        torch.cuda.manual_seed(seed_value)\n",
    "        torch.cuda.manual_seed_all(seed_value)\n",
    "        torch.backends.cudnn.deterministic = True\n",
    "        torch.backends.cudnn.benchmark = True\n",
    "\n",
    "seed_everything(86)"
   ]
  },
  {
   "cell_type": "code",
   "execution_count": 4,
   "metadata": {},
   "outputs": [],
   "source": [
    "device = torch.device('cuda:0' if torch.cuda.is_available() else 'cpu')\n",
    "EPOCHS = 10\n",
    "N_SPLITS = 5"
   ]
  },
  {
   "cell_type": "markdown",
   "metadata": {},
   "source": [
    "# Load data"
   ]
  },
  {
   "cell_type": "code",
   "execution_count": 5,
   "metadata": {},
   "outputs": [
    {
     "name": "stdout",
     "output_type": "stream",
     "text": [
      "Số lượng mẫu trong tập train: 20958\n",
      "Số lượng mẫu trong tập valid: 2329\n",
      "Số lượng mẫu trong tập test: 5822\n"
     ]
    }
   ],
   "source": [
    "# Đọc dữ liệu từ tệp CSV hoặc Excel\n",
    "df = pd.read_csv('Comment_segement_OK.csv')\n",
    "\n",
    "# Chia dữ liệu thành train và temporary data\n",
    "train_temp, test_df = train_test_split(df, test_size=0.2, random_state=86)\n",
    "\n",
    "# Tiếp tục chia train_temp thành train và validation\n",
    "train_df, valid_df = train_test_split(train_temp, test_size=0.1, random_state=86)\n",
    "\n",
    "# In kích thước của các tập dữ liệu\n",
    "print(\"Số lượng mẫu trong tập train:\", len(train_df))\n",
    "print(\"Số lượng mẫu trong tập valid:\", len(valid_df))\n",
    "print(\"Số lượng mẫu trong tập test:\", len(test_df))"
   ]
  },
  {
   "cell_type": "code",
   "execution_count": 6,
   "metadata": {},
   "outputs": [],
   "source": [
    "# Thêm KFold vào\n",
    "train_df = pd.concat([train_df, valid_df], ignore_index=True)\n",
    "skf = StratifiedKFold(n_splits=N_SPLITS)\n",
    "for fold, (_, val_) in enumerate(skf.split(X=train_df, y=train_df['sentiment'])):\n",
    "    train_df.loc[val_, \"kfold\"] = fold"
   ]
  },
  {
   "cell_type": "code",
   "execution_count": 7,
   "metadata": {},
   "outputs": [
    {
     "data": {
      "text/html": [
       "<div>\n",
       "<style scoped>\n",
       "    .dataframe tbody tr th:only-of-type {\n",
       "        vertical-align: middle;\n",
       "    }\n",
       "\n",
       "    .dataframe tbody tr th {\n",
       "        vertical-align: top;\n",
       "    }\n",
       "\n",
       "    .dataframe thead th {\n",
       "        text-align: right;\n",
       "    }\n",
       "</style>\n",
       "<table border=\"1\" class=\"dataframe\">\n",
       "  <thead>\n",
       "    <tr style=\"text-align: right;\">\n",
       "      <th></th>\n",
       "      <th>sentence</th>\n",
       "      <th>sentiment</th>\n",
       "      <th>kfold</th>\n",
       "    </tr>\n",
       "  </thead>\n",
       "  <tbody>\n",
       "    <tr>\n",
       "      <th>5964</th>\n",
       "      <td>trưởng_thành hơn cở s42 ultra rồi rước bả dzề ...</td>\n",
       "      <td>positive</td>\n",
       "      <td>1.0</td>\n",
       "    </tr>\n",
       "    <tr>\n",
       "      <th>8644</th>\n",
       "      <td>rất công_bằng và không hề nghiêng về bên nào</td>\n",
       "      <td>negative</td>\n",
       "      <td>1.0</td>\n",
       "    </tr>\n",
       "    <tr>\n",
       "      <th>7314</th>\n",
       "      <td>tốt lượng chuẩn không cần chỉnh</td>\n",
       "      <td>positive</td>\n",
       "      <td>1.0</td>\n",
       "    </tr>\n",
       "    <tr>\n",
       "      <th>2318</th>\n",
       "      <td>lương cơ_bản 3 tr đôwozy face</td>\n",
       "      <td>negative</td>\n",
       "      <td>0.0</td>\n",
       "    </tr>\n",
       "    <tr>\n",
       "      <th>22057</th>\n",
       "      <td>chỉ là cá_nhân nhưng_mà có_thể đọc quot_vi đê ...</td>\n",
       "      <td>negative</td>\n",
       "      <td>4.0</td>\n",
       "    </tr>\n",
       "  </tbody>\n",
       "</table>\n",
       "</div>"
      ],
      "text/plain": [
       "                                                sentence sentiment  kfold\n",
       "5964   trưởng_thành hơn cở s42 ultra rồi rước bả dzề ...  positive    1.0\n",
       "8644        rất công_bằng và không hề nghiêng về bên nào  negative    1.0\n",
       "7314                     tốt lượng chuẩn không cần chỉnh  positive    1.0\n",
       "2318                       lương cơ_bản 3 tr đôwozy face  negative    0.0\n",
       "22057  chỉ là cá_nhân nhưng_mà có_thể đọc quot_vi đê ...  negative    4.0"
      ]
     },
     "execution_count": 7,
     "metadata": {},
     "output_type": "execute_result"
    }
   ],
   "source": [
    "train_df.sample(5)"
   ]
  },
  {
   "cell_type": "code",
   "execution_count": 8,
   "metadata": {},
   "outputs": [
    {
     "name": "stdout",
     "output_type": "stream",
     "text": [
      "<class 'pandas.core.frame.DataFrame'>\n",
      "RangeIndex: 23287 entries, 0 to 23286\n",
      "Data columns (total 3 columns):\n",
      " #   Column     Non-Null Count  Dtype  \n",
      "---  ------     --------------  -----  \n",
      " 0   sentence   23287 non-null  object \n",
      " 1   sentiment  23287 non-null  object \n",
      " 2   kfold      23287 non-null  float64\n",
      "dtypes: float64(1), object(2)\n",
      "memory usage: 545.9+ KB\n",
      "<class 'pandas.core.frame.DataFrame'>\n",
      "Index: 5822 entries, 8543 to 8998\n",
      "Data columns (total 2 columns):\n",
      " #   Column     Non-Null Count  Dtype \n",
      "---  ------     --------------  ----- \n",
      " 0   sentence   5822 non-null   object\n",
      " 1   sentiment  5822 non-null   object\n",
      "dtypes: object(2)\n",
      "memory usage: 136.5+ KB\n"
     ]
    },
    {
     "data": {
      "text/plain": [
       "(None, None)"
      ]
     },
     "execution_count": 8,
     "metadata": {},
     "output_type": "execute_result"
    }
   ],
   "source": [
    "train_df.info(), test_df.info()"
   ]
  },
  {
   "cell_type": "code",
   "execution_count": 9,
   "metadata": {},
   "outputs": [
    {
     "data": {
      "text/plain": [
       "<Axes: xlabel='sentiment', ylabel='count'>"
      ]
     },
     "execution_count": 9,
     "metadata": {},
     "output_type": "execute_result"
    },
    {
     "data": {
      "image/png": "[encoded data removed]",
      "text/plain": [
       "<Figure size 640x480 with 1 Axes>"
      ]
     },
     "metadata": {},
     "output_type": "display_data"
    }
   ],
   "source": [
    "sns.countplot(x='sentiment',data=train_df)"
   ]
  },
  {
   "cell_type": "code",
   "execution_count": 10,
   "metadata": {},
   "outputs": [],
   "source": [
    "tokenizer = AutoTokenizer.from_pretrained(\"vinai/phobert-base\", use_fast=False)"
   ]
  },
  {
   "cell_type": "code",
   "execution_count": 11,
   "metadata": {},
   "outputs": [],
   "source": [
    "# class SentimentDataset(Dataset):\n",
    "#     def __init__(self, df, tokenizer, max_len=120):\n",
    "#         self.df = df\n",
    "#         self.max_len = max_len\n",
    "#         self.tokenizer = tokenizer\n",
    "    \n",
    "#     def __len__(self):\n",
    "#         return len(self.df)\n",
    "\n",
    "#     def __getitem__(self, index):\n",
    "#         \"\"\"\n",
    "#         To customize dataset, inherit from Dataset class and implement\n",
    "#         __len__ & __getitem__\n",
    "#         __getitem__ should return \n",
    "#             data:\n",
    "#                 input_ids\n",
    "#                 attention_masks\n",
    "#                 text\n",
    "#                 targets\n",
    "#         \"\"\"\n",
    "#         row = self.df.iloc[index]\n",
    "#         text, label = self.get_input_data(row)\n",
    "\n",
    "#         # Encode_plus will:\n",
    "#         # (1) split text into token\n",
    "#         # (2) Add the '[CLS]' and '[SEP]' token to the start and end\n",
    "#         # (3) Truncate/Pad sentence to max length\n",
    "#         # (4) Map token to their IDS\n",
    "#         # (5) Create attention mask\n",
    "#         # (6) Return a dictionary of outputs\n",
    "#         encoding = self.tokenizer.encode_plus(\n",
    "#             text,\n",
    "#             truncation=True,\n",
    "#             add_special_tokens=True,\n",
    "#             max_length=self.max_len,\n",
    "#             padding='max_length',\n",
    "#             return_attention_mask=True,\n",
    "#             return_token_type_ids=False,\n",
    "#             return_tensors='pt',\n",
    "#         )\n",
    "        \n",
    "#         return {\n",
    "#             'text': text,\n",
    "#             'input_ids': encoding['input_ids'].flatten(),\n",
    "#             'attention_masks': encoding['attention_mask'].flatten(),\n",
    "#             'targets': torch.tensor(label, dtype=torch.long),\n",
    "#         }\n",
    "\n",
    "\n",
    "#     def labelencoder(self,text):\n",
    "#         if text=='positive':\n",
    "#             return 0\n",
    "#         else:\n",
    "#             return 1\n",
    "\n",
    "def get_input_data(self, row):\n",
    "    # Preprocessing: {remove icon, special character, lower}\n",
    "    text = row['sentence']\n",
    "    text = ' '.join(simple_preprocess(text))\n",
    "    label = self.labelencoder(row['sentiment'])\n",
    "    return text, label"
   ]
  },
  {
   "cell_type": "markdown",
   "metadata": {},
   "source": [
    "BERT works with fixed-length sequences. We’ll use a simple strategy to choose the max length."
   ]
  },
  {
   "cell_type": "code",
   "execution_count": 11,
   "metadata": {},
   "outputs": [
    {
     "data": {
      "text/plain": [
       "Text(0.5, 9.444444444444438, 'Token Count')"
      ]
     },
     "execution_count": 11,
     "metadata": {},
     "output_type": "execute_result"
    },
    {
     "data": {
      "image/png": "[encoded data removed]",
      "text/plain": [
       "<Figure size 500x500 with 1 Axes>"
      ]
     },
     "metadata": {},
     "output_type": "display_data"
    }
   ],
   "source": [
    "# Distribution of length of Sentence\n",
    "all_data = train_df.sentence.tolist() + test_df.sentence.tolist()\n",
    "all_data = [' '.join(simple_preprocess(text)) for text in all_data]\n",
    "encoded_text = [tokenizer.encode(text, add_special_tokens=True) for text in all_data]\n",
    "token_lens = [len(text) for text in encoded_text]\n",
    "sns.displot(token_lens)\n",
    "plt.xlim([0,max(token_lens)])\n",
    "plt.xlabel('Token Count')"
   ]
  },
  {
   "cell_type": "markdown",
   "metadata": {},
   "source": [
    "Choose a maximum of length of 60 is safe."
   ]
  },
  {
   "cell_type": "markdown",
   "metadata": {},
   "source": [
    "# Model"
   ]
  },
  {
   "cell_type": "code",
   "execution_count": 12,
   "metadata": {},
   "outputs": [],
   "source": [
    "class SentimentClassifier(nn.Module):\n",
    "    def __init__(self, n_classes):\n",
    "        super(SentimentClassifier, self).__init__()\n",
    "        self.bert = AutoModel.from_pretrained(\"vinai/phobert-base\")\n",
    "        self.drop = nn.Dropout(p=0.3)\n",
    "        self.fc = nn.Linear(self.bert.config.hidden_size, n_classes)\n",
    "        nn.init.normal_(self.fc.weight, std=0.02)\n",
    "        nn.init.normal_(self.fc.bias, 0)\n",
    "\n",
    "    def forward(self, input_ids, attention_mask):\n",
    "        last_hidden_state, output = self.bert(\n",
    "            input_ids=input_ids,\n",
    "            attention_mask=attention_mask,\n",
    "            return_dict=False # Dropout will errors if without this\n",
    "        )\n",
    "\n",
    "        x = self.drop(output)\n",
    "        x = self.fc(x)\n",
    "        return x"
   ]
  },
  {
   "cell_type": "markdown",
   "metadata": {},
   "source": [
    "# Train & Eval Function"
   ]
  },
  {
   "cell_type": "code",
   "execution_count": 13,
   "metadata": {},
   "outputs": [],
   "source": [
    "def train(model, criterion, optimizer, train_loader):\n",
    "    model.train()\n",
    "    losses = []\n",
    "    correct = 0\n",
    "\n",
    "    for data in train_loader:\n",
    "        input_ids = data['input_ids'].to(device)\n",
    "        attention_mask = data['attention_masks'].to(device)\n",
    "        targets = data['targets'].to(device)\n",
    "\n",
    "        optimizer.zero_grad()\n",
    "        outputs = model(\n",
    "            input_ids=input_ids,\n",
    "            attention_mask=attention_mask\n",
    "        )\n",
    "\n",
    "        loss = criterion(outputs, targets)\n",
    "        _, pred = torch.max(outputs, dim=1)\n",
    "\n",
    "        correct += torch.sum(pred == targets)\n",
    "        losses.append(loss.item())\n",
    "        loss.backward()\n",
    "        nn.utils.clip_grad_norm_(model.parameters(), max_norm=1.0)\n",
    "        optimizer.step()\n",
    "        lr_scheduler.step()\n",
    "\n",
    "    print(f'Train Accuracy: {correct.double()/len(train_loader.dataset)} Loss: {np.mean(losses)}')\n",
    "\n",
    "def eval(test_data = False):\n",
    "    model.eval()\n",
    "    losses = []\n",
    "    correct = 0\n",
    "\n",
    "    with torch.no_grad():\n",
    "        data_loader = test_loader if test_data else valid_loader\n",
    "        for data in data_loader:\n",
    "            input_ids = data['input_ids'].to(device)\n",
    "            attention_mask = data['attention_masks'].to(device)\n",
    "            targets = data['targets'].to(device)\n",
    "\n",
    "            outputs = model(\n",
    "                input_ids=input_ids,\n",
    "                attention_mask=attention_mask\n",
    "            )\n",
    "\n",
    "            _, pred = torch.max(outputs, dim=1)\n",
    "\n",
    "            loss = criterion(outputs, targets)\n",
    "            correct += torch.sum(pred == targets)\n",
    "            losses.append(loss.item())\n",
    "    \n",
    "    if test_data:\n",
    "        print(f'Test Accuracy: {correct.double()/len(test_loader.dataset)} Loss: {np.mean(losses)}')\n",
    "        return correct.double()/len(test_loader.dataset)\n",
    "    else:\n",
    "        print(f'Valid Accuracy: {correct.double()/len(valid_loader.dataset)} Loss: {np.mean(losses)}')\n",
    "        return correct.double()/len(valid_loader.dataset)"
   ]
  },
  {
   "cell_type": "markdown",
   "metadata": {},
   "source": [
    "# Training with K-Fold"
   ]
  },
  {
   "cell_type": "code",
   "execution_count": 14,
   "metadata": {},
   "outputs": [],
   "source": [
    "def prepare_loaders(df, fold):\n",
    "    df_train = train_df[train_df.kfold != fold].reset_index(drop=True)\n",
    "    df_valid = train_df[train_df.kfold == fold].reset_index(drop=True)\n",
    "    \n",
    "    train_dataset = SentimentDataset(df_train, tokenizer, max_len=120)\n",
    "    valid_dataset = SentimentDataset(df_valid, tokenizer, max_len=120)\n",
    "    \n",
    "    train_loader = DataLoader(train_dataset, batch_size=16, shuffle=True, num_workers=2)\n",
    "    valid_loader = DataLoader(valid_dataset, batch_size=16, shuffle=True, num_workers=2)\n",
    "    \n",
    "    return train_loader, valid_loader"
   ]
  },
  {
   "cell_type": "code",
   "execution_count": 15,
   "metadata": {},
   "outputs": [
    {
     "name": "stdout",
     "output_type": "stream",
     "text": [
      "True\n"
     ]
    }
   ],
   "source": [
    "print('kfold' in train_df.columns)"
   ]
  },
  {
   "cell_type": "code",
   "execution_count": null,
   "metadata": {},
   "outputs": [],
   "source": [
    "for fold in range(skf.n_splits):\n",
    "    print(f'-----------Fold: {fold+1} ------------------')\n",
    "    train_loader, valid_loader = prepare_loaders(train, fold=fold)\n",
    "    model = SentimentClassifier(n_classes=2).to(device)\n",
    "    criterion = nn.CrossEntropyLoss()\n",
    "    # Recommendation by BERT: lr: 5e-5, 2e-5, 3e-5\n",
    "    # Batchsize: 16, 32\n",
    "    optimizer = AdamW(model.parameters(), lr=2e-5)\n",
    "    \n",
    "    lr_scheduler = get_linear_schedule_with_warmup(\n",
    "                optimizer, \n",
    "                num_warmup_steps=0, \n",
    "                num_training_steps=len(train_loader)*EPOCHS\n",
    "            )\n",
    "    best_acc = 0\n",
    "    for epoch in range(EPOCHS):\n",
    "        print(f'Epoch {epoch+1}/{EPOCHS}')\n",
    "        print('-'*30)\n",
    "\n",
    "        train(model, criterion, optimizer, train_loader)\n",
    "        val_acc = eval()\n",
    "\n",
    "        if val_acc > best_acc:\n",
    "            torch.save(model.state_dict(), f'phobert_fold{fold+1}.pth')\n",
    "            best_acc = val_acc"
   ]
  },
  {
   "cell_type": "code",
   "execution_count": null,
   "metadata": {},
   "outputs": [],
   "source": [
    "def test(data_loader):\n",
    "    models = []\n",
    "    for fold in range(skf.n_splits):\n",
    "        model = SentimentClassifier(n_classes=7)\n",
    "        model.to(device)\n",
    "        model.load_state_dict(torch.load(f'phobert_fold{fold+1}.pth'))\n",
    "        model.eval()\n",
    "        models.append(model)\n",
    "\n",
    "    texts = []\n",
    "    predicts = []\n",
    "    predict_probs = []\n",
    "    real_values = []\n",
    "\n",
    "    for data in data_loader:\n",
    "        text = data['text']\n",
    "        input_ids = data['input_ids'].to(device)\n",
    "        attention_mask = data['attention_masks'].to(device)\n",
    "        targets = data['targets'].to(device)\n",
    "\n",
    "        total_outs = []\n",
    "        for model in models:\n",
    "            with torch.no_grad():\n",
    "                outputs = model(\n",
    "                    input_ids=input_ids,\n",
    "                    attention_mask=attention_mask\n",
    "                )\n",
    "                total_outs.append(outputs)\n",
    "        \n",
    "        total_outs = torch.stack(total_outs)\n",
    "        _, pred = torch.max(total_outs.mean(0), dim=1)\n",
    "        texts.extend(text)\n",
    "        predicts.extend(pred)\n",
    "        predict_probs.extend(total_outs.mean(0))\n",
    "        real_values.extend(targets)\n",
    "    \n",
    "    predicts = torch.stack(predicts).cpu()\n",
    "    predict_probs = torch.stack(predict_probs).cpu()\n",
    "    real_values = torch.stack(real_values).cpu()\n",
    "    print(classification_report(real_values, predicts))\n",
    "    return real_values, predicts"
   ]
  },
  {
   "cell_type": "code",
   "execution_count": null,
   "metadata": {},
   "outputs": [],
   "source": [
    "test_dataset = SentimentDataset(test_df, tokenizer, max_len=60)\n",
    "test_loader = DataLoader(test_dataset, batch_size=16, shuffle=True, num_workers=2)\n",
    "real_values, predicts = test(test_loader)"
   ]
  },
  {
   "cell_type": "markdown",
   "metadata": {},
   "source": [
    "# Heatmap between Predict and Ground Truth"
   ]
  },
  {
   "cell_type": "code",
   "execution_count": null,
   "metadata": {},
   "outputs": [],
   "source": [
    "class_names = ['negative', 'positive']\n",
    "sns.heatmap(confusion_matrix(real_values, predicts), annot=False, xticklabels = class_names, yticklabels = class_names)"
   ]
  },
  {
   "cell_type": "markdown",
   "metadata": {},
   "source": [
    "# Visualize Wrong Predicted Label"
   ]
  },
  {
   "cell_type": "code",
   "execution_count": null,
   "metadata": {},
   "outputs": [],
   "source": [
    "def check_wrong(real_values, predicts):\n",
    "    wrong_arr = []\n",
    "    wrong_label = []\n",
    "    for i in range(len(predicts)):\n",
    "        if predicts[i] != real_values[i]:\n",
    "            wrong_arr.append(i)\n",
    "            wrong_label.append(predicts[i])\n",
    "    return wrong_arr, wrong_label\n",
    "\n",
    "for i in range(15):\n",
    "    print('-'*50)\n",
    "    wrong_arr, wrong_label = check_wrong(real_values, predicts)\n",
    "    print(test_df.iloc[wrong_arr[i]].Sentence)\n",
    "    print(f'Predicted: ({class_names[wrong_label[i]]}) --vs-- Real label: ({class_names[real_values[wrong_arr[i]]]})')"
   ]
  },
  {
   "cell_type": "markdown",
   "metadata": {},
   "source": [
    "# Inference"
   ]
  },
  {
   "cell_type": "code",
   "execution_count": null,
   "metadata": {},
   "outputs": [],
   "source": [
    "def infer(text, tokenizer, max_len=120):\n",
    "    encoded_review = tokenizer.encode_plus(\n",
    "        text,\n",
    "        max_length=max_len,\n",
    "        truncation=True,\n",
    "        add_special_tokens=True,\n",
    "        padding='max_length',\n",
    "        return_attention_mask=True,\n",
    "        return_token_type_ids=False,\n",
    "        return_tensors='pt',\n",
    "    )\n",
    "\n",
    "    input_ids = encoded_review['input_ids'].to(device)\n",
    "    attention_mask = encoded_review['attention_mask'].to(device)\n",
    "\n",
    "    output = model(input_ids, attention_mask)\n",
    "    _, y_pred = torch.max(output, dim=1)\n",
    "\n",
    "    print(f'Text: {text}')\n",
    "    print(f'Sentiment: {class_names[y_pred]}')"
   ]
  },
  {
   "cell_type": "code",
   "execution_count": 7,
   "metadata": {},
   "outputs": [],
   "source": [
    "import os\n",
    "import re\n",
    "import torch\n",
    "import numpy as np\n",
    "import pandas as pd\n",
    "from underthesea import word_tokenize # Thư viện tách từ\n",
    "from sklearn.model_selection import train_test_split, GridSearchCV # Thư viện chia tách và tối ưu hóa dữ liệu\n",
    "from sklearn.svm import SVC\n",
    "from joblib import dump\n",
    "from transformers import AutoModel, AutoTokenizer # Thư viện BERT\n",
    "\n",
    "file_path = 'Comment_segement_OK.csv'\n",
    "os.environ[\"KMP_DUPLICATE_LIB_OK\"] = \"TRUE\"\n",
    "\n",
    "def load_bert():\n",
    "    model = AutoModel.from_pretrained(\"vinai/phobert-base\")\n",
    "    tokenizer = AutoTokenizer.from_pretrained(\"vinai/phobert-base\", use_fast=False)\n",
    "    return model, tokenizer\n",
    "\n",
    "def standardize_data(row):\n",
    "    row = re.sub(r\"[\\.,\\?]+$-\", \"\", row)\n",
    "    row = re.sub(r\"[,.;“:”\\\"'!?\\-]\", \" \", row)\n",
    "    return row.strip().lower()\n",
    "\n",
    "def load_stopwords(filepath=\"vietnamese-stopwords.txt\"):\n",
    "    with open(filepath, encoding='utf-8') as f:\n",
    "        stopwords = [line.strip() for line in f.readlines()]\n",
    "    return stopwords\n",
    "\n",
    "def load_data(filepath=file_path):\n",
    "    df = pd.read_csv(filepath, encoding='utf-8')\n",
    "    df['cleaned'] = df['sentence'].apply(standardize_data)\n",
    "    return df['cleaned'].values, df['sentiment'].values\n",
    "\n",
    "def make_bert_features(texts, tokenizer, model, max_len=60, stopwords=[]):\n",
    "    tokenized = []\n",
    "    for text in texts:\n",
    "        text = \" \".join([word for word in word_tokenize(text) if word not in stopwords])\n",
    "        encoded = tokenizer.encode(text, max_length=max_len, truncation=True, padding='max_length')\n",
    "        tokenized.append(encoded)\n",
    "\n",
    "    padded = np.array(tokenized)\n",
    "    attention_mask = np.where(padded != 1, 1, 0)\n",
    "\n",
    "    padded = torch.tensor(padded).to(torch.long)\n",
    "    attention_mask = torch.tensor(attention_mask)\n",
    "\n",
    "    with torch.no_grad():\n",
    "        last_hidden_states = model(input_ids=padded, attention_mask=attention_mask)\n",
    "    features = last_hidden_states[0][:, 0, :].numpy()\n",
    "    return features\n",
    "\n"
   ]
  },
  {
   "cell_type": "code",
   "execution_count": 8,
   "metadata": {},
   "outputs": [
    {
     "name": "stdout",
     "output_type": "stream",
     "text": [
      "Chuẩn bị nạp danh sách các từ vô nghĩa (stopwords)...\n",
      "Đã nạp xong danh sách các từ vô nghĩa\n",
      "Chuẩn bị nạp model BERT....\n",
      "Đã nạp xong model BERT.\n",
      "Chuẩn bị load dữ liệu....\n",
      "Đã load dữ liệu xong\n",
      "Chuẩn bị tạo features từ BERT.....\n"
     ]
    }
   ],
   "source": [
    "# Log messages\n",
    "print(\"Chuẩn bị nạp danh sách các từ vô nghĩa (stopwords)...\")\n",
    "sw = load_stopwords()\n",
    "print(\"Đã nạp xong danh sách các từ vô nghĩa\")\n",
    "\n",
    "print(\"Chuẩn bị nạp model BERT....\")\n",
    "phobert, tokenizer = load_bert()\n",
    "print(\"Đã nạp xong model BERT.\")\n",
    "\n",
    "print(\"Chuẩn bị load dữ liệu....\")\n",
    "text, label = load_data()\n",
    "print(\"Đã load dữ liệu xong\")\n",
    "\n",
    "print(\"Chuẩn bị tạo features từ BERT.....\")\n",
    "features = make_bert_features(text, tokenizer, phobert, stopwords=sw)\n",
    "print(\"Đã tạo xong features từ BERT\")"
   ]
  },
  {
   "cell_type": "code",
   "execution_count": null,
   "metadata": {},
   "outputs": [],
   "source": [
    "# Phân chia dữ liệu train, test\n",
    "X_train, X_test, y_train, y_test = train_test_split(features, label, test_size=0.2, random_state=86)\n",
    "\n",
    "\n",
    "parameters = {'kernel': ('linear', 'rbf'), 'C': [1, 2, 4], 'gamma': [0.125, 0.25, 0.5, 1, 2, 4]}\n",
    "from sklearn.model_selection import GridSearchCV\n",
    "clf = GridSearchCV(SVC(), param_grid=parameters)\n",
    "grid_search = clf.fit(X_train, y_train)\n",
    "\n",
    "print(\"Best score: %0.3f\" % grid_search.best_score_)\n",
    "print(grid_search.best_estimator_)\n",
    "\n",
    "# best prarams\n",
    "print('best prarams:', clf.best_params_)\n",
    "\n",
    "print(\"Chuẩn bị train model SVM....\")\n",
    "cl = SVC(kernel='linear', probability=True, gamma=0.125)\n",
    "cl.fit(features, label)\n",
    "\n",
    "sc = cl.score(X_test, y_test)\n",
    "print('Kết quả train model, độ chính xác = ', sc*100, '%')\n",
    "\n",
    "# Save model\n",
    "dump(cl, 'save_model.pkl')\n",
    "print(\"Đã lưu model SVM vào file save_model.pkl\")"
   ]
  },
  {
   "cell_type": "code",
   "execution_count": null,
   "metadata": {},
   "outputs": [],
   "source": []
  }
 ],
 "metadata": {
  "kernelspec": {
   "display_name": "Python 3",
   "language": "python",
   "name": "python3"
  },
  "language_info": {
   "codemirror_mode": {
    "name": "ipython",
    "version": 3
   },
   "file_extension": ".py",
   "mimetype": "text/x-python",
   "name": "python",
   "nbconvert_exporter": "python",
   "pygments_lexer": "ipython3",
   "version": "3.10.9"
  }
 },
 "nbformat": 4,
 "nbformat_minor": 2
}
