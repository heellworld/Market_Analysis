{
 "cells": [
  {
   "cell_type": "code",
   "execution_count": 1,
   "metadata": {},
   "outputs": [
    {
     "name": "stderr",
     "output_type": "stream",
     "text": [
      "C:\\Users\\HELLO\\AppData\\Local\\Temp\\ipykernel_69492\\3506367153.py:4: DtypeWarning: Columns (6,13) have mixed types. Specify dtype option on import or set low_memory=False.\n",
      "  smartphones_df = pd.read_csv(r\"D:\\projects\\Cap1\\phoBERT\\phoBERT\\TXL_Smarphone.csv\")\n"
     ]
    }
   ],
   "source": [
    "import pandas as pd\n",
    "\n",
    "# Đọc dữ liệu từ file CSV chính\n",
    "smartphones_df = pd.read_csv(r\"D:\\projects\\Cap1\\phoBERT\\phoBERT\\TXL_Smarphone.csv\")\n",
    "\n",
    "# Chắc chắn tất cả các mục trong cột content_cmt là chuỗi\n",
    "smartphones_df['content_cmt'] = smartphones_df['content_cmt'].astype(str)\n",
    "\n",
    "# Hàm để tìm kiếm và trích xuất các thuộc tính trong bình luận\n",
    "def extract_attributes(comment, attributes):\n",
    "    found_attributes = []\n",
    "    for attribute in attributes:\n",
    "        if attribute in comment.lower():\n",
    "            found_attributes.append(attribute)\n",
    "    return found_attributes\n",
    "\n",
    "# Xử lý từng loại thuộc tính\n",
    "for file_name, column_name in [('tach_thông_số.csv', 'parameter'),\n",
    "                               ('tach_dịch_vụ.csv', 'service'),\n",
    "                               ('tach_thuộc_tính.csv', 'properties')]:\n",
    "    # Đọc file thuộc tính\n",
    "    attributes_df = pd.read_csv(rf\"D:\\projects\\Cap1\\phoBERT\\phoBERT\\{file_name}\")\n",
    "    attributes = set(attributes_df['N'].str.lower().tolist())\n",
    "\n",
    "    # Áp dụng hàm tìm kiếm cho mỗi dòng\n",
    "    smartphones_df[column_name] = smartphones_df['content_cmt'].apply(lambda x: extract_attributes(x, attributes))\n",
    "\n",
    "# Mở rộng các dòng nơi có nhiều thuộc tính được tìm thấy cho mỗi cột mới\n",
    "def expand_rows(df, column_name):\n",
    "    expanded_rows = []\n",
    "    for index, row in df.iterrows():\n",
    "        if len(row[column_name]) > 1:\n",
    "            for attr in row[column_name]:\n",
    "                new_row = row.copy()\n",
    "                new_row[column_name] = attr\n",
    "                expanded_rows.append(new_row)\n",
    "        else:\n",
    "            row[column_name] = row[column_name][0] if row[column_name] else None\n",
    "            expanded_rows.append(row)\n",
    "    return expanded_rows\n",
    "\n",
    "# Áp dụng mở rộng cho từng cột\n",
    "for column_name in ['parameter', 'service', 'properties']:\n",
    "    smartphones_df = pd.DataFrame(expand_rows(smartphones_df, column_name))\n",
    "\n",
    "# Lưu DataFrame mở rộng vào một file CSV mới\n",
    "output_path = r'D:\\projects\\Cap1\\phoBERT\\phoBERT\\Processed_TXL_Smartphones.csv'\n",
    "smartphones_df.to_csv(output_path, index=False, encoding='utf-8-sig')\n"
   ]
  },
  {
   "cell_type": "code",
   "execution_count": 2,
   "metadata": {},
   "outputs": [
    {
     "name": "stderr",
     "output_type": "stream",
     "text": [
      "C:\\Users\\HELLO\\AppData\\Local\\Temp\\ipykernel_84040\\3518156941.py:4: DtypeWarning: Columns (4,5,6,13) have mixed types. Specify dtype option on import or set low_memory=False.\n",
      "  smartphones_df = pd.read_csv(r\"D:\\projects\\Cap1\\phoBERT\\phoBERT\\TXL_Smarphone.csv\")\n"
     ]
    }
   ],
   "source": [
    "import pandas as pd\n",
    "# Đọc dữ liệu từ các file CSV\n",
    "attributes_df = pd.read_csv(r\"D:\\projects\\Cap1\\phoBERT\\phoBERT\\tach_dịch_vụ.csv\")\n",
    "smartphones_df = pd.read_csv(r\"D:\\projects\\Cap1\\phoBERT\\phoBERT\\TXL_Smarphone.csv\")\n",
    "\n",
    "# Chắc chắn tất cả các mục trong cột content_cmt là chuỗi\n",
    "smartphones_df['content_cmt'] = smartphones_df['content_cmt'].astype(str)\n",
    "\n",
    "# Chuyển đổi danh sách thuộc tính thành tập hợp để tìm kiếm hiệu quả\n",
    "attributes = set(attributes_df['N'].str.lower().tolist())\n",
    "\n",
    "# Hàm để tìm kiếm và trích xuất các thuộc tính trong bình luận\n",
    "def extract_attributes(comment):\n",
    "    found_attributes = []\n",
    "    for attribute in attributes:\n",
    "        if attribute in comment.lower():\n",
    "            found_attributes.append(attribute)\n",
    "    return found_attributes\n",
    "\n",
    "# Áp dụng hàm cho mỗi dòng trong DataFrame\n",
    "smartphones_df['service'] = smartphones_df['content_cmt'].apply(extract_attributes)\n",
    "\n",
    "# Mở rộng các dòng nơi có nhiều thuộc tính được tìm thấy\n",
    "expanded_rows = []\n",
    "for index, row in smartphones_df.iterrows():\n",
    "    if len(row['service']) > 1:\n",
    "        for attr in row['service']:\n",
    "            new_row = row.copy()\n",
    "            new_row['service'] = attr\n",
    "            expanded_rows.append(new_row)\n",
    "    else:\n",
    "        row['service'] = row['service'][0] if row['service'] else None\n",
    "        expanded_rows.append(row)\n",
    "\n",
    "# Tạo một DataFrame mới từ các dòng mở rộng\n",
    "expanded_df = pd.DataFrame(expanded_rows)\n",
    "\n",
    "# Lưu DataFrame mở rộng vào một file CSV mới\n",
    "output_path = 'Processed_TXL_Smartphones.csv'\n",
    "expanded_df.to_csv(output_path, index=False, encoding='utf-8-sig')"
   ]
  },
  {
   "cell_type": "code",
   "execution_count": 3,
   "metadata": {},
   "outputs": [
    {
     "name": "stderr",
     "output_type": "stream",
     "text": [
      "C:\\Users\\HELLO\\AppData\\Local\\Temp\\ipykernel_84040\\385442759.py:4: DtypeWarning: Columns (4,5,6,13) have mixed types. Specify dtype option on import or set low_memory=False.\n",
      "  smartphones_df = pd.read_csv(r\"D:\\projects\\Cap1\\phoBERT\\phoBERT\\TXL_Smarphone.csv\")\n"
     ]
    }
   ],
   "source": [
    "import pandas as pd\n",
    "# Đọc dữ liệu từ các file CSV\n",
    "attributes_df = pd.read_csv(r\"D:\\projects\\Cap1\\phoBERT\\phoBERT\\tach_thuộc_tính.csv\")\n",
    "smartphones_df = pd.read_csv(r\"D:\\projects\\Cap1\\phoBERT\\phoBERT\\TXL_Smarphone.csv\")\n",
    "\n",
    "# Chắc chắn tất cả các mục trong cột content_cmt là chuỗi\n",
    "smartphones_df['content_cmt'] = smartphones_df['content_cmt'].astype(str)\n",
    "\n",
    "# Chuyển đổi danh sách thuộc tính thành tập hợp để tìm kiếm hiệu quả\n",
    "attributes = set(attributes_df['N'].str.lower().tolist())\n",
    "\n",
    "# Hàm để tìm kiếm và trích xuất các thuộc tính trong bình luận\n",
    "def extract_attributes(comment):\n",
    "    found_attributes = []\n",
    "    for attribute in attributes:\n",
    "        if attribute in comment.lower():\n",
    "            found_attributes.append(attribute)\n",
    "    return found_attributes\n",
    "\n",
    "# Áp dụng hàm cho mỗi dòng trong DataFrame\n",
    "smartphones_df['properties'] = smartphones_df['content_cmt'].apply(extract_attributes)\n",
    "\n",
    "# Mở rộng các dòng nơi có nhiều thuộc tính được tìm thấy\n",
    "expanded_rows = []\n",
    "for index, row in smartphones_df.iterrows():\n",
    "    if len(row['properties']) > 1:\n",
    "        for attr in row['properties']:\n",
    "            new_row = row.copy()\n",
    "            new_row['properties'] = attr\n",
    "            expanded_rows.append(new_row)\n",
    "    else:\n",
    "        row['properties'] = row['properties'][0] if row['properties'] else None\n",
    "        expanded_rows.append(row)\n",
    "\n",
    "# Tạo một DataFrame mới từ các dòng mở rộng\n",
    "expanded_df = pd.DataFrame(expanded_rows)\n",
    "\n",
    "# Lưu DataFrame mở rộng vào một file CSV mới\n",
    "output_path = 'Processed_TXL_Smartphones.csv'\n",
    "expanded_df.to_csv(output_path, index=False, encoding='utf-8-sig')"
   ]
  }
 ],
 "metadata": {
  "kernelspec": {
   "display_name": "Python 3",
   "language": "python",
   "name": "python3"
  },
  "language_info": {
   "codemirror_mode": {
    "name": "ipython",
    "version": 3
   },
   "file_extension": ".py",
   "mimetype": "text/x-python",
   "name": "python",
   "nbconvert_exporter": "python",
   "pygments_lexer": "ipython3",
   "version": "3.10.9"
  }
 },
 "nbformat": 4,
 "nbformat_minor": 2
}
